{
  "nbformat": 4,
  "nbformat_minor": 0,
  "metadata": {
    "colab": {
      "name": "python_8_EstructuraDeDatos.ipynb",
      "provenance": [],
      "collapsed_sections": [],
      "authorship_tag": "ABX9TyNtr35JZnwECniMGKotCMDP",
      "include_colab_link": true
    },
    "kernelspec": {
      "name": "python3",
      "display_name": "Python 3"
    },
    "language_info": {
      "name": "python"
    }
  },
  "cells": [
    {
      "cell_type": "markdown",
      "metadata": {
        "id": "view-in-github",
        "colab_type": "text"
      },
      "source": [
        "<a href=\"https://colab.research.google.com/github/carrkarr/python_ini/blob/main/python_8_EstructuraDeDatos.ipynb\" target=\"_parent\"><img src=\"https://colab.research.google.com/assets/colab-badge.svg\" alt=\"Open In Colab\"/></a>"
      ]
    },
    {
      "cell_type": "markdown",
      "source": [
        "***Estructuras de Datos en Python***\n",
        "\n",
        "En pytho tenemos las estructuras\n",
        "\n",
        "Primitivas\n",
        "\n",
        "  Integer\n",
        "\n",
        "  Float\n",
        "\n",
        "  String\n",
        "\n",
        "  Boolean\n",
        "\n",
        "Que ya henos visto.\n",
        "\n",
        "Ahora nos centraremos en las \n",
        "\n",
        "NO  Primitivas\n",
        "\n",
        "    Listas - List\n",
        "    Tuplas - Tuples\n",
        "    Diccionarios - Dictionaries\n",
        "    Comjunto    - Set\n",
        "    Archivo -File\n",
        "\n",
        "Una estructura de datos es la forma de trabajar con un gran volumen de datos de una manera eficiente.\n",
        "\n",
        "**¿Qué es List?**\n",
        "\n",
        "Las listas permiten almacenar objetos mediante un orden definido y con posibilidad de duplicados. Las listas son estructuras de datos mutables, lo que significa que podemos añadir, eliminar o modificar sus elementos. \n",
        "\n",
        "Una lista es un contenedor de Python **ordenado y mutable** , que es una de las estructuras de datos más comunes en Python. Para crear una lista, los elementos se colocan entre corchetes, separados por comas. Ya hemos visto un poco de ello en temas anteriores."
      ],
      "metadata": {
        "id": "hPTESO2sjLrD"
      }
    },
    {
      "cell_type": "code",
      "execution_count": 7,
      "metadata": {
        "colab": {
          "base_uri": "https://localhost:8080/"
        },
        "id": "MG5nkRH9i7aZ",
        "outputId": "a82094cc-e24a-4801-b432-99ebde43cadf"
      },
      "outputs": [
        {
          "output_type": "stream",
          "name": "stdout",
          "text": [
            "[]\n",
            "[1, 2, 3, 4, 5, 6]\n",
            "[1, 'C', 'B', 1, 5, 6]\n",
            "[1, 'C', ['B', 1, 5], 6]\n"
          ]
        }
      ],
      "source": [
        "# list is an ordered and mutable Python container\n",
        "# the elements are placed inside square brackets,separated by commas\n",
        "\n",
        "empty_list = []\n",
        "print(empty_list)\n",
        "\n",
        "lista = [1,2,3,4,5,6]\n",
        "print(lista)\n",
        "\n",
        "lista = [1,'C','B',1,5,6]\n",
        "print(lista)\n",
        "\n",
        "# La lista puede contener otra lista o tupla u otro tipo de estructura\n",
        "lista = [1,'C',['B',1,5],6]\n",
        "print(lista)\n"
      ]
    },
    {
      "cell_type": "code",
      "source": [
        "# Conversión\n",
        "# Para convertir otros tipos de datos en una lista podemos usar la función list():\n",
        "lista = list ('Python')\n",
        "print(lista)\n"
      ],
      "metadata": {
        "colab": {
          "base_uri": "https://localhost:8080/"
        },
        "id": "moocZNA3-yQ4",
        "outputId": "7aed9d90-93c7-4a4b-8258-7f1c9c967bd6"
      },
      "execution_count": 8,
      "outputs": [
        {
          "output_type": "stream",
          "name": "stdout",
          "text": [
            "['P', 'y', 't', 'h', 'o', 'n']\n"
          ]
        }
      ]
    },
    {
      "cell_type": "code",
      "source": [
        "# Obtener un elemento de una lista\n",
        "\n",
        "'''\n",
        "Igual que en el caso de las cadenas de texto, \n",
        "podemos obtener un elemento de una lista \n",
        "a través del índice (lugar) que ocupa. \n",
        "Veamos un ejemplo:\n",
        "'''\n",
        "estados = ['CDMX','HIDALGO', 'SAN LUIS POTOSÍ', 'TAMAULIPAS']\n",
        "\n",
        "print (estados[0])\n",
        "print (estados[2])\n",
        "\n",
        "print (estados[-2])\n",
        "print (estados[-1])\n",
        "\n",
        "# Descomente para ver el error\n",
        "# Marca error por que el índice = 4 no esta en la lista\n",
        "\n",
        "#print (estados[4]) \n"
      ],
      "metadata": {
        "colab": {
          "base_uri": "https://localhost:8080/"
        },
        "id": "XSxuei7O_jYL",
        "outputId": "ad5aa26c-d751-4c62-8a11-365559cb304b"
      },
      "execution_count": 12,
      "outputs": [
        {
          "output_type": "stream",
          "name": "stdout",
          "text": [
            "CDMX\n",
            "SAN LUIS POTOSÍ\n",
            "SAN LUIS POTOSÍ\n",
            "TAMAULIPAS\n"
          ]
        }
      ]
    },
    {
      "cell_type": "code",
      "source": [
        "# Tomar parte de  una lista\n",
        "# Sublista de una lista\n",
        "# Funciona de manera totalmente análoga al troceado (Tomar parte) de cadenas. \n",
        "# Veamos algunos ejemplos:\n",
        "\n",
        "estados = ['CDMX','HIDALGO', 'SAN LUIS POTOSÍ', 'TAMAULIPAS','TABASCO','CHIAPAS']\n",
        "\n",
        "# Obsrva como  excluye la posición indice = 3\n",
        "print (estados[0:3])\n",
        "print (estados[:3])\n",
        "\n",
        "print (estados[2:4])\n",
        "\n",
        "# Toma una sublista e invierte el orden\n",
        "print (estados[-1:-4:-1])\n",
        "\n",
        "# Toda la lista\n",
        "print (estados[:])\n",
        "print (estados[::])\n",
        "\n",
        "# Invierte toda la lista\n",
        "print (estados[::-1])\n",
        "\n"
      ],
      "metadata": {
        "colab": {
          "base_uri": "https://localhost:8080/"
        },
        "id": "NHzwHWt7GoWy",
        "outputId": "36635fbf-268a-4bd1-87fb-5e0d38e5ae53"
      },
      "execution_count": 26,
      "outputs": [
        {
          "output_type": "stream",
          "name": "stdout",
          "text": [
            "['CDMX', 'HIDALGO', 'SAN LUIS POTOSÍ']\n",
            "['CDMX', 'HIDALGO', 'SAN LUIS POTOSÍ']\n",
            "['SAN LUIS POTOSÍ', 'TAMAULIPAS']\n",
            "['CHIAPAS', 'TABASCO', 'TAMAULIPAS']\n",
            "['CDMX', 'HIDALGO', 'SAN LUIS POTOSÍ', 'TAMAULIPAS', 'TABASCO', 'CHIAPAS']\n",
            "['CDMX', 'HIDALGO', 'SAN LUIS POTOSÍ', 'TAMAULIPAS', 'TABASCO', 'CHIAPAS']\n",
            "['CHIAPAS', 'TABASCO', 'TAMAULIPAS', 'SAN LUIS POTOSÍ', 'HIDALGO', 'CDMX']\n"
          ]
        }
      ]
    },
    {
      "cell_type": "code",
      "source": [
        "estados = ['CDMX','HIDALGO', 'SAN LUIS POTOSÍ', 'TAMAULIPAS','TABASCO','CHIAPAS']\n",
        "\n",
        "# Observa el comportamiento\n",
        "\n",
        "print (estados[::])\n",
        "# Toma toda la lista uno por uno, por eso da toda la lista\n",
        "print (estados[::1])\n",
        "# Toma la lista de dos en dos. a partir del cero salta dos y lo toma, asi sucesivamente\n",
        "print (estados[::2])\n",
        "# Toma la lista de dos en dos. a partir del cero salta tres y lo toma, asi sucesivamente\n",
        "print (estados[::3])\n",
        "\n",
        "print (estados[::4])\n",
        "print (estados[::5])"
      ],
      "metadata": {
        "colab": {
          "base_uri": "https://localhost:8080/"
        },
        "id": "KEINTXgpUYwi",
        "outputId": "c992821e-86a4-4d31-e00b-cf1dfddc9c89"
      },
      "execution_count": 34,
      "outputs": [
        {
          "output_type": "stream",
          "name": "stdout",
          "text": [
            "['CDMX', 'HIDALGO', 'SAN LUIS POTOSÍ', 'TAMAULIPAS', 'TABASCO', 'CHIAPAS']\n",
            "['CDMX', 'HIDALGO', 'SAN LUIS POTOSÍ', 'TAMAULIPAS', 'TABASCO', 'CHIAPAS']\n",
            "['CDMX', 'SAN LUIS POTOSÍ', 'TABASCO']\n",
            "['CDMX', 'TAMAULIPAS']\n",
            "['CDMX', 'TABASCO']\n",
            "['CDMX', 'CHIAPAS']\n"
          ]
        }
      ]
    }
  ]
}