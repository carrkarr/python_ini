{
  "nbformat": 4,
  "nbformat_minor": 0,
  "metadata": {
    "colab": {
      "name": "python_8_EstructuraDeDatos_Listas.ipynb",
      "provenance": [],
      "collapsed_sections": [],
      "authorship_tag": "ABX9TyM8IDDe8lC212nkRq/Bh4uN",
      "include_colab_link": true
    },
    "kernelspec": {
      "name": "python3",
      "display_name": "Python 3"
    },
    "language_info": {
      "name": "python"
    }
  },
  "cells": [
    {
      "cell_type": "markdown",
      "metadata": {
        "id": "view-in-github",
        "colab_type": "text"
      },
      "source": [
        "<a href=\"https://colab.research.google.com/github/carrkarr/python_ini/blob/main/python_8_EstructuraDeDatos_Listas.ipynb\" target=\"_parent\"><img src=\"https://colab.research.google.com/assets/colab-badge.svg\" alt=\"Open In Colab\"/></a>"
      ]
    },
    {
      "cell_type": "markdown",
      "source": [
        "***Estructuras de Datos en Python***\n",
        "\n",
        "En pytho tenemos las estructuras\n",
        "\n",
        "***Primitivas***\n",
        "\n",
        "  Integer\n",
        "\n",
        "  Float\n",
        "\n",
        "  String\n",
        "\n",
        "  Boolean\n",
        "\n",
        "Que ya hemos visto.\n",
        "\n",
        "Ahora nos centraremos en las \n",
        "\n",
        "***NO  Primitivas***\n",
        "\n",
        "    Listas - List\n",
        "    Tuplas - Tuples\n",
        "    Diccionarios - Dictionaries\n",
        "    Comjunto    - Set\n",
        "    Archivo -File\n",
        "\n",
        "Una estructura de datos es la forma de trabajar con un gran volumen de datos de una manera eficiente.\n",
        "\n",
        "**¿Qué es List?**\n",
        "\n",
        "Las listas permiten almacenar objetos mediante un orden definido y con posibilidad de duplicados. Las listas son estructuras de datos mutables, lo que significa que podemos añadir, eliminar o modificar sus elementos. \n",
        "\n",
        "Una lista es un contenedor de Python **ordenado y mutable** , que es una de las estructuras de datos más comunes en Python. Para crear una lista, los elementos se colocan entre corchetes, separados por comas. Ya hemos visto un poco de ello en temas anteriores."
      ],
      "metadata": {
        "id": "hPTESO2sjLrD"
      }
    },
    {
      "cell_type": "code",
      "execution_count": 7,
      "metadata": {
        "colab": {
          "base_uri": "https://localhost:8080/"
        },
        "id": "MG5nkRH9i7aZ",
        "outputId": "a82094cc-e24a-4801-b432-99ebde43cadf"
      },
      "outputs": [
        {
          "output_type": "stream",
          "name": "stdout",
          "text": [
            "[]\n",
            "[1, 2, 3, 4, 5, 6]\n",
            "[1, 'C', 'B', 1, 5, 6]\n",
            "[1, 'C', ['B', 1, 5], 6]\n"
          ]
        }
      ],
      "source": [
        "# list is an ordered and mutable Python container\n",
        "# the elements are placed inside square brackets,separated by commas\n",
        "\n",
        "empty_list = []\n",
        "print(empty_list)\n",
        "\n",
        "lista = [1,2,3,4,5,6]\n",
        "print(lista)\n",
        "\n",
        "lista = [1,'C','B',1,5,6]\n",
        "print(lista)\n",
        "\n",
        "# La lista puede contener otra lista o tupla u otro tipo de estructura\n",
        "lista = [1,'C',['B',1,5],6]\n",
        "print(lista)\n"
      ]
    },
    {
      "cell_type": "code",
      "source": [
        "# Conversión\n",
        "# Para convertir otros tipos de datos en una lista podemos usar la función list():\n",
        "lista = list ('Python')\n",
        "print(lista)\n"
      ],
      "metadata": {
        "colab": {
          "base_uri": "https://localhost:8080/"
        },
        "id": "moocZNA3-yQ4",
        "outputId": "7aed9d90-93c7-4a4b-8258-7f1c9c967bd6"
      },
      "execution_count": 8,
      "outputs": [
        {
          "output_type": "stream",
          "name": "stdout",
          "text": [
            "['P', 'y', 't', 'h', 'o', 'n']\n"
          ]
        }
      ]
    },
    {
      "cell_type": "code",
      "source": [
        "# Obtener un elemento de una lista\n",
        "\n",
        "'''\n",
        "Igual que en el caso de las cadenas de texto, \n",
        "podemos obtener un elemento de una lista \n",
        "a través del índice (lugar) que ocupa. \n",
        "Veamos un ejemplo:\n",
        "'''\n",
        "estados = ['CDMX','HIDALGO', 'SAN LUIS POTOSÍ', 'TAMAULIPAS']\n",
        "\n",
        "print (estados[0])\n",
        "print (estados[2])\n",
        "\n",
        "print (estados[-2])\n",
        "print (estados[-1])\n",
        "\n",
        "# Descomente para ver el error\n",
        "# Marca error por que el índice = 4 no esta en la lista\n",
        "\n",
        "#print (estados[4]) \n"
      ],
      "metadata": {
        "colab": {
          "base_uri": "https://localhost:8080/"
        },
        "id": "XSxuei7O_jYL",
        "outputId": "ad5aa26c-d751-4c62-8a11-365559cb304b"
      },
      "execution_count": 12,
      "outputs": [
        {
          "output_type": "stream",
          "name": "stdout",
          "text": [
            "CDMX\n",
            "SAN LUIS POTOSÍ\n",
            "SAN LUIS POTOSÍ\n",
            "TAMAULIPAS\n"
          ]
        }
      ]
    },
    {
      "cell_type": "code",
      "source": [
        "# Tomar parte de  una lista\n",
        "# Sublista de una lista\n",
        "# Funciona de manera totalmente análoga al troceado (Tomar parte) de cadenas. \n",
        "# Veamos algunos ejemplos:\n",
        "\n",
        "estados = ['CDMX','HIDALGO', 'SAN LUIS POTOSÍ', 'TAMAULIPAS','TABASCO','CHIAPAS']\n",
        "\n",
        "# Obsrva como  excluye la posición indice = 3\n",
        "print (estados[0:3])\n",
        "print (estados[:3])\n",
        "\n",
        "print (estados[2:4])\n",
        "\n",
        "# Toma una sublista e invierte el orden\n",
        "print (estados[-1:-4:-1])\n",
        "\n",
        "# Toda la lista\n",
        "print (estados[:])\n",
        "print (estados[::])\n",
        "\n",
        "# Invierte toda la lista\n",
        "print (estados[::-1])\n",
        "\n"
      ],
      "metadata": {
        "colab": {
          "base_uri": "https://localhost:8080/"
        },
        "id": "NHzwHWt7GoWy",
        "outputId": "36635fbf-268a-4bd1-87fb-5e0d38e5ae53"
      },
      "execution_count": 26,
      "outputs": [
        {
          "output_type": "stream",
          "name": "stdout",
          "text": [
            "['CDMX', 'HIDALGO', 'SAN LUIS POTOSÍ']\n",
            "['CDMX', 'HIDALGO', 'SAN LUIS POTOSÍ']\n",
            "['SAN LUIS POTOSÍ', 'TAMAULIPAS']\n",
            "['CHIAPAS', 'TABASCO', 'TAMAULIPAS']\n",
            "['CDMX', 'HIDALGO', 'SAN LUIS POTOSÍ', 'TAMAULIPAS', 'TABASCO', 'CHIAPAS']\n",
            "['CDMX', 'HIDALGO', 'SAN LUIS POTOSÍ', 'TAMAULIPAS', 'TABASCO', 'CHIAPAS']\n",
            "['CHIAPAS', 'TABASCO', 'TAMAULIPAS', 'SAN LUIS POTOSÍ', 'HIDALGO', 'CDMX']\n"
          ]
        }
      ]
    },
    {
      "cell_type": "code",
      "source": [
        "estados = ['CDMX','HIDALGO', 'SAN LUIS POTOSÍ', 'TAMAULIPAS','TABASCO','CHIAPAS']\n",
        "\n",
        "# Observa el comportamiento\n",
        "\n",
        "print (estados[::])\n",
        "# Toma toda la lista uno por uno, por eso da toda la lista\n",
        "print (estados[::1])\n",
        "# Toma la lista de dos en dos. a partir del cero salta dos y lo toma, asi sucesivamente\n",
        "print (estados[::2])\n",
        "# Toma la lista de dos en dos. a partir del cero salta tres y lo toma, asi sucesivamente\n",
        "print (estados[::3])\n",
        "\n",
        "print (estados[::4])\n",
        "print (estados[::5])"
      ],
      "metadata": {
        "colab": {
          "base_uri": "https://localhost:8080/"
        },
        "id": "KEINTXgpUYwi",
        "outputId": "c992821e-86a4-4d31-e00b-cf1dfddc9c89"
      },
      "execution_count": 34,
      "outputs": [
        {
          "output_type": "stream",
          "name": "stdout",
          "text": [
            "['CDMX', 'HIDALGO', 'SAN LUIS POTOSÍ', 'TAMAULIPAS', 'TABASCO', 'CHIAPAS']\n",
            "['CDMX', 'HIDALGO', 'SAN LUIS POTOSÍ', 'TAMAULIPAS', 'TABASCO', 'CHIAPAS']\n",
            "['CDMX', 'SAN LUIS POTOSÍ', 'TABASCO']\n",
            "['CDMX', 'TAMAULIPAS']\n",
            "['CDMX', 'TABASCO']\n",
            "['CDMX', 'CHIAPAS']\n"
          ]
        }
      ]
    },
    {
      "cell_type": "code",
      "source": [
        "# Con este ejmplo tal vez qude más claro el ejemplo anterior\n",
        "numeros = [1,2,3,4,5,6]\n",
        "\n",
        "# Observa el comportamiento\n",
        "\n",
        "print (numeros[::])\n",
        "# Toma toda la lista uno por uno, por eso da toda la lista\n",
        "print (numeros[::1])\n",
        "# Toma la lista de dos en dos. a partir del cero salta dos y lo toma, asi sucesivamente\n",
        "print (numeros[::2])\n",
        "# Toma la lista de dos en dos. a partir del cero salta tres y lo toma, asi sucesivamente\n",
        "print (numeros[::3])\n",
        "\n",
        "print (numeros[::4])\n",
        "print (numeros[::5])\n",
        "\n",
        "# Se sale del rango , pero no marca error, simplemente no nos da un valor final, sólo el inicial\n",
        "print (numeros[::6])\n",
        "# Se sale del rango , pero no marca error, simplemente no nos da un valor final, sólo el inicial\n",
        "print (numeros[::7])"
      ],
      "metadata": {
        "colab": {
          "base_uri": "https://localhost:8080/"
        },
        "outputId": "f609fe56-faae-480c-bc97-edde39d012a4",
        "id": "8XCNx4AxY3pA"
      },
      "execution_count": 38,
      "outputs": [
        {
          "output_type": "stream",
          "name": "stdout",
          "text": [
            "[1, 2, 3, 4, 5, 6]\n",
            "[1, 2, 3, 4, 5, 6]\n",
            "[1, 3, 5]\n",
            "[1, 4]\n",
            "[1, 5]\n",
            "[1, 6]\n",
            "[1]\n",
            "[1]\n"
          ]
        }
      ]
    },
    {
      "cell_type": "markdown",
      "source": [
        "NOTA:\n",
        "En el troceado (obtener una sublista de una lista )  de listas, a diferencia de lo que ocurre al obtener elementos, no debemos preocuparnos por acceder a índices inválidos (fuera de rango) ya que Python los restringirá a los límites de la lista.\n",
        "\n",
        "Ninguna de las operaciones anteriores modifican la lista original, simplemente devuelven una lista nueva."
      ],
      "metadata": {
        "id": "RA3n-DFEa9YS"
      }
    },
    {
      "cell_type": "markdown",
      "source": [
        "***Invertir una lista***\n",
        "\n",
        "Python nos ofrece, al menos, tres mecanismos para invertir los elementos de una lista:\n",
        "\n",
        "***Conservando la lista original:***\n",
        "\n",
        "    Mediante troceado(Sublista de la lista) de listas con step negativo, como lo hemos ya hecho:"
      ],
      "metadata": {
        "id": "P4s3jg2Bi2Ap"
      }
    },
    {
      "cell_type": "code",
      "source": [
        "estados = ['CDMX','HIDALGO', 3, 4,'TABASCO','CHIAPAS']\n",
        "numeros = [1,2,3,4,5,6]\n",
        "\n",
        "# Despleagmos antes de ser manipulados\n",
        "print (estados)\n",
        "print (numeros)\n",
        "\n",
        "# Invierte toda la lista\n",
        "print (estados[::-1])\n",
        "\n",
        "# Invierte toda la lista\n",
        "print (numeros[::-1])\n",
        "\n",
        "# Despleagmos  despues de ser manipulados y vemos que no cambio\n",
        "print (estados)\n",
        "print (numeros)"
      ],
      "metadata": {
        "colab": {
          "base_uri": "https://localhost:8080/"
        },
        "id": "khlgrmUcjYbp",
        "outputId": "0339b2a4-386b-4223-c470-c963023c03a2"
      },
      "execution_count": 50,
      "outputs": [
        {
          "output_type": "stream",
          "name": "stdout",
          "text": [
            "['CDMX', 'HIDALGO', 3, 4, 'TABASCO', 'CHIAPAS']\n",
            "[1, 2, 3, 4, 5, 6]\n",
            "['CHIAPAS', 'TABASCO', 4, 3, 'HIDALGO', 'CDMX']\n",
            "[6, 5, 4, 3, 2, 1]\n",
            "['CDMX', 'HIDALGO', 3, 4, 'TABASCO', 'CHIAPAS']\n",
            "[1, 2, 3, 4, 5, 6]\n"
          ]
        }
      ]
    },
    {
      "cell_type": "markdown",
      "source": [
        "***Conservando la lista original:***\n",
        "\n",
        "    Mediante la función reversed():"
      ],
      "metadata": {
        "id": "1Ts5-BhKlBYs"
      }
    },
    {
      "cell_type": "code",
      "source": [
        "\n",
        "estados = ['CDMX','HIDALGO', 3, 4,'TABASCO','CHIAPAS']\n",
        "print (estados)\n",
        "print (list(reversed(estados)))\n",
        "# Vemos que no cambio\n",
        "print (estados)\n"
      ],
      "metadata": {
        "colab": {
          "base_uri": "https://localhost:8080/"
        },
        "id": "duodn4CBlH7F",
        "outputId": "4aa15fca-7b24-463d-a657-f2586ca3fe2b"
      },
      "execution_count": 49,
      "outputs": [
        {
          "output_type": "stream",
          "name": "stdout",
          "text": [
            "['CDMX', 'HIDALGO', 3, 4, 'TABASCO', 'CHIAPAS']\n",
            "['CHIAPAS', 'TABASCO', 4, 3, 'HIDALGO', 'CDMX']\n",
            "['CDMX', 'HIDALGO', 3, 4, 'TABASCO', 'CHIAPAS']\n"
          ]
        }
      ]
    },
    {
      "cell_type": "markdown",
      "source": [
        "***Modificando la lista original:***\n",
        "\n",
        "    Utilizando la función reverse() (nótese que es sin «d» al final):"
      ],
      "metadata": {
        "id": "0VQd3uhjleor"
      }
    },
    {
      "cell_type": "code",
      "source": [
        "\n",
        "estados = ['CDMX','HIDALGO', 3, 4,'TABASCO','CHIAPAS']\n",
        "print (estados)\n",
        "\n",
        "estados.reverse()\n",
        "\n",
        "# Vemos que la lista SI cambio\n",
        "print (estados)"
      ],
      "metadata": {
        "colab": {
          "base_uri": "https://localhost:8080/"
        },
        "id": "juF0MDUhlfTf",
        "outputId": "95e4ecd0-9d53-4fcb-8702-295311ac1126"
      },
      "execution_count": 51,
      "outputs": [
        {
          "output_type": "stream",
          "name": "stdout",
          "text": [
            "['CDMX', 'HIDALGO', 3, 4, 'TABASCO', 'CHIAPAS']\n",
            "['CHIAPAS', 'TABASCO', 4, 3, 'HIDALGO', 'CDMX']\n"
          ]
        }
      ]
    },
    {
      "cell_type": "markdown",
      "source": [
        "***Añadir al final de la lista***\n",
        "Python nos ofrece la función append() para añadir al final d ela lista. Se trata de un método destructivo que modifica la lista original:"
      ],
      "metadata": {
        "id": "3y1wnuaMx1rm"
      }
    },
    {
      "cell_type": "code",
      "source": [
        "los_ranchos = ['BUNIGU','SAN PEDRO', 'EL RAYO', 'LA FLORIDA','EL HIGUERON','PALMITAS']\n",
        "print (los_ranchos)\n",
        "\n",
        "los_ranchos.append('LA ESCONDIDA')\n",
        "\n",
        "# Vemos que la lista SI cambio\n",
        "print (los_ranchos)"
      ],
      "metadata": {
        "colab": {
          "base_uri": "https://localhost:8080/"
        },
        "id": "E2a7ecDRyNqF",
        "outputId": "d4cbbe90-5ccb-4ebc-a13a-da465392cb8d"
      },
      "execution_count": 53,
      "outputs": [
        {
          "output_type": "stream",
          "name": "stdout",
          "text": [
            "['BUNIGU', 'SAN PEDRO', 'EL RAYO', 'LA FLORIA', 'EL HIGUERON', 'PALMITAS']\n",
            "['BUNIGU', 'SAN PEDRO', 'EL RAYO', 'LA FLORIA', 'EL HIGUERON', 'PALMITAS', 'LA ESCONDIDA']\n"
          ]
        }
      ]
    },
    {
      "cell_type": "markdown",
      "source": [
        "***Creando una lista desde vacío***\n",
        "\n",
        "Una forma muy habitual de trabajar con listas es empezar con una vacía e ir añadiendo elementos poco a poco. Se podría hablar de un patrón creación.\n",
        "\n",
        "Supongamos un ejemplo en el que queremos construir una lista con los números pares del 1 al 20:"
      ],
      "metadata": {
        "id": "Fc0ZNfwPzV0V"
      }
    },
    {
      "cell_type": "code",
      "source": [
        "even_numbers = []\n",
        "\n",
        "for i in range(20):\n",
        "    if i % 2 == 0:\n",
        "        even_numbers.append(i)\n",
        "\n",
        "print (even_numbers)"
      ],
      "metadata": {
        "colab": {
          "base_uri": "https://localhost:8080/"
        },
        "id": "wdZqTKFRzd0M",
        "outputId": "c47c6847-d43f-4a1e-be58-e09c02dc406d"
      },
      "execution_count": 54,
      "outputs": [
        {
          "output_type": "stream",
          "name": "stdout",
          "text": [
            "[0, 2, 4, 6, 8, 10, 12, 14, 16, 18]\n"
          ]
        }
      ]
    },
    {
      "cell_type": "markdown",
      "source": [
        "***Añadir en cualquier posición de una lista***\n",
        "\n",
        "Ya hemos visto cómo añadir elementos al final de una lista. Sin embargo, Python ofrece una ***función insert()*** que vendría a ser una generalización de la anterior, para incorporar elementos en cualquier posición. Simplemente debemos especificar el índice de inserción y el elemento en cuestión. También se trata de una función destructiva:"
      ],
      "metadata": {
        "id": "ALT-yOKVz-AR"
      }
    },
    {
      "cell_type": "code",
      "source": [
        "los_ranchos = ['BUNIGU','SAN PEDRO', 'EL RAYO', 'LA FLORIDA','EL HIGUERON','PALMITAS']\n",
        "print (los_ranchos)\n",
        "\n",
        "los_ranchos.insert(1,'LA ESCONDIDA')\n",
        "print (los_ranchos)\n",
        "\n",
        "los_ranchos.insert(3,'SAN RAFAEL')\n",
        "print (los_ranchos)\n",
        "\n",
        "\n",
        "los_ranchos.insert(10,'LA ESCONDIDA') # No existe el indice  10, no marca error y lo coloca al final de la lista\n",
        "print (los_ranchos)\n"
      ],
      "metadata": {
        "colab": {
          "base_uri": "https://localhost:8080/"
        },
        "id": "yi6pidaDz9Ws",
        "outputId": "f748cc17-b166-4c22-e6b0-2772bb44b4fc"
      },
      "execution_count": 61,
      "outputs": [
        {
          "output_type": "stream",
          "name": "stdout",
          "text": [
            "['BUNIGU', 'SAN PEDRO', 'EL RAYO', 'LA FLORIDA', 'EL HIGUERON', 'PALMITAS']\n",
            "['BUNIGU', 'LA ESCONDIDA', 'SAN PEDRO', 'EL RAYO', 'LA FLORIDA', 'EL HIGUERON', 'PALMITAS']\n",
            "['BUNIGU', 'LA ESCONDIDA', 'SAN PEDRO', 'SAN RAFAEL', 'EL RAYO', 'LA FLORIDA', 'EL HIGUERON', 'PALMITAS']\n",
            "['BUNIGU', 'LA ESCONDIDA', 'SAN PEDRO', 'SAN RAFAEL', 'EL RAYO', 'LA FLORIDA', 'EL HIGUERON', 'PALMITAS', 'LA ESCONDIDA']\n"
          ]
        }
      ]
    },
    {
      "cell_type": "code",
      "source": [
        "# Con este ejmplo tal vez qude más claro el ejemplo anterior\n",
        "numeros = [1,2,3,4,5,6]\n",
        "\n",
        "# Observa el comportamiento\n",
        "numeros.insert(1,33)\n",
        "print (numeros)\n",
        "\n",
        "numeros.insert(3,'66')\n",
        "print (numeros)\n",
        "\n",
        "numeros.insert(6,'99')\n",
        "print (numeros)\n",
        "\n",
        "numeros.insert(13,'110') # No existe el indice  13, no marca error y lo coloca al final de la lista\n",
        "print (numeros)\n"
      ],
      "metadata": {
        "colab": {
          "base_uri": "https://localhost:8080/"
        },
        "id": "RVmRUbZA0-ET",
        "outputId": "6ba57ee1-fc1d-4e9b-cfbf-fc3504729d5b"
      },
      "execution_count": 59,
      "outputs": [
        {
          "output_type": "stream",
          "name": "stdout",
          "text": [
            "[1, 33, 2, 3, 4, 5, 6]\n",
            "[1, 33, 2, '66', 3, 4, 5, 6]\n",
            "[1, 33, 2, '66', 3, 4, '99', 5, 6]\n",
            "[1, 33, 2, '66', 3, 4, '99', 5, 6, '110']\n"
          ]
        }
      ]
    },
    {
      "cell_type": "code",
      "source": [
        "\n",
        "numeros = [1,2,3,4,5,6]\n",
        "\n",
        "# Observa el comportamiento\n",
        "numeros.insert(-1,33)\n",
        "print (numeros)\n",
        "\n",
        "numeros.insert(-3,'66')\n",
        "print (numeros)\n",
        "\n",
        "numeros.insert(-6,'99')\n",
        "print (numeros)\n",
        "\n",
        "# Observe\n",
        "numeros.insert(-13,'110') # No existe el indice  -13, no marca error y lo coloca al inicio de la lista\n",
        "print (numeros)"
      ],
      "metadata": {
        "colab": {
          "base_uri": "https://localhost:8080/"
        },
        "id": "jg1N1sTw2GIW",
        "outputId": "6d042c4b-8d04-439d-d16a-d4fafffcdeac"
      },
      "execution_count": 60,
      "outputs": [
        {
          "output_type": "stream",
          "name": "stdout",
          "text": [
            "[1, 2, 3, 4, 5, 33, 6]\n",
            "[1, 2, 3, 4, '66', 5, 33, 6]\n",
            "[1, 2, '99', 3, 4, '66', 5, 33, 6]\n",
            "['110', 1, 2, '99', 3, 4, '66', 5, 33, 6]\n"
          ]
        }
      ]
    },
    {
      "cell_type": "markdown",
      "source": [
        "***NOTA: Aunque es posible utilizar insert() para añadir elementos al final de una lista, siempre se recomienda usar append() por su mayor legibilidad:***"
      ],
      "metadata": {
        "id": "WQoH0dYL3cQp"
      }
    },
    {
      "cell_type": "markdown",
      "source": [
        "***Repetir elementos***\n",
        "\n",
        "Al igual que con las cadenas de texto, el operador * nos permite repetir los elementos de una lista:"
      ],
      "metadata": {
        "id": "LxpKmU4z4Gtt"
      }
    },
    {
      "cell_type": "code",
      "source": [
        "los_ranchos = ['BUNIGU','SAN PEDRO', 'EL RAYO']\n",
        "print (los_ranchos)\n",
        "print (los_ranchos * 2)\n",
        "print (los_ranchos)\n",
        "print (los_ranchos * -1)"
      ],
      "metadata": {
        "colab": {
          "base_uri": "https://localhost:8080/"
        },
        "id": "pmlDu3jG4Lzm",
        "outputId": "acf55b3b-4689-455b-efd9-e18197e9e020"
      },
      "execution_count": 69,
      "outputs": [
        {
          "output_type": "stream",
          "name": "stdout",
          "text": [
            "['BUNIGU', 'SAN PEDRO', 'EL RAYO']\n",
            "['BUNIGU', 'SAN PEDRO', 'EL RAYO', 'BUNIGU', 'SAN PEDRO', 'EL RAYO']\n",
            "['BUNIGU', 'SAN PEDRO', 'EL RAYO']\n",
            "[]\n"
          ]
        }
      ]
    },
    {
      "cell_type": "markdown",
      "source": [
        "**Combinar listas**\n",
        "\n",
        "Python nos ofrece dos aproximaciones para combinar listas:\n",
        "\n",
        "Conservando la lista original:\n",
        "\n",
        "    Mediante el operador + o +=:"
      ],
      "metadata": {
        "id": "K-onoGjG5kay"
      }
    },
    {
      "cell_type": "code",
      "source": [
        "numeros = [1,2,3,4,5,6]\n",
        "los_ranchos = ['BUNIGU','SAN PEDRO', 'EL RAYO']\n",
        "\n",
        "print (numeros + los_ranchos)\n",
        "print (numeros)\n",
        "print (los_ranchos)\n",
        "\n",
        "# Este forma si cammbia la lista de numeros\n",
        "numeros += los_ranchos\n",
        "print(numeros)\n",
        "print (los_ranchos)\n"
      ],
      "metadata": {
        "colab": {
          "base_uri": "https://localhost:8080/"
        },
        "id": "pfnXSjEU5oMf",
        "outputId": "fdd1f31a-c26e-4478-c941-4fc70117210b"
      },
      "execution_count": 73,
      "outputs": [
        {
          "output_type": "stream",
          "name": "stdout",
          "text": [
            "[1, 2, 3, 4, 5, 6, 'BUNIGU', 'SAN PEDRO', 'EL RAYO']\n",
            "[1, 2, 3, 4, 5, 6]\n",
            "['BUNIGU', 'SAN PEDRO', 'EL RAYO']\n",
            "[1, 2, 3, 4, 5, 6, 'BUNIGU', 'SAN PEDRO', 'EL RAYO']\n",
            "['BUNIGU', 'SAN PEDRO', 'EL RAYO']\n"
          ]
        }
      ]
    },
    {
      "cell_type": "markdown",
      "source": [
        "Modificando la lista original:\n",
        "\n",
        "    Mediante la función extend():"
      ],
      "metadata": {
        "id": "CDBzkXpX7CHG"
      }
    },
    {
      "cell_type": "code",
      "source": [
        "numeros = [1,2,3,4,5,6]\n",
        "los_ranchos = ['BUNIGU','SAN PEDRO', 'EL RAYO']\n",
        "\n",
        "print(numeros)\n",
        "numeros.extend(los_ranchos) \n",
        "\n",
        "# Observemos como cambio la lista de numeros\n",
        "print(numeros)\n"
      ],
      "metadata": {
        "colab": {
          "base_uri": "https://localhost:8080/"
        },
        "id": "ZMz6d1ny7Dks",
        "outputId": "2d734490-9ca2-4207-d9ce-91aca4ec2c30"
      },
      "execution_count": 75,
      "outputs": [
        {
          "output_type": "stream",
          "name": "stdout",
          "text": [
            "[1, 2, 3, 4, 5, 6]\n",
            "[1, 2, 3, 4, 5, 6, 'BUNIGU', 'SAN PEDRO', 'EL RAYO']\n"
          ]
        }
      ]
    },
    {
      "cell_type": "markdown",
      "source": [
        "***NOTA:***\n",
        "Hay que tener en cuenta que extend() funciona adecuadamente si pasamos una lista como argumento. En otro caso, quizás los resultados no sean los esperados. Veamos un ejemplo:"
      ],
      "metadata": {
        "id": "S1gy-pTTdvOn"
      }
    },
    {
      "cell_type": "code",
      "source": [
        "numeros = [1,2,3,4,5,6]\n",
        "los_ranchos = ['BUNIGU','SAN PEDRO', 'EL RAYO']\n",
        "\n",
        "print(numeros)\n",
        "# Solo hacemos el extend con un solo elemento y vemos el resultado\n",
        "numeros.extend('BUNIGU') \n",
        "\n",
        "# Observemos como cambio la lista de numeros\n",
        "print(numeros)"
      ],
      "metadata": {
        "colab": {
          "base_uri": "https://localhost:8080/"
        },
        "id": "5sLzj5MEd4vW",
        "outputId": "ac2f26a2-5a10-426c-8ec5-66758f224afb"
      },
      "execution_count": 1,
      "outputs": [
        {
          "output_type": "stream",
          "name": "stdout",
          "text": [
            "[1, 2, 3, 4, 5, 6]\n",
            "[1, 2, 3, 4, 5, 6, 'B', 'U', 'N', 'I', 'G', 'U']\n"
          ]
        }
      ]
    },
    {
      "cell_type": "markdown",
      "source": [
        "El motivo es que extend() «recorre» (o itera) sobre cada uno de los elementos del objeto en cuestión. En el caso anterior, al ser una cadena de texto, está formada por caracteres. De ahí el resultado que obtenemos.\n",
        "\n",
        "\n",
        "Se podría pensar en el uso de append() para combinar listas. La realidad es que no funciona exactamente como esperamos; la segunda lista se añadiría como una sublista de la principal:"
      ],
      "metadata": {
        "id": "7f3j91QPeQaN"
      }
    },
    {
      "cell_type": "code",
      "source": [
        "numeros = [1,2,3,4,5,6]\n",
        "los_ranchos = ['BUNIGU','SAN PEDRO', 'EL RAYO']\n",
        "\n",
        "print(numeros)\n",
        "\n",
        "numeros.append(los_ranchos) \n",
        "\n",
        "# Observemos como cambio la lista de numeros\n",
        "print(numeros)\n",
        "# Inserta la segunda lista al final como un elemento de la lista numeros, no las une"
      ],
      "metadata": {
        "colab": {
          "base_uri": "https://localhost:8080/"
        },
        "id": "24nd_bTnev70",
        "outputId": "5a4d392a-68fa-4691-90f6-24d1a5fa0fb7"
      },
      "execution_count": 2,
      "outputs": [
        {
          "output_type": "stream",
          "name": "stdout",
          "text": [
            "[1, 2, 3, 4, 5, 6]\n",
            "[1, 2, 3, 4, 5, 6, ['BUNIGU', 'SAN PEDRO', 'EL RAYO']]\n"
          ]
        }
      ]
    },
    {
      "cell_type": "markdown",
      "source": [
        ""
      ],
      "metadata": {
        "id": "qp7qh8_tgqx2"
      }
    },
    {
      "cell_type": "markdown",
      "source": [
        "***Modificar una lista utilizando el ínice.***\n",
        "\n",
        "Del mismo modo que se accede a un elemento utilizando su índice, también podemos modificarlo:"
      ],
      "metadata": {
        "id": "PdpRxyJ2gq8D"
      }
    },
    {
      "cell_type": "code",
      "source": [
        "los_ranchos = ['BUNIGU','SAN PEDRO', 'EL RAYO']\n",
        "\n",
        "print (los_ranchos)\n",
        "\n",
        "# Modificamos un elemento\n",
        "\n",
        "los_ranchos [1] = 'TLACUILOLA' # Si colocamos un numero de índice que no exista en la lista, marcara error, por ejemplo el 3\n",
        "\n",
        "print (los_ranchos)\n"
      ],
      "metadata": {
        "colab": {
          "base_uri": "https://localhost:8080/"
        },
        "id": "0N7pUEqFhFck",
        "outputId": "8c9fdbe9-71f9-48cb-d4bb-37182ba2988c"
      },
      "execution_count": 3,
      "outputs": [
        {
          "output_type": "stream",
          "name": "stdout",
          "text": [
            "['BUNIGU', 'SAN PEDRO', 'EL RAYO']\n",
            "['BUNIGU', 'TLACUILOLA', 'EL RAYO']\n"
          ]
        }
      ]
    },
    {
      "cell_type": "markdown",
      "source": [
        "***Modificar con troceado. (Sublista de la lista)***\n",
        "\n",
        "No sólo es posible modificar un elemento de cada vez, sino que podemos asignar valores a trozos (sublista) de una lista:"
      ],
      "metadata": {
        "id": "8d98MLLciQ8F"
      }
    },
    {
      "cell_type": "code",
      "source": [
        "los_ranchos = ['BUNIGU','SAN PEDRO', 'EL RAYO', 'LA FLORIDA','EL HIGUERON','PALMITAS']\n",
        "print (los_ranchos)\n",
        "\n",
        "print (los_ranchos[1:4])\n",
        "los_ranchos[1:4] = ['EL CEDRAL','EL COMEJE','EL NARANJAL']\n",
        "\n",
        "print (los_ranchos)\n"
      ],
      "metadata": {
        "colab": {
          "base_uri": "https://localhost:8080/"
        },
        "id": "IjuIi-Y4iovM",
        "outputId": "a42622f7-efa2-40a0-e949-f14ed6b1815c"
      },
      "execution_count": 7,
      "outputs": [
        {
          "output_type": "stream",
          "name": "stdout",
          "text": [
            "['BUNIGU', 'SAN PEDRO', 'EL RAYO', 'LA FLORIDA', 'EL HIGUERON', 'PALMITAS']\n",
            "['SAN PEDRO', 'EL RAYO', 'LA FLORIDA']\n",
            "['BUNIGU', 'EL CEDRAL', 'EL COMEJE', 'EL NARANJAL', 'EL HIGUERON', 'PALMITAS']\n"
          ]
        }
      ]
    },
    {
      "cell_type": "markdown",
      "source": [
        "***Nota***\n",
        "\n",
        "La lista que asignamos no necesariamente debe tener la misma longitud que el trozo que sustituimos.\n"
      ],
      "metadata": {
        "id": "RF7wiKOxjvPu"
      }
    },
    {
      "cell_type": "code",
      "source": [
        "los_ranchos = ['BUNIGU','SAN PEDRO', 'EL RAYO', 'LA FLORIDA','EL HIGUERON','PALMITAS']\n",
        "print (los_ranchos)\n",
        "\n",
        "print (los_ranchos[1:4]) # Aqui hay 3 elementos\n",
        "\n",
        "los_ranchos[1:4] = ['EL CEDRAL','EL COMEJE'] # Sólo sustituyo 2 y no marca ; pero el tercero lo quita, mucho ojo\n",
        "\n",
        "print (los_ranchos)\n"
      ],
      "metadata": {
        "colab": {
          "base_uri": "https://localhost:8080/"
        },
        "id": "UnKUUvujjwQH",
        "outputId": "9e0d192e-b0d8-4e59-8ce9-a43f4a5e3ea8"
      },
      "execution_count": 8,
      "outputs": [
        {
          "output_type": "stream",
          "name": "stdout",
          "text": [
            "['BUNIGU', 'SAN PEDRO', 'EL RAYO', 'LA FLORIDA', 'EL HIGUERON', 'PALMITAS']\n",
            "['SAN PEDRO', 'EL RAYO', 'LA FLORIDA']\n",
            "['BUNIGU', 'EL CEDRAL', 'EL COMEJE', 'EL HIGUERON', 'PALMITAS']\n"
          ]
        }
      ]
    },
    {
      "cell_type": "markdown",
      "source": [
        "***Borrar elementos***\n",
        "\n",
        "Python nos ofrece, al menos, cuatro formas para borrar elementos en una lista:\n",
        "\n",
        "Por su índice:\n",
        "\n",
        "    Mediante la función del():"
      ],
      "metadata": {
        "id": "kpkWnu3bmqIc"
      }
    },
    {
      "cell_type": "code",
      "source": [
        "los_ranchos = ['BUNIGU','SAN PEDRO', 'EL RAYO', 'LA FLORIDA','EL HIGUERON','PALMITAS']\n",
        "print (los_ranchos)\n",
        "del(los_ranchos[3]) # Borro LA FLORIDA, si se pone un numero de índice que no exista marcara error\n",
        "print (los_ranchos)\n"
      ],
      "metadata": {
        "colab": {
          "base_uri": "https://localhost:8080/"
        },
        "id": "C1UWTtnqm5gc",
        "outputId": "e2bcb0ce-ba9d-4e99-ffce-5aa9dc904f39"
      },
      "execution_count": 11,
      "outputs": [
        {
          "output_type": "stream",
          "name": "stdout",
          "text": [
            "['BUNIGU', 'SAN PEDRO', 'EL RAYO', 'LA FLORIDA', 'EL HIGUERON', 'PALMITAS']\n",
            "['BUNIGU', 'SAN PEDRO', 'EL RAYO', 'EL HIGUERON', 'PALMITAS']\n"
          ]
        }
      ]
    },
    {
      "cell_type": "markdown",
      "source": [
        "***Por su valor:***\n",
        "\n",
        "    Mediante la función remove():"
      ],
      "metadata": {
        "id": "BfmxDOq5nchq"
      }
    },
    {
      "cell_type": "code",
      "source": [
        "los_ranchos = ['BUNIGU','SAN PEDRO', 'EL RAYO', 'LA FLORIDA','EL HIGUERON','PALMITAS']\n",
        "print (los_ranchos)\n",
        "los_ranchos.remove('LA FLORIDA')   # Borro LA FLORIDA, si se pone un elemento que no exiata en la lista marcara error\n",
        "print (los_ranchos)"
      ],
      "metadata": {
        "colab": {
          "base_uri": "https://localhost:8080/"
        },
        "id": "WjS5sz95nb7f",
        "outputId": "2e4f9e23-15ac-473b-886c-1d1c5a2a88fb"
      },
      "execution_count": 15,
      "outputs": [
        {
          "output_type": "stream",
          "name": "stdout",
          "text": [
            "['BUNIGU', 'SAN PEDRO', 'EL RAYO', 'LA FLORIDA', 'EL HIGUERON', 'PALMITAS']\n",
            "['BUNIGU', 'SAN PEDRO', 'EL RAYO', 'EL HIGUERON', 'PALMITAS']\n"
          ]
        }
      ]
    }
  ]
}