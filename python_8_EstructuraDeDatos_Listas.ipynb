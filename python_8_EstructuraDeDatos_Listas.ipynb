{
  "nbformat": 4,
  "nbformat_minor": 0,
  "metadata": {
    "colab": {
      "name": "python_8_EstructuraDeDatos_Listas.ipynb",
      "provenance": [],
      "collapsed_sections": [],
      "authorship_tag": "ABX9TyMfKxf+7VAY4ckNlH1F8H2q",
      "include_colab_link": true
    },
    "kernelspec": {
      "name": "python3",
      "display_name": "Python 3"
    },
    "language_info": {
      "name": "python"
    }
  },
  "cells": [
    {
      "cell_type": "markdown",
      "metadata": {
        "id": "view-in-github",
        "colab_type": "text"
      },
      "source": [
        "<a href=\"https://colab.research.google.com/github/carrkarr/python_ini/blob/main/python_8_EstructuraDeDatos_Listas.ipynb\" target=\"_parent\"><img src=\"https://colab.research.google.com/assets/colab-badge.svg\" alt=\"Open In Colab\"/></a>"
      ]
    },
    {
      "cell_type": "markdown",
      "source": [
        "***Estructuras de Datos en Python***\n",
        "\n",
        "En pytho tenemos las estructuras\n",
        "\n",
        "***Primitivas***\n",
        "\n",
        "  Integer\n",
        "\n",
        "  Float\n",
        "\n",
        "  String\n",
        "\n",
        "  Boolean\n",
        "\n",
        "Que ya hemos visto.\n",
        "\n",
        "Ahora nos centraremos en las \n",
        "\n",
        "***NO  Primitivas***\n",
        "\n",
        "    Listas - List\n",
        "    Tuplas - Tuples\n",
        "    Diccionarios - Dictionaries\n",
        "    Comjunto    - Set\n",
        "    Archivo -File\n",
        "\n",
        "Una estructura de datos es la forma de trabajar con un gran volumen de datos de una manera eficiente.\n",
        "\n",
        "**¿Qué es List?**\n",
        "\n",
        "Las listas permiten almacenar objetos mediante un orden definido y con posibilidad de duplicados. Las listas son estructuras de datos mutables, lo que significa que podemos añadir, eliminar o modificar sus elementos. \n",
        "\n",
        "Una lista es un contenedor de Python **ordenado y mutable** , que es una de las estructuras de datos más comunes en Python. Para crear una lista, los elementos se colocan entre corchetes, separados por comas. Ya hemos visto un poco de ello en temas anteriores."
      ],
      "metadata": {
        "id": "hPTESO2sjLrD"
      }
    },
    {
      "cell_type": "code",
      "execution_count": null,
      "metadata": {
        "colab": {
          "base_uri": "https://localhost:8080/"
        },
        "id": "MG5nkRH9i7aZ",
        "outputId": "a82094cc-e24a-4801-b432-99ebde43cadf"
      },
      "outputs": [
        {
          "output_type": "stream",
          "name": "stdout",
          "text": [
            "[]\n",
            "[1, 2, 3, 4, 5, 6]\n",
            "[1, 'C', 'B', 1, 5, 6]\n",
            "[1, 'C', ['B', 1, 5], 6]\n"
          ]
        }
      ],
      "source": [
        "# list is an ordered and mutable Python container\n",
        "# the elements are placed inside square brackets,separated by commas\n",
        "\n",
        "empty_list = []\n",
        "print(empty_list)\n",
        "\n",
        "lista = [1,2,3,4,5,6]\n",
        "print(lista)\n",
        "\n",
        "lista = [1,'C','B',1,5,6]\n",
        "print(lista)\n",
        "\n",
        "# La lista puede contener otra lista o tupla u otro tipo de estructura\n",
        "lista = [1,'C',['B',1,5],6]\n",
        "print(lista)\n"
      ]
    },
    {
      "cell_type": "code",
      "source": [
        "# Conversión\n",
        "# Para convertir otros tipos de datos en una lista podemos usar la función list():\n",
        "lista = list ('Python')\n",
        "print(lista)\n"
      ],
      "metadata": {
        "colab": {
          "base_uri": "https://localhost:8080/"
        },
        "id": "moocZNA3-yQ4",
        "outputId": "7aed9d90-93c7-4a4b-8258-7f1c9c967bd6"
      },
      "execution_count": null,
      "outputs": [
        {
          "output_type": "stream",
          "name": "stdout",
          "text": [
            "['P', 'y', 't', 'h', 'o', 'n']\n"
          ]
        }
      ]
    },
    {
      "cell_type": "code",
      "source": [
        "# Obtener un elemento de una lista\n",
        "\n",
        "'''\n",
        "Igual que en el caso de las cadenas de texto, \n",
        "podemos obtener un elemento de una lista \n",
        "a través del índice (lugar) que ocupa. \n",
        "Veamos un ejemplo:\n",
        "'''\n",
        "estados = ['CDMX','HIDALGO', 'SAN LUIS POTOSÍ', 'TAMAULIPAS']\n",
        "\n",
        "print (estados[0])\n",
        "print (estados[2])\n",
        "\n",
        "print (estados[-2])\n",
        "print (estados[-1])\n",
        "\n",
        "# Descomente para ver el error\n",
        "# Marca error por que el índice = 4 no esta en la lista\n",
        "\n",
        "#print (estados[4]) \n"
      ],
      "metadata": {
        "colab": {
          "base_uri": "https://localhost:8080/"
        },
        "id": "XSxuei7O_jYL",
        "outputId": "ad5aa26c-d751-4c62-8a11-365559cb304b"
      },
      "execution_count": null,
      "outputs": [
        {
          "output_type": "stream",
          "name": "stdout",
          "text": [
            "CDMX\n",
            "SAN LUIS POTOSÍ\n",
            "SAN LUIS POTOSÍ\n",
            "TAMAULIPAS\n"
          ]
        }
      ]
    },
    {
      "cell_type": "code",
      "source": [
        "# Tomar parte de  una lista\n",
        "# Sublista de una lista\n",
        "# Funciona de manera totalmente análoga al troceado (Tomar parte) de cadenas. \n",
        "# Veamos algunos ejemplos:\n",
        "\n",
        "estados = ['CDMX','HIDALGO', 'SAN LUIS POTOSÍ', 'TAMAULIPAS','TABASCO','CHIAPAS']\n",
        "\n",
        "# Obsrva como  excluye la posición indice = 3\n",
        "print (estados[0:3])\n",
        "print (estados[:3])\n",
        "\n",
        "print (estados[2:4])\n",
        "\n",
        "# Toma una sublista e invierte el orden\n",
        "print (estados[-1:-4:-1])\n",
        "\n",
        "# Toda la lista\n",
        "print (estados[:])\n",
        "print (estados[::])\n",
        "\n",
        "# Invierte toda la lista\n",
        "print (estados[::-1])\n",
        "\n"
      ],
      "metadata": {
        "colab": {
          "base_uri": "https://localhost:8080/"
        },
        "id": "NHzwHWt7GoWy",
        "outputId": "36635fbf-268a-4bd1-87fb-5e0d38e5ae53"
      },
      "execution_count": null,
      "outputs": [
        {
          "output_type": "stream",
          "name": "stdout",
          "text": [
            "['CDMX', 'HIDALGO', 'SAN LUIS POTOSÍ']\n",
            "['CDMX', 'HIDALGO', 'SAN LUIS POTOSÍ']\n",
            "['SAN LUIS POTOSÍ', 'TAMAULIPAS']\n",
            "['CHIAPAS', 'TABASCO', 'TAMAULIPAS']\n",
            "['CDMX', 'HIDALGO', 'SAN LUIS POTOSÍ', 'TAMAULIPAS', 'TABASCO', 'CHIAPAS']\n",
            "['CDMX', 'HIDALGO', 'SAN LUIS POTOSÍ', 'TAMAULIPAS', 'TABASCO', 'CHIAPAS']\n",
            "['CHIAPAS', 'TABASCO', 'TAMAULIPAS', 'SAN LUIS POTOSÍ', 'HIDALGO', 'CDMX']\n"
          ]
        }
      ]
    },
    {
      "cell_type": "code",
      "source": [
        "estados = ['CDMX','HIDALGO', 'SAN LUIS POTOSÍ', 'TAMAULIPAS','TABASCO','CHIAPAS']\n",
        "\n",
        "# Observa el comportamiento\n",
        "\n",
        "print (estados[::])\n",
        "# Toma toda la lista uno por uno, por eso da toda la lista\n",
        "print (estados[::1])\n",
        "# Toma la lista de dos en dos. a partir del cero salta dos y lo toma, asi sucesivamente\n",
        "print (estados[::2])\n",
        "# Toma la lista de dos en dos. a partir del cero salta tres y lo toma, asi sucesivamente\n",
        "print (estados[::3])\n",
        "\n",
        "print (estados[::4])\n",
        "print (estados[::5])"
      ],
      "metadata": {
        "colab": {
          "base_uri": "https://localhost:8080/"
        },
        "id": "KEINTXgpUYwi",
        "outputId": "c992821e-86a4-4d31-e00b-cf1dfddc9c89"
      },
      "execution_count": null,
      "outputs": [
        {
          "output_type": "stream",
          "name": "stdout",
          "text": [
            "['CDMX', 'HIDALGO', 'SAN LUIS POTOSÍ', 'TAMAULIPAS', 'TABASCO', 'CHIAPAS']\n",
            "['CDMX', 'HIDALGO', 'SAN LUIS POTOSÍ', 'TAMAULIPAS', 'TABASCO', 'CHIAPAS']\n",
            "['CDMX', 'SAN LUIS POTOSÍ', 'TABASCO']\n",
            "['CDMX', 'TAMAULIPAS']\n",
            "['CDMX', 'TABASCO']\n",
            "['CDMX', 'CHIAPAS']\n"
          ]
        }
      ]
    },
    {
      "cell_type": "code",
      "source": [
        "# Con este ejmplo tal vez qude más claro el ejemplo anterior\n",
        "numeros = [1,2,3,4,5,6]\n",
        "\n",
        "# Observa el comportamiento\n",
        "\n",
        "print (numeros[::])\n",
        "# Toma toda la lista uno por uno, por eso da toda la lista\n",
        "print (numeros[::1])\n",
        "# Toma la lista de dos en dos. a partir del cero salta dos y lo toma, asi sucesivamente\n",
        "print (numeros[::2])\n",
        "# Toma la lista de dos en dos. a partir del cero salta tres y lo toma, asi sucesivamente\n",
        "print (numeros[::3])\n",
        "\n",
        "print (numeros[::4])\n",
        "print (numeros[::5])\n",
        "\n",
        "# Se sale del rango , pero no marca error, simplemente no nos da un valor final, sólo el inicial\n",
        "print (numeros[::6])\n",
        "# Se sale del rango , pero no marca error, simplemente no nos da un valor final, sólo el inicial\n",
        "print (numeros[::7])"
      ],
      "metadata": {
        "colab": {
          "base_uri": "https://localhost:8080/"
        },
        "outputId": "f609fe56-faae-480c-bc97-edde39d012a4",
        "id": "8XCNx4AxY3pA"
      },
      "execution_count": null,
      "outputs": [
        {
          "output_type": "stream",
          "name": "stdout",
          "text": [
            "[1, 2, 3, 4, 5, 6]\n",
            "[1, 2, 3, 4, 5, 6]\n",
            "[1, 3, 5]\n",
            "[1, 4]\n",
            "[1, 5]\n",
            "[1, 6]\n",
            "[1]\n",
            "[1]\n"
          ]
        }
      ]
    },
    {
      "cell_type": "markdown",
      "source": [
        "NOTA:\n",
        "En el troceado (obtener una sublista de una lista )  de listas, a diferencia de lo que ocurre al obtener elementos, no debemos preocuparnos por acceder a índices inválidos (fuera de rango) ya que Python los restringirá a los límites de la lista.\n",
        "\n",
        "Ninguna de las operaciones anteriores modifican la lista original, simplemente devuelven una lista nueva."
      ],
      "metadata": {
        "id": "RA3n-DFEa9YS"
      }
    },
    {
      "cell_type": "markdown",
      "source": [
        "***Invertir una lista***\n",
        "\n",
        "Python nos ofrece, al menos, tres mecanismos para invertir los elementos de una lista:\n",
        "\n",
        "***Conservando la lista original:***\n",
        "\n",
        "    Mediante troceado(Sublista de la lista) de listas con step negativo, como lo hemos ya hecho:"
      ],
      "metadata": {
        "id": "P4s3jg2Bi2Ap"
      }
    },
    {
      "cell_type": "code",
      "source": [
        "estados = ['CDMX','HIDALGO', 3, 4,'TABASCO','CHIAPAS']\n",
        "numeros = [1,2,3,4,5,6]\n",
        "\n",
        "# Despleagmos antes de ser manipulados\n",
        "print (estados)\n",
        "print (numeros)\n",
        "\n",
        "# Invierte toda la lista\n",
        "print (estados[::-1])\n",
        "\n",
        "# Invierte toda la lista\n",
        "print (numeros[::-1])\n",
        "\n",
        "# Despleagmos  despues de ser manipulados y vemos que no cambio\n",
        "print (estados)\n",
        "print (numeros)"
      ],
      "metadata": {
        "colab": {
          "base_uri": "https://localhost:8080/"
        },
        "id": "khlgrmUcjYbp",
        "outputId": "0339b2a4-386b-4223-c470-c963023c03a2"
      },
      "execution_count": null,
      "outputs": [
        {
          "output_type": "stream",
          "name": "stdout",
          "text": [
            "['CDMX', 'HIDALGO', 3, 4, 'TABASCO', 'CHIAPAS']\n",
            "[1, 2, 3, 4, 5, 6]\n",
            "['CHIAPAS', 'TABASCO', 4, 3, 'HIDALGO', 'CDMX']\n",
            "[6, 5, 4, 3, 2, 1]\n",
            "['CDMX', 'HIDALGO', 3, 4, 'TABASCO', 'CHIAPAS']\n",
            "[1, 2, 3, 4, 5, 6]\n"
          ]
        }
      ]
    },
    {
      "cell_type": "markdown",
      "source": [
        "***Conservando la lista original:***\n",
        "\n",
        "    Mediante la función reversed():"
      ],
      "metadata": {
        "id": "1Ts5-BhKlBYs"
      }
    },
    {
      "cell_type": "code",
      "source": [
        "\n",
        "estados = ['CDMX','HIDALGO', 3, 4,'TABASCO','CHIAPAS']\n",
        "print (estados)\n",
        "print (list(reversed(estados)))\n",
        "# Vemos que no cambio\n",
        "print (estados)\n"
      ],
      "metadata": {
        "colab": {
          "base_uri": "https://localhost:8080/"
        },
        "id": "duodn4CBlH7F",
        "outputId": "4aa15fca-7b24-463d-a657-f2586ca3fe2b"
      },
      "execution_count": null,
      "outputs": [
        {
          "output_type": "stream",
          "name": "stdout",
          "text": [
            "['CDMX', 'HIDALGO', 3, 4, 'TABASCO', 'CHIAPAS']\n",
            "['CHIAPAS', 'TABASCO', 4, 3, 'HIDALGO', 'CDMX']\n",
            "['CDMX', 'HIDALGO', 3, 4, 'TABASCO', 'CHIAPAS']\n"
          ]
        }
      ]
    },
    {
      "cell_type": "markdown",
      "source": [
        "***Modificando la lista original:***\n",
        "\n",
        "    Utilizando la función reverse() (nótese que es sin «d» al final):"
      ],
      "metadata": {
        "id": "0VQd3uhjleor"
      }
    },
    {
      "cell_type": "code",
      "source": [
        "\n",
        "estados = ['CDMX','HIDALGO', 3, 4,'TABASCO','CHIAPAS']\n",
        "print (estados)\n",
        "\n",
        "estados.reverse()\n",
        "\n",
        "# Vemos que la lista SI cambio\n",
        "print (estados)"
      ],
      "metadata": {
        "colab": {
          "base_uri": "https://localhost:8080/"
        },
        "id": "juF0MDUhlfTf",
        "outputId": "95e4ecd0-9d53-4fcb-8702-295311ac1126"
      },
      "execution_count": null,
      "outputs": [
        {
          "output_type": "stream",
          "name": "stdout",
          "text": [
            "['CDMX', 'HIDALGO', 3, 4, 'TABASCO', 'CHIAPAS']\n",
            "['CHIAPAS', 'TABASCO', 4, 3, 'HIDALGO', 'CDMX']\n"
          ]
        }
      ]
    },
    {
      "cell_type": "markdown",
      "source": [
        "***Añadir al final de la lista***\n",
        "Python nos ofrece la función append() para añadir al final d ela lista. Se trata de un método destructivo que modifica la lista original:"
      ],
      "metadata": {
        "id": "3y1wnuaMx1rm"
      }
    },
    {
      "cell_type": "code",
      "source": [
        "los_ranchos = ['BUNIGU','SAN PEDRO', 'EL RAYO', 'LA FLORIDA','EL HIGUERON','PALMITAS']\n",
        "print (los_ranchos)\n",
        "\n",
        "los_ranchos.append('LA ESCONDIDA')\n",
        "\n",
        "# Vemos que la lista SI cambio\n",
        "print (los_ranchos)"
      ],
      "metadata": {
        "colab": {
          "base_uri": "https://localhost:8080/"
        },
        "id": "E2a7ecDRyNqF",
        "outputId": "d4cbbe90-5ccb-4ebc-a13a-da465392cb8d"
      },
      "execution_count": null,
      "outputs": [
        {
          "output_type": "stream",
          "name": "stdout",
          "text": [
            "['BUNIGU', 'SAN PEDRO', 'EL RAYO', 'LA FLORIA', 'EL HIGUERON', 'PALMITAS']\n",
            "['BUNIGU', 'SAN PEDRO', 'EL RAYO', 'LA FLORIA', 'EL HIGUERON', 'PALMITAS', 'LA ESCONDIDA']\n"
          ]
        }
      ]
    },
    {
      "cell_type": "markdown",
      "source": [
        "***Creando una lista desde vacío***\n",
        "\n",
        "Una forma muy habitual de trabajar con listas es empezar con una vacía e ir añadiendo elementos poco a poco. Se podría hablar de un patrón creación.\n",
        "\n",
        "Supongamos un ejemplo en el que queremos construir una lista con los números pares del 1 al 20:"
      ],
      "metadata": {
        "id": "Fc0ZNfwPzV0V"
      }
    },
    {
      "cell_type": "code",
      "source": [
        "even_numbers = []\n",
        "\n",
        "for i in range(20):\n",
        "    if i % 2 == 0:\n",
        "        even_numbers.append(i)\n",
        "\n",
        "print (even_numbers)"
      ],
      "metadata": {
        "colab": {
          "base_uri": "https://localhost:8080/"
        },
        "id": "wdZqTKFRzd0M",
        "outputId": "c47c6847-d43f-4a1e-be58-e09c02dc406d"
      },
      "execution_count": null,
      "outputs": [
        {
          "output_type": "stream",
          "name": "stdout",
          "text": [
            "[0, 2, 4, 6, 8, 10, 12, 14, 16, 18]\n"
          ]
        }
      ]
    },
    {
      "cell_type": "markdown",
      "source": [
        "***Añadir en cualquier posición de una lista***\n",
        "\n",
        "Ya hemos visto cómo añadir elementos al final de una lista. Sin embargo, Python ofrece una ***función insert()*** que vendría a ser una generalización de la anterior, para incorporar elementos en cualquier posición. Simplemente debemos especificar el índice de inserción y el elemento en cuestión. También se trata de una función destructiva:"
      ],
      "metadata": {
        "id": "ALT-yOKVz-AR"
      }
    },
    {
      "cell_type": "code",
      "source": [
        "los_ranchos = ['BUNIGU','SAN PEDRO', 'EL RAYO', 'LA FLORIDA','EL HIGUERON','PALMITAS']\n",
        "print (los_ranchos)\n",
        "\n",
        "los_ranchos.insert(1,'LA ESCONDIDA')\n",
        "print (los_ranchos)\n",
        "\n",
        "los_ranchos.insert(3,'SAN RAFAEL')\n",
        "print (los_ranchos)\n",
        "\n",
        "\n",
        "los_ranchos.insert(10,'LA ESCONDIDA') # No existe el indice  10, no marca error y lo coloca al final de la lista\n",
        "print (los_ranchos)\n"
      ],
      "metadata": {
        "colab": {
          "base_uri": "https://localhost:8080/"
        },
        "id": "yi6pidaDz9Ws",
        "outputId": "f748cc17-b166-4c22-e6b0-2772bb44b4fc"
      },
      "execution_count": null,
      "outputs": [
        {
          "output_type": "stream",
          "name": "stdout",
          "text": [
            "['BUNIGU', 'SAN PEDRO', 'EL RAYO', 'LA FLORIDA', 'EL HIGUERON', 'PALMITAS']\n",
            "['BUNIGU', 'LA ESCONDIDA', 'SAN PEDRO', 'EL RAYO', 'LA FLORIDA', 'EL HIGUERON', 'PALMITAS']\n",
            "['BUNIGU', 'LA ESCONDIDA', 'SAN PEDRO', 'SAN RAFAEL', 'EL RAYO', 'LA FLORIDA', 'EL HIGUERON', 'PALMITAS']\n",
            "['BUNIGU', 'LA ESCONDIDA', 'SAN PEDRO', 'SAN RAFAEL', 'EL RAYO', 'LA FLORIDA', 'EL HIGUERON', 'PALMITAS', 'LA ESCONDIDA']\n"
          ]
        }
      ]
    },
    {
      "cell_type": "code",
      "source": [
        "# Con este ejmplo tal vez qude más claro el ejemplo anterior\n",
        "numeros = [1,2,3,4,5,6]\n",
        "\n",
        "# Observa el comportamiento\n",
        "numeros.insert(1,33)\n",
        "print (numeros)\n",
        "\n",
        "numeros.insert(3,'66')\n",
        "print (numeros)\n",
        "\n",
        "numeros.insert(6,'99')\n",
        "print (numeros)\n",
        "\n",
        "numeros.insert(13,'110') # No existe el indice  13, no marca error y lo coloca al final de la lista\n",
        "print (numeros)\n"
      ],
      "metadata": {
        "colab": {
          "base_uri": "https://localhost:8080/"
        },
        "id": "RVmRUbZA0-ET",
        "outputId": "6ba57ee1-fc1d-4e9b-cfbf-fc3504729d5b"
      },
      "execution_count": null,
      "outputs": [
        {
          "output_type": "stream",
          "name": "stdout",
          "text": [
            "[1, 33, 2, 3, 4, 5, 6]\n",
            "[1, 33, 2, '66', 3, 4, 5, 6]\n",
            "[1, 33, 2, '66', 3, 4, '99', 5, 6]\n",
            "[1, 33, 2, '66', 3, 4, '99', 5, 6, '110']\n"
          ]
        }
      ]
    },
    {
      "cell_type": "code",
      "source": [
        "\n",
        "numeros = [1,2,3,4,5,6]\n",
        "\n",
        "# Observa el comportamiento\n",
        "numeros.insert(-1,33)\n",
        "print (numeros)\n",
        "\n",
        "numeros.insert(-3,'66')\n",
        "print (numeros)\n",
        "\n",
        "numeros.insert(-6,'99')\n",
        "print (numeros)\n",
        "\n",
        "# Observe\n",
        "numeros.insert(-13,'110') # No existe el indice  -13, no marca error y lo coloca al inicio de la lista\n",
        "print (numeros)"
      ],
      "metadata": {
        "colab": {
          "base_uri": "https://localhost:8080/"
        },
        "id": "jg1N1sTw2GIW",
        "outputId": "6d042c4b-8d04-439d-d16a-d4fafffcdeac"
      },
      "execution_count": null,
      "outputs": [
        {
          "output_type": "stream",
          "name": "stdout",
          "text": [
            "[1, 2, 3, 4, 5, 33, 6]\n",
            "[1, 2, 3, 4, '66', 5, 33, 6]\n",
            "[1, 2, '99', 3, 4, '66', 5, 33, 6]\n",
            "['110', 1, 2, '99', 3, 4, '66', 5, 33, 6]\n"
          ]
        }
      ]
    },
    {
      "cell_type": "markdown",
      "source": [
        "***NOTA: Aunque es posible utilizar insert() para añadir elementos al final de una lista, siempre se recomienda usar append() por su mayor legibilidad:***"
      ],
      "metadata": {
        "id": "WQoH0dYL3cQp"
      }
    },
    {
      "cell_type": "markdown",
      "source": [
        "***Repetir elementos***\n",
        "\n",
        "Al igual que con las cadenas de texto, el operador * nos permite repetir los elementos de una lista:"
      ],
      "metadata": {
        "id": "LxpKmU4z4Gtt"
      }
    },
    {
      "cell_type": "code",
      "source": [
        "los_ranchos = ['BUNIGU','SAN PEDRO', 'EL RAYO']\n",
        "print (los_ranchos)\n",
        "print (los_ranchos * 2)\n",
        "print (los_ranchos)\n",
        "print (los_ranchos * -1)"
      ],
      "metadata": {
        "colab": {
          "base_uri": "https://localhost:8080/"
        },
        "id": "pmlDu3jG4Lzm",
        "outputId": "acf55b3b-4689-455b-efd9-e18197e9e020"
      },
      "execution_count": null,
      "outputs": [
        {
          "output_type": "stream",
          "name": "stdout",
          "text": [
            "['BUNIGU', 'SAN PEDRO', 'EL RAYO']\n",
            "['BUNIGU', 'SAN PEDRO', 'EL RAYO', 'BUNIGU', 'SAN PEDRO', 'EL RAYO']\n",
            "['BUNIGU', 'SAN PEDRO', 'EL RAYO']\n",
            "[]\n"
          ]
        }
      ]
    },
    {
      "cell_type": "markdown",
      "source": [
        "**Combinar listas**\n",
        "\n",
        "Python nos ofrece dos aproximaciones para combinar listas:\n",
        "\n",
        "Conservando la lista original:\n",
        "\n",
        "    Mediante el operador + o +=:"
      ],
      "metadata": {
        "id": "K-onoGjG5kay"
      }
    },
    {
      "cell_type": "code",
      "source": [
        "numeros = [1,2,3,4,5,6]\n",
        "los_ranchos = ['BUNIGU','SAN PEDRO', 'EL RAYO']\n",
        "\n",
        "print (numeros + los_ranchos)\n",
        "print (numeros)\n",
        "print (los_ranchos)\n",
        "\n",
        "# Este forma si cammbia la lista de numeros\n",
        "numeros += los_ranchos\n",
        "print(numeros)\n",
        "print (los_ranchos)\n"
      ],
      "metadata": {
        "colab": {
          "base_uri": "https://localhost:8080/"
        },
        "id": "pfnXSjEU5oMf",
        "outputId": "fdd1f31a-c26e-4478-c941-4fc70117210b"
      },
      "execution_count": null,
      "outputs": [
        {
          "output_type": "stream",
          "name": "stdout",
          "text": [
            "[1, 2, 3, 4, 5, 6, 'BUNIGU', 'SAN PEDRO', 'EL RAYO']\n",
            "[1, 2, 3, 4, 5, 6]\n",
            "['BUNIGU', 'SAN PEDRO', 'EL RAYO']\n",
            "[1, 2, 3, 4, 5, 6, 'BUNIGU', 'SAN PEDRO', 'EL RAYO']\n",
            "['BUNIGU', 'SAN PEDRO', 'EL RAYO']\n"
          ]
        }
      ]
    },
    {
      "cell_type": "markdown",
      "source": [
        "Modificando la lista original:\n",
        "\n",
        "    Mediante la función extend():"
      ],
      "metadata": {
        "id": "CDBzkXpX7CHG"
      }
    },
    {
      "cell_type": "code",
      "source": [
        "numeros = [1,2,3,4,5,6]\n",
        "los_ranchos = ['BUNIGU','SAN PEDRO', 'EL RAYO']\n",
        "\n",
        "print(numeros)\n",
        "numeros.extend(los_ranchos) \n",
        "\n",
        "# Observemos como cambio la lista de numeros\n",
        "print(numeros)\n"
      ],
      "metadata": {
        "colab": {
          "base_uri": "https://localhost:8080/"
        },
        "id": "ZMz6d1ny7Dks",
        "outputId": "2d734490-9ca2-4207-d9ce-91aca4ec2c30"
      },
      "execution_count": null,
      "outputs": [
        {
          "output_type": "stream",
          "name": "stdout",
          "text": [
            "[1, 2, 3, 4, 5, 6]\n",
            "[1, 2, 3, 4, 5, 6, 'BUNIGU', 'SAN PEDRO', 'EL RAYO']\n"
          ]
        }
      ]
    },
    {
      "cell_type": "markdown",
      "source": [
        "***NOTA:***\n",
        "Hay que tener en cuenta que extend() funciona adecuadamente si pasamos una lista como argumento. En otro caso, quizás los resultados no sean los esperados. Veamos un ejemplo:"
      ],
      "metadata": {
        "id": "S1gy-pTTdvOn"
      }
    },
    {
      "cell_type": "code",
      "source": [
        "numeros = [1,2,3,4,5,6]\n",
        "los_ranchos = ['BUNIGU','SAN PEDRO', 'EL RAYO']\n",
        "\n",
        "print(numeros)\n",
        "# Solo hacemos el extend con un solo elemento y vemos el resultado\n",
        "numeros.extend('BUNIGU') \n",
        "\n",
        "# Observemos como cambio la lista de numeros\n",
        "print(numeros)"
      ],
      "metadata": {
        "colab": {
          "base_uri": "https://localhost:8080/"
        },
        "id": "5sLzj5MEd4vW",
        "outputId": "ac2f26a2-5a10-426c-8ec5-66758f224afb"
      },
      "execution_count": null,
      "outputs": [
        {
          "output_type": "stream",
          "name": "stdout",
          "text": [
            "[1, 2, 3, 4, 5, 6]\n",
            "[1, 2, 3, 4, 5, 6, 'B', 'U', 'N', 'I', 'G', 'U']\n"
          ]
        }
      ]
    },
    {
      "cell_type": "markdown",
      "source": [
        "El motivo es que extend() «recorre» (o itera) sobre cada uno de los elementos del objeto en cuestión. En el caso anterior, al ser una cadena de texto, está formada por caracteres. De ahí el resultado que obtenemos.\n",
        "\n",
        "\n",
        "Se podría pensar en el uso de append() para combinar listas. La realidad es que no funciona exactamente como esperamos; la segunda lista se añadiría como una sublista de la principal:"
      ],
      "metadata": {
        "id": "7f3j91QPeQaN"
      }
    },
    {
      "cell_type": "code",
      "source": [
        "numeros = [1,2,3,4,5,6]\n",
        "los_ranchos = ['BUNIGU','SAN PEDRO', 'EL RAYO']\n",
        "\n",
        "print(numeros)\n",
        "\n",
        "numeros.append(los_ranchos) \n",
        "\n",
        "# Observemos como cambio la lista de numeros\n",
        "print(numeros)\n",
        "# Inserta la segunda lista al final como un elemento de la lista numeros, no las une"
      ],
      "metadata": {
        "colab": {
          "base_uri": "https://localhost:8080/"
        },
        "id": "24nd_bTnev70",
        "outputId": "5a4d392a-68fa-4691-90f6-24d1a5fa0fb7"
      },
      "execution_count": null,
      "outputs": [
        {
          "output_type": "stream",
          "name": "stdout",
          "text": [
            "[1, 2, 3, 4, 5, 6]\n",
            "[1, 2, 3, 4, 5, 6, ['BUNIGU', 'SAN PEDRO', 'EL RAYO']]\n"
          ]
        }
      ]
    },
    {
      "cell_type": "markdown",
      "source": [
        "***Modificar una lista utilizando el ínice.***\n",
        "\n",
        "Del mismo modo que se accede a un elemento utilizando su índice, también podemos modificarlo:"
      ],
      "metadata": {
        "id": "PdpRxyJ2gq8D"
      }
    },
    {
      "cell_type": "code",
      "source": [
        "los_ranchos = ['BUNIGU','SAN PEDRO', 'EL RAYO']\n",
        "\n",
        "print (los_ranchos)\n",
        "\n",
        "# Modificamos un elemento\n",
        "\n",
        "los_ranchos [1] = 'TLACUILOLA' # Si colocamos un numero de índice que no exista en la lista, marcara error, por ejemplo el 3\n",
        "\n",
        "print (los_ranchos)\n"
      ],
      "metadata": {
        "colab": {
          "base_uri": "https://localhost:8080/"
        },
        "id": "0N7pUEqFhFck",
        "outputId": "8c9fdbe9-71f9-48cb-d4bb-37182ba2988c"
      },
      "execution_count": null,
      "outputs": [
        {
          "output_type": "stream",
          "name": "stdout",
          "text": [
            "['BUNIGU', 'SAN PEDRO', 'EL RAYO']\n",
            "['BUNIGU', 'TLACUILOLA', 'EL RAYO']\n"
          ]
        }
      ]
    },
    {
      "cell_type": "markdown",
      "source": [
        "***Modificar con troceado. (Sublista de la lista)***\n",
        "\n",
        "No sólo es posible modificar un elemento de cada vez, sino que podemos asignar valores a trozos (sublista) de una lista:"
      ],
      "metadata": {
        "id": "8d98MLLciQ8F"
      }
    },
    {
      "cell_type": "code",
      "source": [
        "los_ranchos = ['BUNIGU','SAN PEDRO', 'EL RAYO', 'LA FLORIDA','EL HIGUERON','PALMITAS']\n",
        "print (los_ranchos)\n",
        "\n",
        "print (los_ranchos[1:4])\n",
        "los_ranchos[1:4] = ['EL CEDRAL','EL COMEJE','EL NARANJAL']\n",
        "\n",
        "print (los_ranchos)\n"
      ],
      "metadata": {
        "colab": {
          "base_uri": "https://localhost:8080/"
        },
        "id": "IjuIi-Y4iovM",
        "outputId": "a42622f7-efa2-40a0-e949-f14ed6b1815c"
      },
      "execution_count": null,
      "outputs": [
        {
          "output_type": "stream",
          "name": "stdout",
          "text": [
            "['BUNIGU', 'SAN PEDRO', 'EL RAYO', 'LA FLORIDA', 'EL HIGUERON', 'PALMITAS']\n",
            "['SAN PEDRO', 'EL RAYO', 'LA FLORIDA']\n",
            "['BUNIGU', 'EL CEDRAL', 'EL COMEJE', 'EL NARANJAL', 'EL HIGUERON', 'PALMITAS']\n"
          ]
        }
      ]
    },
    {
      "cell_type": "markdown",
      "source": [
        "***Nota***\n",
        "\n",
        "La lista que asignamos no necesariamente debe tener la misma longitud que el trozo que sustituimos.\n"
      ],
      "metadata": {
        "id": "RF7wiKOxjvPu"
      }
    },
    {
      "cell_type": "code",
      "source": [
        "los_ranchos = ['BUNIGU','SAN PEDRO', 'EL RAYO', 'LA FLORIDA','EL HIGUERON','PALMITAS']\n",
        "print (los_ranchos)\n",
        "\n",
        "print (los_ranchos[1:4]) # Aqui hay 3 elementos\n",
        "\n",
        "los_ranchos[1:4] = ['EL CEDRAL','EL COMEJE'] # Sólo sustituyo 2 y no marca ; pero el tercero lo quita, mucho ojo\n",
        "\n",
        "print (los_ranchos)\n"
      ],
      "metadata": {
        "colab": {
          "base_uri": "https://localhost:8080/"
        },
        "id": "UnKUUvujjwQH",
        "outputId": "9e0d192e-b0d8-4e59-8ce9-a43f4a5e3ea8"
      },
      "execution_count": null,
      "outputs": [
        {
          "output_type": "stream",
          "name": "stdout",
          "text": [
            "['BUNIGU', 'SAN PEDRO', 'EL RAYO', 'LA FLORIDA', 'EL HIGUERON', 'PALMITAS']\n",
            "['SAN PEDRO', 'EL RAYO', 'LA FLORIDA']\n",
            "['BUNIGU', 'EL CEDRAL', 'EL COMEJE', 'EL HIGUERON', 'PALMITAS']\n"
          ]
        }
      ]
    },
    {
      "cell_type": "markdown",
      "source": [
        "***Borrar elementos***\n",
        "\n",
        "Python nos ofrece, al menos, cuatro formas para borrar elementos en una lista:\n",
        "\n",
        "Por su índice:\n",
        "\n",
        "    Mediante la función del():"
      ],
      "metadata": {
        "id": "kpkWnu3bmqIc"
      }
    },
    {
      "cell_type": "code",
      "source": [
        "los_ranchos = ['BUNIGU','SAN PEDRO', 'EL RAYO', 'LA FLORIDA','EL HIGUERON','PALMITAS']\n",
        "print (los_ranchos)\n",
        "del(los_ranchos[3]) # Borro LA FLORIDA, si se pone un numero de índice que no exista marcara error\n",
        "print (los_ranchos)\n"
      ],
      "metadata": {
        "colab": {
          "base_uri": "https://localhost:8080/"
        },
        "id": "C1UWTtnqm5gc",
        "outputId": "e2bcb0ce-ba9d-4e99-ffce-5aa9dc904f39"
      },
      "execution_count": null,
      "outputs": [
        {
          "output_type": "stream",
          "name": "stdout",
          "text": [
            "['BUNIGU', 'SAN PEDRO', 'EL RAYO', 'LA FLORIDA', 'EL HIGUERON', 'PALMITAS']\n",
            "['BUNIGU', 'SAN PEDRO', 'EL RAYO', 'EL HIGUERON', 'PALMITAS']\n"
          ]
        }
      ]
    },
    {
      "cell_type": "markdown",
      "source": [
        "***Por su valor:***\n",
        "\n",
        "    Mediante la función remove():\n",
        "\n",
        "NOTA:\n",
        "\n",
        "Si existen valores duplicados, la función remove() sólo borrará la primera ocurrencia.\n"
      ],
      "metadata": {
        "id": "BfmxDOq5nchq"
      }
    },
    {
      "cell_type": "code",
      "source": [
        "los_ranchos = ['BUNIGU','SAN PEDRO', 'EL RAYO', 'LA FLORIDA','EL HIGUERON','PALMITAS']\n",
        "print (los_ranchos)\n",
        "los_ranchos.remove('LA FLORIDA')   # Borro LA FLORIDA, si se pone un elemento que no exista en la lista marcara error\n",
        "print (los_ranchos)"
      ],
      "metadata": {
        "colab": {
          "base_uri": "https://localhost:8080/"
        },
        "id": "WjS5sz95nb7f",
        "outputId": "2e4f9e23-15ac-473b-886c-1d1c5a2a88fb"
      },
      "execution_count": null,
      "outputs": [
        {
          "output_type": "stream",
          "name": "stdout",
          "text": [
            "['BUNIGU', 'SAN PEDRO', 'EL RAYO', 'LA FLORIDA', 'EL HIGUERON', 'PALMITAS']\n",
            "['BUNIGU', 'SAN PEDRO', 'EL RAYO', 'EL HIGUERON', 'PALMITAS']\n"
          ]
        }
      ]
    },
    {
      "cell_type": "code",
      "source": [
        "los_ranchos = ['BUNIGU','SAN PEDRO', 'EL RAYO', 'LA FLORIDA','EL HIGUERON','EL RAYO', 'PALMITAS']\n",
        "print (los_ranchos)\n",
        "los_ranchos.remove('EL RAYO')   # Borro EL RAYO, pero hay dos, sólo borra la primera entrada\n",
        "print (los_ranchos)"
      ],
      "metadata": {
        "colab": {
          "base_uri": "https://localhost:8080/"
        },
        "id": "vgZBNQDVoh2c",
        "outputId": "463e9d34-4d5b-414f-93a1-52f4b0505daf"
      },
      "execution_count": null,
      "outputs": [
        {
          "output_type": "stream",
          "name": "stdout",
          "text": [
            "['BUNIGU', 'SAN PEDRO', 'EL RAYO', 'LA FLORIDA', 'EL HIGUERON', 'EL RAYO', 'PALMITAS']\n",
            "['BUNIGU', 'SAN PEDRO', 'LA FLORIDA', 'EL HIGUERON', 'EL RAYO', 'PALMITAS']\n"
          ]
        }
      ]
    },
    {
      "cell_type": "markdown",
      "source": [
        "***Borrar elementos***\n",
        "\n",
        "Python nos ofrece, al menos, cuatro formas para borrar elementos en una lista:\n",
        "\n",
        "Por su índice:\n",
        "\n",
        "    Mediante la función del():"
      ],
      "metadata": {
        "id": "2BFJnK2YvUdT"
      }
    },
    {
      "cell_type": "code",
      "source": [
        "los_ranchos = ['BUNIGU','SAN PEDRO', 'EL RAYO','EL ZACATAL']\n",
        "\n",
        "print (los_ranchos)\n",
        "# Borramos un elemento, EL RAYO\n",
        "del(los_ranchos[2]) # Si ponemos un numero de indice que no exista marcara error\n",
        "\n",
        "print (los_ranchos)"
      ],
      "metadata": {
        "colab": {
          "base_uri": "https://localhost:8080/",
          "height": 132
        },
        "id": "PTkeOtawvkg5",
        "outputId": "d7fd95b5-9da9-4e73-bc0f-2f4d9d9476d0"
      },
      "execution_count": null,
      "outputs": [
        {
          "output_type": "error",
          "ename": "SyntaxError",
          "evalue": "ignored",
          "traceback": [
            "\u001b[0;36m  File \u001b[0;32m\"<ipython-input-32-2c2309dfd672>\"\u001b[0;36m, line \u001b[0;32m6\u001b[0m\n\u001b[0;31m    print ( del(los_ranchos[2])) # Si ponemos un numero de indice que no exista marcara error\u001b[0m\n\u001b[0m              ^\u001b[0m\n\u001b[0;31mSyntaxError\u001b[0m\u001b[0;31m:\u001b[0m invalid syntax\n"
          ]
        }
      ]
    },
    {
      "cell_type": "markdown",
      "source": [
        "***Por su valor:***\n",
        "\n",
        "    Mediante la función remove():\n",
        "\n",
        "NOTA:\n",
        "\n",
        "Si existen valores duplicados, la función remove() sólo borrará la primera ocurrencia.\n"
      ],
      "metadata": {
        "id": "gmSY_0nQwW6e"
      }
    },
    {
      "cell_type": "code",
      "source": [
        "los_ranchos = ['BUNIGU','SAN PEDRO', 'EL RAYO','EL ZACATAL']\n",
        "\n",
        "print (los_ranchos)\n",
        "# Borramos un elemento, EL RAYO\n",
        "# Observe como al imprimir la operacion de borrado no imprime el valor del elemento borrado\n",
        "print (los_ranchos.remove('EL RAYO') ) # Si ponemos un elemento que no exista marcara error\n",
        "\n",
        "print (los_ranchos)"
      ],
      "metadata": {
        "colab": {
          "base_uri": "https://localhost:8080/"
        },
        "id": "PmYcnmDhwcVH",
        "outputId": "8be27ca8-ef37-4b40-bb82-644ec7022fe3"
      },
      "execution_count": null,
      "outputs": [
        {
          "output_type": "stream",
          "name": "stdout",
          "text": [
            "['BUNIGU', 'SAN PEDRO', 'EL RAYO', 'EL ZACATAL']\n",
            "None\n",
            "['BUNIGU', 'SAN PEDRO', 'EL ZACATAL']\n"
          ]
        }
      ]
    },
    {
      "cell_type": "code",
      "source": [
        "los_ranchos = ['BUNIGU','SAN PEDRO', 'EL RAYO','EL ZACATAL','EL RAYO']\n",
        "\n",
        "print (los_ranchos)\n",
        "# Borramos un elemento, EL RAYO, pero existen DOS\n",
        "los_ranchos.remove('EL RAYO') # Sólo borra la primera entrada\n",
        "\n",
        "print (los_ranchos)"
      ],
      "metadata": {
        "colab": {
          "base_uri": "https://localhost:8080/"
        },
        "id": "_yOLizBi1f5f",
        "outputId": "619d0014-0bad-42a0-a4ef-f494db000443"
      },
      "execution_count": null,
      "outputs": [
        {
          "output_type": "stream",
          "name": "stdout",
          "text": [
            "['BUNIGU', 'SAN PEDRO', 'EL RAYO', 'EL ZACATAL', 'EL RAYO']\n",
            "['BUNIGU', 'SAN PEDRO', 'EL ZACATAL', 'EL RAYO']\n"
          ]
        }
      ]
    },
    {
      "cell_type": "markdown",
      "source": [
        "***Por su índice (con extracción):***\n",
        "\n",
        "    Las dos funciones anteriores del() y remove() efectivamente borran \n",
        "    el elemento indicado de la lista, pero no «devuelven» 3 nada. \n",
        "    Sin embargo, Python nos ofrece la función pop() que además de    \n",
        "    borrar, nos «recupera» el elemento; algo así como una extracción. \n",
        "    Lo podemos ver como una combinación de acceso + borrado:\n",
        "\n",
        "\n",
        "**Nota**\n",
        "\n",
        "Si usamos la función pop() sin pasarle ningún argumento, por defecto usará el índice -1, es decir, el último elemento de la lista. Pero también podemos indicarle el índice del elemento a extraer.\n"
      ],
      "metadata": {
        "id": "fD9mX0Up10DP"
      }
    },
    {
      "cell_type": "code",
      "source": [
        "los_ranchos = ['BUNIGU','SAN PEDRO', 'EL RAYO','EL ZACATAL']\n",
        "\n",
        "print (los_ranchos)\n",
        "# Borramos un elemento, EL RAYO\n",
        "# Observe como al imprimir la operacion de borrado SI imprime el valor del elemento borrado\n",
        "print (los_ranchos.pop(2)) # Si ponemos un elemento que no exista marcara error\n",
        "\n",
        "print (los_ranchos)"
      ],
      "metadata": {
        "colab": {
          "base_uri": "https://localhost:8080/"
        },
        "id": "2ETFXEHL2Res",
        "outputId": "83160504-9fb3-4621-a8fc-b2c18af0fe84"
      },
      "execution_count": null,
      "outputs": [
        {
          "output_type": "stream",
          "name": "stdout",
          "text": [
            "['BUNIGU', 'SAN PEDRO', 'EL RAYO', 'EL ZACATAL']\n",
            "EL RAYO\n",
            "['BUNIGU', 'SAN PEDRO', 'EL ZACATAL']\n"
          ]
        }
      ]
    },
    {
      "cell_type": "markdown",
      "source": [
        "Por su rango:\n",
        "\n",
        "    Mediante troceado (Sublista) de listas:"
      ],
      "metadata": {
        "id": "BcY1-G2r-aMN"
      }
    },
    {
      "cell_type": "code",
      "source": [
        "los_ranchos = ['BUNIGU','SAN PEDRO', 'EL RAYO','EL ZACATAL','EL CEDRAL', 'LA LAGUNA']\n",
        "\n",
        "print (los_ranchos)\n",
        "print (los_ranchos[1:4])\n",
        "los_ranchos[1:4] = []\n",
        "print (los_ranchos)"
      ],
      "metadata": {
        "colab": {
          "base_uri": "https://localhost:8080/"
        },
        "id": "2_IPRhEK-lks",
        "outputId": "4ece97d0-aecd-4703-b611-6afdcac229e9"
      },
      "execution_count": null,
      "outputs": [
        {
          "output_type": "stream",
          "name": "stdout",
          "text": [
            "['BUNIGU', 'SAN PEDRO', 'EL RAYO', 'EL ZACATAL', 'EL CEDRAL', 'LA LAGUNA']\n",
            "['SAN PEDRO', 'EL RAYO', 'EL ZACATAL']\n",
            "['BUNIGU', 'EL CEDRAL', 'LA LAGUNA']\n"
          ]
        }
      ]
    },
    {
      "cell_type": "markdown",
      "source": [
        "***Borrado completo de la lista***\n",
        "\n",
        "Python nos ofrece, al menos, dos formas para borrar una lista por completo:\n",
        "\n",
        "    Utilizando la función clear():"
      ],
      "metadata": {
        "id": "47TMi0r1_bu8"
      }
    },
    {
      "cell_type": "code",
      "source": [
        ""
      ],
      "metadata": {
        "id": "lrZ6nmub_mLD"
      },
      "execution_count": null,
      "outputs": []
    },
    {
      "cell_type": "code",
      "source": [
        "los_ranchos = ['BUNIGU','SAN PEDRO', 'EL RAYO','EL ZACATAL','EL CEDRAL', 'LA LAGUNA']\n",
        "\n",
        "print (los_ranchos)\n",
        "print (id(los_ranchos))\n",
        "\n",
        "los_ranchos.clear() # Borrado in-situ, por eso al imprimir el ID de memoria es el mismo\n",
        "\n",
        "print (los_ranchos)\n",
        "print (id(los_ranchos))"
      ],
      "metadata": {
        "outputId": "2d00fe3a-0bfd-4555-f899-00d401fa2bf1",
        "colab": {
          "base_uri": "https://localhost:8080/"
        },
        "id": "gulNHjBe_mj6"
      },
      "execution_count": null,
      "outputs": [
        {
          "output_type": "stream",
          "name": "stdout",
          "text": [
            "['BUNIGU', 'SAN PEDRO', 'EL RAYO', 'EL ZACATAL', 'EL CEDRAL', 'LA LAGUNA']\n",
            "140057317715472\n",
            "[]\n",
            "140057317715472\n"
          ]
        }
      ]
    },
    {
      "cell_type": "code",
      "source": [
        "los_ranchos = ['BUNIGU','SAN PEDRO', 'EL RAYO','EL ZACATAL','EL CEDRAL', 'LA LAGUNA']\n",
        "\n",
        "print (los_ranchos)\n",
        "print (id(los_ranchos))\n",
        "\n",
        "los_ranchos = [] # Nuevo espacio d ememoria, por eso al imprimir el ID de memoria NO es el mismo\n",
        "\n",
        "print (los_ranchos)\n",
        "print (id(los_ranchos))"
      ],
      "metadata": {
        "colab": {
          "base_uri": "https://localhost:8080/"
        },
        "id": "7a2a2Y6I_4rd",
        "outputId": "73cc6c0a-57ca-498b-9947-fdd926573bf0"
      },
      "execution_count": null,
      "outputs": [
        {
          "output_type": "stream",
          "name": "stdout",
          "text": [
            "['BUNIGU', 'SAN PEDRO', 'EL RAYO', 'EL ZACATAL', 'EL CEDRAL', 'LA LAGUNA']\n",
            "140057317623040\n",
            "[]\n",
            "140057317413824\n"
          ]
        }
      ]
    },
    {
      "cell_type": "markdown",
      "source": [
        ""
      ],
      "metadata": {
        "id": "cmw_x4suBC9e"
      }
    },
    {
      "cell_type": "markdown",
      "source": [
        "***Encontrar un elemento***\n",
        "\n",
        "Si queremos descubrir el índice que corresponde a un determinado valor dentro la lista podemos usar la función index() para ello:"
      ],
      "metadata": {
        "id": "I04-t4QlBDFF"
      }
    },
    {
      "cell_type": "code",
      "source": [
        "los_ranchos = ['BUNIGU','SAN PEDRO', 'EL RAYO','EL ZACATAL','EL CEDRAL', 'EL RAYO']\n",
        "\n",
        "print (los_ranchos)\n",
        "# Busco el elemento EL RAYO, hay dos sólo me indicala posicion del primero\n",
        "los_ranchos.index('EL RAYO') # SI no existe el ellemento en la lista marcara error, "
      ],
      "metadata": {
        "colab": {
          "base_uri": "https://localhost:8080/"
        },
        "id": "gsshs3aQBLaC",
        "outputId": "284fda3b-0506-4a78-835f-590525fe85e7"
      },
      "execution_count": null,
      "outputs": [
        {
          "output_type": "stream",
          "name": "stdout",
          "text": [
            "['BUNIGU', 'SAN PEDRO', 'EL RAYO', 'EL ZACATAL', 'EL CEDRAL', 'EL RAYO']\n"
          ]
        },
        {
          "output_type": "execute_result",
          "data": {
            "text/plain": [
              "2"
            ]
          },
          "metadata": {},
          "execution_count": 36
        }
      ]
    },
    {
      "cell_type": "markdown",
      "source": [
        "***Pertenencia de un elemento***\n",
        "\n",
        "Si queremos comprobar la existencia de un determinado elemento en una lista, podríamos buscar su índice, pero la forma pitónica de hacerlo es utilizar el operador in:\n"
      ],
      "metadata": {
        "id": "7KU7p3PgChDU"
      }
    },
    {
      "cell_type": "code",
      "source": [
        "los_ranchos = ['BUNIGU','SAN PEDRO', 'EL RAYO','EL ZACATAL','EL CEDRAL', 'EL RAYO']\n",
        "print (los_ranchos)\n",
        "\n",
        "'BUNIGU' in los_ranchos\n",
        "\n",
        "#'LA LAGUNA' in los_ranchos\n",
        "\n"
      ],
      "metadata": {
        "colab": {
          "base_uri": "https://localhost:8080/"
        },
        "id": "Jl6UzwunDNcK",
        "outputId": "80a489a0-a78e-476d-f76c-513e6ba6bfb9"
      },
      "execution_count": null,
      "outputs": [
        {
          "output_type": "stream",
          "name": "stdout",
          "text": [
            "['BUNIGU', 'SAN PEDRO', 'EL RAYO', 'EL ZACATAL', 'EL CEDRAL', 'EL RAYO']\n"
          ]
        },
        {
          "output_type": "execute_result",
          "data": {
            "text/plain": [
              "True"
            ]
          },
          "metadata": {},
          "execution_count": 42
        }
      ]
    },
    {
      "cell_type": "markdown",
      "source": [
        "***Número de ocurrencias***\n",
        "\n",
        "Para contar cuántas veces aparece un determinado valor dentro de una lista podemos usar la función count():"
      ],
      "metadata": {
        "id": "WjcfUYWhEsuo"
      }
    },
    {
      "cell_type": "code",
      "source": [
        "los_ranchos = ['BUNIGU','SAN PEDRO', 'EL RAYO','EL ZACATAL','EL CEDRAL', 'EL RAYO']\n",
        "\n",
        "print (los_ranchos)\n",
        "los_ranchos.count('EL RAYO')\n",
        "\n",
        "#DEscomente para ver los resultados\n",
        "#los_ranchos.count('EL ZACATAL') \n",
        "#los_ranchos.count('TLACUILOLA') \n",
        "\n"
      ],
      "metadata": {
        "colab": {
          "base_uri": "https://localhost:8080/"
        },
        "id": "bdl52bE5ExXc",
        "outputId": "4f46922f-65c3-443b-cae3-d5a046f717e4"
      },
      "execution_count": null,
      "outputs": [
        {
          "output_type": "stream",
          "name": "stdout",
          "text": [
            "['BUNIGU', 'SAN PEDRO', 'EL RAYO', 'EL ZACATAL', 'EL CEDRAL', 'EL RAYO']\n"
          ]
        },
        {
          "output_type": "execute_result",
          "data": {
            "text/plain": [
              "2"
            ]
          },
          "metadata": {},
          "execution_count": 44
        }
      ]
    },
    {
      "cell_type": "markdown",
      "source": [
        "***Convertir lista a cadena de texto***\n",
        "\n",
        "Dada una lista, podemos convetirla a una cadena de texto, uniendo todos sus elementos mediante algún separador. Para ello hacemos uso de la función join() con la siguiente estructura:\n",
        "***Hay que tener en cuenta que join() sólo funciona si todos sus elementos son cadenas de texto:*** Esta función join() es realmente la opuesta a la de split() para dividir una cadena."
      ],
      "metadata": {
        "id": "3mUEnTXk7cU5"
      }
    },
    {
      "cell_type": "code",
      "source": [
        "los_ranchos = ['BUNIGU','SAN PEDRO', 'EL RAYO','EL ZACATAL']\n",
        "print (los_ranchos)\n",
        "\n",
        "# Aplicamos el join seprados por coma\n",
        "','.join(los_ranchos)\n"
      ],
      "metadata": {
        "id": "UTHZJ2Qi7qnp"
      },
      "execution_count": null,
      "outputs": []
    },
    {
      "cell_type": "code",
      "source": [
        "los_ranchos = ['BUNIGU','SAN PEDRO', 'EL RAYO','EL ZACATAL']\n",
        "print (los_ranchos)\n",
        "\n",
        "# Aplicamos el join seprados por espacio\n",
        "' '.join(los_ranchos)\n"
      ],
      "metadata": {
        "colab": {
          "base_uri": "https://localhost:8080/",
          "height": 53
        },
        "id": "J9wWmbUX9YEa",
        "outputId": "06682274-eded-44cb-f4e4-35c5917a1964"
      },
      "execution_count": 9,
      "outputs": [
        {
          "output_type": "stream",
          "name": "stdout",
          "text": [
            "['BUNIGU', 'SAN PEDRO', 'EL RAYO', 'EL ZACATAL']\n"
          ]
        },
        {
          "output_type": "execute_result",
          "data": {
            "application/vnd.google.colaboratory.intrinsic+json": {
              "type": "string"
            },
            "text/plain": [
              "'BUNIGU SAN PEDRO EL RAYO EL ZACATAL'"
            ]
          },
          "metadata": {},
          "execution_count": 9
        }
      ]
    },
    {
      "cell_type": "code",
      "source": [
        "los_ranchos = ['BUNIGU',1, 'EL RAYO',3]\n",
        "print (los_ranchos)\n",
        "\n",
        "# Aplicamos el join seprados por espacio, MARCARA ERROR POR QUE NO TODOS LOS LEMENTOS SON TEXTO\n",
        "' '.join(los_ranchos)"
      ],
      "metadata": {
        "id": "4u0qg8J--Sr_"
      },
      "execution_count": null,
      "outputs": []
    },
    {
      "cell_type": "markdown",
      "source": [
        "***Ordenar una lista¶***\n",
        "\n",
        "Python proporciona, al menos, dos formas de ordenar los elementos de una lista:\n",
        "\n",
        "Conservando lista original:\n",
        "\n",
        "    Mediante la función sorted() que devuelve una nueva lista ordenada:"
      ],
      "metadata": {
        "id": "AO1Krr5JNY5l"
      }
    },
    {
      "cell_type": "code",
      "source": [
        "los_ranchos = ['BUNIGU','SAN PEDRO', 'EL RAYO','CEDRAL']\n",
        "print (los_ranchos)\n",
        "\n",
        "# Los ordenamos sin modificar la lista original\n",
        "print (sorted(los_ranchos))\n",
        "# Ordenamos en reversa\n",
        "print (sorted(los_ranchos, reverse=True))\n",
        "\n",
        "#Imprimimos la lista original y vemos que no hay cambios\n",
        "print (los_ranchos)"
      ],
      "metadata": {
        "colab": {
          "base_uri": "https://localhost:8080/"
        },
        "id": "XMAJcMERNrjC",
        "outputId": "a981bda0-a8be-4f26-f77b-fdf9f8757d9c"
      },
      "execution_count": 18,
      "outputs": [
        {
          "output_type": "stream",
          "name": "stdout",
          "text": [
            "['BUNIGU', 'SAN PEDRO', 'EL RAYO', 'CEDRAL']\n",
            "['BUNIGU', 'CEDRAL', 'EL RAYO', 'SAN PEDRO']\n",
            "['SAN PEDRO', 'EL RAYO', 'CEDRAL', 'BUNIGU']\n",
            "['BUNIGU', 'SAN PEDRO', 'EL RAYO', 'CEDRAL']\n"
          ]
        }
      ]
    },
    {
      "cell_type": "markdown",
      "source": [
        "***Modificando la lista original:***\n",
        "\n",
        "    Mediante la función sort():"
      ],
      "metadata": {
        "id": "VYOY4q1JOmyd"
      }
    },
    {
      "cell_type": "code",
      "source": [
        "los_ranchos = ['BUNIGU','SAN PEDRO', 'EL RAYO','CEDRAL']\n",
        "print (los_ranchos)\n",
        "\n",
        "# Los ordenamos  modificando la lista original\n",
        "los_ranchos.sort()\n",
        "print (los_ranchos)\n",
        "\n",
        "# Ordenando en reversa\n",
        "los_ranchos.sort(reverse=True)\n",
        "print (los_ranchos)\n"
      ],
      "metadata": {
        "colab": {
          "base_uri": "https://localhost:8080/"
        },
        "id": "b50pnTnoOthw",
        "outputId": "5d51f0fb-027a-423b-ea47-3ae1624e6018"
      },
      "execution_count": 17,
      "outputs": [
        {
          "output_type": "stream",
          "name": "stdout",
          "text": [
            "['BUNIGU', 'SAN PEDRO', 'EL RAYO', 'CEDRAL']\n",
            "['BUNIGU', 'CEDRAL', 'EL RAYO', 'SAN PEDRO']\n",
            "['SAN PEDRO', 'EL RAYO', 'CEDRAL', 'BUNIGU']\n"
          ]
        }
      ]
    },
    {
      "cell_type": "markdown",
      "source": [
        "***Longitud de una lista***\n",
        "\n",
        "Podemos conocer el número de elementos que tiene una lista con la función len():"
      ],
      "metadata": {
        "id": "xJaKbmt8Z5hw"
      }
    },
    {
      "cell_type": "code",
      "source": [
        "los_ranchos = ['BUNIGU','SAN PEDRO', 'EL RAYO','CEDRAL']\n",
        "print (len(los_ranchos))\n",
        "numeros = [3,5,7,8,9,2,1,11]\n",
        "len(numeros)\n"
      ],
      "metadata": {
        "colab": {
          "base_uri": "https://localhost:8080/"
        },
        "id": "iZRfGXztZ-R8",
        "outputId": "797caaff-1843-4ad4-bb25-91a0a98ce0dd"
      },
      "execution_count": 23,
      "outputs": [
        {
          "output_type": "stream",
          "name": "stdout",
          "text": [
            "4\n"
          ]
        },
        {
          "output_type": "execute_result",
          "data": {
            "text/plain": [
              "8"
            ]
          },
          "metadata": {},
          "execution_count": 23
        }
      ]
    },
    {
      "cell_type": "markdown",
      "source": [
        "***Iterar sobre una lista***\n",
        "\n",
        "Al igual que hemos visto con las cadenas de texto, también podemos iterar sobre los elementos de una lista utilizando la sentencia for:\n",
        "\n",
        "***Nota***\n",
        "\n",
        "También es posible usar la sentencia break en este tipo de bucles para abortar su ejecución en algún momento que nos interese.\n"
      ],
      "metadata": {
        "id": "OHxtp3jwb7TH"
      }
    },
    {
      "cell_type": "code",
      "source": [
        "los_ranchos = ['BUNIGU','SAN PEDRO', 'EL RAYO','CEDRAL']\n",
        "for elemento in los_ranchos:\n",
        "    print(elemento)\n",
        "\n",
        "print ('Iterando usando el índice')\n",
        "print ('Imprimimos índice y elemento')\n",
        "# La funcion enumerate nos da los índices de la lista\n",
        "for i, elemento in enumerate(los_ranchos):\n",
        "    print(i, elemento)\n"
      ],
      "metadata": {
        "colab": {
          "base_uri": "https://localhost:8080/"
        },
        "id": "ZKqebBHeb9aA",
        "outputId": "d434389d-7b90-4920-bdda-39afe64a06ec"
      },
      "execution_count": 31,
      "outputs": [
        {
          "output_type": "stream",
          "name": "stdout",
          "text": [
            "BUNIGU\n",
            "SAN PEDRO\n",
            "EL RAYO\n",
            "CEDRAL\n",
            "Iterando usando el índice\n",
            "Imprimimos índice y elemento\n",
            "0 BUNIGU\n",
            "1 SAN PEDRO\n",
            "2 EL RAYO\n",
            "3 CEDRAL\n"
          ]
        }
      ]
    },
    {
      "cell_type": "markdown",
      "source": [
        "***Iterar sobre múltiples listas***\n",
        "\n",
        "Python ofrece la posibilidad de iterar sobre múltiples listas en paralelo utilizando la función zip():\n",
        "\n",
        "***Nota***\n",
        "\n",
        "En el caso de que las listas no tengan la misma longitud, la función zip() realiza la combinación hasta que se agota la lista más corta.\n"
      ],
      "metadata": {
        "id": "1V404DYieLk0"
      }
    },
    {
      "cell_type": "code",
      "source": [
        "los_ranchos = ['BUNIGU','SAN PEDRO', 'EL RAYO','CEDRAL']\n",
        "arboles = ['HAY ENCINOS','HAY SABINOS', 'HAY CHIJOL'] # Es más corta por eso no imprime CEDRAL\n",
        "\n",
        "for rancho, arbol in zip(los_ranchos, arboles):\n",
        "    print(rancho, arbol)"
      ],
      "metadata": {
        "colab": {
          "base_uri": "https://localhost:8080/"
        },
        "id": "1fcLKKgmfRBo",
        "outputId": "4e9d837a-6a23-4178-ebda-894671ccc592"
      },
      "execution_count": 32,
      "outputs": [
        {
          "output_type": "stream",
          "name": "stdout",
          "text": [
            "BUNIGU HAY ENCINOS\n",
            "SAN PEDRO HAY SABINOS\n",
            "EL RAYO HAY CHIJOL\n"
          ]
        }
      ]
    },
    {
      "cell_type": "markdown",
      "source": [
        "Dado que zip() produce un iterador, si queremos obtener una lista explícita con la combinación en paralelo de las listas, debemos construir dicha lista de la siguiente manera:"
      ],
      "metadata": {
        "id": "K9jfqYCwkIK2"
      }
    },
    {
      "cell_type": "code",
      "source": [
        "arboles = ['HAY ENCINOS','HAY SABINOS', 'HAY CHIJOL'] # Es más corta por eso no imprime CEDRAL\n",
        "los_ranchos = ['BUNIGU','SAN PEDRO', 'EL RAYO','CEDRAL']\n",
        "\n",
        "list(zip(los_ranchos, arboles))\n",
        "\n",
        "print (list(zip(los_ranchos, arboles)))"
      ],
      "metadata": {
        "colab": {
          "base_uri": "https://localhost:8080/"
        },
        "id": "2kzLwvsnkJoZ",
        "outputId": "bac9d98c-df94-4230-e080-5ddfce349ca6"
      },
      "execution_count": 34,
      "outputs": [
        {
          "output_type": "stream",
          "name": "stdout",
          "text": [
            "[('BUNIGU', 'HAY ENCINOS'), ('SAN PEDRO', 'HAY SABINOS'), ('EL RAYO', 'HAY CHIJOL')]\n"
          ]
        }
      ]
    },
    {
      "cell_type": "markdown",
      "source": [
        "***Cuidado con las copias***\n",
        "\n",
        "**Las listas son estructuras de datos mutables** y esta característica nos obliga a tener cuidado cuando realizamos copias de listas, ya que la modificación de una de ellas puede afectar a la otra.\n",
        "\n",
        "Veamos un ejemplo sencillo:"
      ],
      "metadata": {
        "id": "1uB9ChkTkzWU"
      }
    },
    {
      "cell_type": "code",
      "source": [
        "los_ranchos = ['BUNIGU','SAN PEDRO', 'EL RAYO','CEDRAL']\n",
        "copia_los_ranchos = los_ranchos\n",
        "\n",
        "print (los_ranchos)\n",
        "print (copia_los_ranchos)\n",
        "\n",
        "# Vemos como la original y la copia apuntan a la misma dirección de meoria\n",
        "print (id(los_ranchos))\n",
        "print (id(copia_los_ranchos))\n",
        "\n",
        "# Modificamos la copia en algun elemento\n",
        "\n",
        "copia_los_ranchos[1] = 'LA ESCONDIDA'\n",
        "\n",
        "# Solo cambiamos la copia y observamos que la original también cambio\n",
        "print (los_ranchos)\n",
        "print (copia_los_ranchos)\n"
      ],
      "metadata": {
        "colab": {
          "base_uri": "https://localhost:8080/"
        },
        "id": "-GlLGYmwk6Vh",
        "outputId": "f6543989-c0f4-43cb-c4f2-c3b8582df51a"
      },
      "execution_count": 37,
      "outputs": [
        {
          "output_type": "stream",
          "name": "stdout",
          "text": [
            "['BUNIGU', 'SAN PEDRO', 'EL RAYO', 'CEDRAL']\n",
            "['BUNIGU', 'SAN PEDRO', 'EL RAYO', 'CEDRAL']\n",
            "140283999310144\n",
            "140283999310144\n",
            "['BUNIGU', 'LA ESCONDIDA', 'EL RAYO', 'CEDRAL']\n",
            "['BUNIGU', 'LA ESCONDIDA', 'EL RAYO', 'CEDRAL']\n"
          ]
        }
      ]
    },
    {
      "cell_type": "markdown",
      "source": [
        "Una posible solución a este problema anterior es hacer una «copia dura». Para ello Python proporciona la función copy():"
      ],
      "metadata": {
        "id": "IWdmOoICmPDF"
      }
    },
    {
      "cell_type": "code",
      "source": [
        "los_ranchos = ['BUNIGU','SAN PEDRO', 'EL RAYO','CEDRAL']\n",
        "copia_los_ranchos = los_ranchos.copy()\n",
        "\n",
        "print (los_ranchos)\n",
        "print (copia_los_ranchos)\n",
        "\n",
        "# Vemos como la original y la copia apuntan a DIFERENTE dirección de meoria\n",
        "print (id(los_ranchos))\n",
        "print (id(copia_los_ranchos))\n",
        "\n",
        "# Modificamos la copia en algun elemento\n",
        "\n",
        "copia_los_ranchos[1] = 'LA ESCONDIDA'\n",
        "\n",
        "# Solo cambiamos la copia y observamos que la original SE MANTIENE INTACTA\n",
        "print (los_ranchos)\n",
        "print (copia_los_ranchos)\n"
      ],
      "metadata": {
        "colab": {
          "base_uri": "https://localhost:8080/"
        },
        "id": "FsLzDXl2mYV5",
        "outputId": "16bd8030-da8c-486c-df3e-a6dc6c3ed978"
      },
      "execution_count": 39,
      "outputs": [
        {
          "output_type": "stream",
          "name": "stdout",
          "text": [
            "['BUNIGU', 'SAN PEDRO', 'EL RAYO', 'CEDRAL']\n",
            "['BUNIGU', 'SAN PEDRO', 'EL RAYO', 'CEDRAL']\n",
            "140284029543920\n",
            "140284030094864\n",
            "['BUNIGU', 'SAN PEDRO', 'EL RAYO', 'CEDRAL']\n",
            "['BUNIGU', 'LA ESCONDIDA', 'EL RAYO', 'CEDRAL']\n"
          ]
        }
      ]
    },
    {
      "cell_type": "markdown",
      "source": [
        "***Truco***\n",
        "\n",
        "En el caso de que estemos trabajando con listas que contienen elementos mutables, debemos hacer uso de la función deepcopy() dentro del módulo copy de la librería estándar. Ejemplo:"
      ],
      "metadata": {
        "id": "Iy_hwdeyndJ0"
      }
    },
    {
      "cell_type": "code",
      "source": [
        "# hacemos uan lista de listas, para que sea un elemento MUTABLE\n",
        "los_ranchos = [['BUNIGU','SAN PEDRO'], ['EL RAYO','LA ESCONDIDA'], ['GUAYABOS','SAN RAFAEL']]\n",
        "copia_los_ranchos = los_ranchos.copy()\n",
        "\n",
        "print (los_ranchos)\n",
        "print (copia_los_ranchos)\n",
        "\n",
        "# Vemos como la original y la copia apuntan a DIFERENTE dirección de meoria\n",
        "print (id(los_ranchos))\n",
        "print (id(copia_los_ranchos))\n",
        "\n",
        "# Modificamos la copia en algun elemento\n",
        "copia_los_ranchos[1][1] = 'COMEJE'\n",
        "\n",
        "# Solo cambiamos la copia y observamos que la original TAMBIEN CAMBIA A PESAR QUE SE HIZO con un copy\n",
        "print (los_ranchos)\n",
        "print (copia_los_ranchos)\n"
      ],
      "metadata": {
        "colab": {
          "base_uri": "https://localhost:8080/"
        },
        "id": "3kMbvsWoqbNa",
        "outputId": "2c468b94-4928-4df4-a735-da2f2bb6dcf9"
      },
      "execution_count": 41,
      "outputs": [
        {
          "output_type": "stream",
          "name": "stdout",
          "text": [
            "[['BUNIGU', 'SAN PEDRO'], ['EL RAYO', 'LA ESCONDIDA'], ['GUAYABOS', 'SAN RAFAEL']]\n",
            "[['BUNIGU', 'SAN PEDRO'], ['EL RAYO', 'LA ESCONDIDA'], ['GUAYABOS', 'SAN RAFAEL']]\n",
            "140283999339216\n",
            "140283998806656\n",
            "[['BUNIGU', 'SAN PEDRO'], ['EL RAYO', 'COMEJE'], ['GUAYABOS', 'SAN RAFAEL']]\n",
            "[['BUNIGU', 'SAN PEDRO'], ['EL RAYO', 'COMEJE'], ['GUAYABOS', 'SAN RAFAEL']]\n"
          ]
        }
      ]
    },
    {
      "cell_type": "markdown",
      "source": [
        "***Para evitar el problema anterior utilizamos la función deepcopy()***"
      ],
      "metadata": {
        "id": "Edc232i-rjQt"
      }
    },
    {
      "cell_type": "code",
      "source": [
        "import copy\n",
        "\n",
        "# Hacemos uan lista de listas, para que sea un elemento MUTABLE\n",
        "los_ranchos = [['BUNIGU','SAN PEDRO'], ['EL RAYO','LA ESCONDIDA'], ['GUAYABOS','SAN RAFAEL']]\n",
        "copia_los_ranchos = copy.deepcopy(los_ranchos)\n",
        "\n",
        "print (los_ranchos)\n",
        "print (copia_los_ranchos)\n",
        "\n",
        "# Vemos como la original y la copia apuntan a DIFERENTE dirección de meoria\n",
        "print (id(los_ranchos))\n",
        "print (id(copia_los_ranchos))\n",
        "\n",
        "# Modificamos la copia en algun elemento\n",
        "copia_los_ranchos[1][1] = 'COMEJE'\n",
        "\n",
        "# Solo cambiamos la copia y observamos que la original NO CAMBIA SE MANTIENE INTACTA\n",
        "print (los_ranchos)\n",
        "print (copia_los_ranchos)\n"
      ],
      "metadata": {
        "colab": {
          "base_uri": "https://localhost:8080/"
        },
        "id": "qcEz7410rueh",
        "outputId": "8bbbf8c0-ebe0-4c7e-d032-d4cbfa6e45b0"
      },
      "execution_count": 43,
      "outputs": [
        {
          "output_type": "stream",
          "name": "stdout",
          "text": [
            "[['BUNIGU', 'SAN PEDRO'], ['EL RAYO', 'LA ESCONDIDA'], ['GUAYABOS', 'SAN RAFAEL']]\n",
            "[['BUNIGU', 'SAN PEDRO'], ['EL RAYO', 'LA ESCONDIDA'], ['GUAYABOS', 'SAN RAFAEL']]\n",
            "140283999310544\n",
            "140283999223968\n",
            "[['BUNIGU', 'SAN PEDRO'], ['EL RAYO', 'LA ESCONDIDA'], ['GUAYABOS', 'SAN RAFAEL']]\n",
            "[['BUNIGU', 'SAN PEDRO'], ['EL RAYO', 'COMEJE'], ['GUAYABOS', 'SAN RAFAEL']]\n"
          ]
        }
      ]
    },
    {
      "cell_type": "markdown",
      "source": [
        "***Veracidad múltiple***\n",
        "\n",
        "Si bien podemos usar sentencias condicionales para comprobar la veracidad de determinadas expresiones, Python nos ofrece dos funciones «built-in» con las que podemos evaluar si se cumplen todas las condiciones all() o si se cumple alguna condición any(). Estas funciones trabajan sobre iterables, y el caso más evidente es una lista.\n",
        "\n",
        "Supongamos un ejemplo en el que queremos comprobar si una determinada palabra cumple las siguientes condiciones:\n",
        "\n",
        "    Su longitud total es mayor que 4.\n",
        "\n",
        "    Empieza por «P».\n",
        "\n",
        "    Contiene, al menos, una «f».\n",
        "\n",
        "Veamos la versión clásica:"
      ],
      "metadata": {
        "id": "yIaYhH70VjVW"
      }
    },
    {
      "cell_type": "code",
      "source": [
        "Pueblo = 'Pisaflores' # Es un string, es un elemento iterable\n",
        "\n",
        "if len(Pueblo) > 4 and Pueblo.startswith('P') and Pueblo.count('f') >= 1:\n",
        "    print('Mi tierra Bonita!')\n",
        "else:\n",
        "    print('No Es Mi Tierra')\n"
      ],
      "metadata": {
        "colab": {
          "base_uri": "https://localhost:8080/"
        },
        "id": "ljUiFiw_VvTT",
        "outputId": "86415b31-3320-40dd-e0e0-1ce8602aa08d"
      },
      "execution_count": 3,
      "outputs": [
        {
          "output_type": "stream",
          "name": "stdout",
          "text": [
            "Mi tierra Bonita!\n"
          ]
        }
      ]
    },
    {
      "cell_type": "markdown",
      "source": [
        "Veamos la versión con veracidad múltiple usando all(), donde se comprueba que se cumplan todas las expresiones:"
      ],
      "metadata": {
        "id": "cqZCELifW07Y"
      }
    },
    {
      "cell_type": "code",
      "source": [
        "Pueblo = 'Pisaflores' # Es un string, es un elemento iterable\n",
        "\n",
        "enough_length = len(Pueblo) > 4            # True\n",
        "right_beginning = Pueblo.startswith('P')   # True\n",
        "min_fs = Pueblo.count('f') >= 1            # True\n",
        "\n",
        "es_mi_tierra = all([enough_length, right_beginning, min_fs])\n",
        "\n",
        "if es_mi_tierra:\n",
        "    print('Mi tierra Bonita!')\n",
        "else:\n",
        "    print('No Es Mi Tierra')\n"
      ],
      "metadata": {
        "colab": {
          "base_uri": "https://localhost:8080/"
        },
        "id": "DV7xLqhFW2TJ",
        "outputId": "5a29d828-00ab-4aa5-b0d1-3c7e9b85afde"
      },
      "execution_count": 4,
      "outputs": [
        {
          "output_type": "stream",
          "name": "stdout",
          "text": [
            "Mi tierra Bonita!\n"
          ]
        }
      ]
    },
    {
      "cell_type": "markdown",
      "source": [
        "Veamos la versión con veracidad múltiple usando any(), donde se comprueba que se cumpla alguna expresión:"
      ],
      "metadata": {
        "id": "MoFZ_JercFWs"
      }
    },
    {
      "cell_type": "code",
      "source": [
        "Pueblo = 'Pisaflores' # Es un string, es un elemento iterable\n",
        "\n",
        "enough_length = len(Pueblo) > 11           # False\n",
        "right_beginning = Pueblo.startswith('p')   # False\n",
        "min_fs = Pueblo.count('f') >= 1            # True\n",
        "\n",
        "es_mi_tierra = any([enough_length, right_beginning, min_fs])\n",
        "\n",
        "if es_mi_tierra:\n",
        "    print('Mi tierra Bonita!')\n",
        "else:\n",
        "    print('No Es Mi Tierra')\n"
      ],
      "metadata": {
        "colab": {
          "base_uri": "https://localhost:8080/"
        },
        "id": "opmwiwgebiQa",
        "outputId": "53f4dff9-2afb-4caa-9d85-4d40cda1640a"
      },
      "execution_count": 5,
      "outputs": [
        {
          "output_type": "stream",
          "name": "stdout",
          "text": [
            "Mi tierra Bonita!\n"
          ]
        }
      ]
    },
    {
      "cell_type": "markdown",
      "source": [
        "***Nota:***\n",
        "\n",
        "Este enfoque puede ser interesante cuando se manejan muchas condiciones o bien cuando queremos separar las condiciones y agruparlas en una única lista.\n"
      ],
      "metadata": {
        "id": "VwX0mfWnb5ql"
      }
    },
    {
      "cell_type": "markdown",
      "source": [
        "***Listas por comprensión***\n",
        "\n",
        "La listas de comprensión, ***del inglés list comprehensions***, es una funcionalidad que le permite crear listas avanzadas de forma más compacta en una misma línea de código; basándose en el concepto matemático de conjuntos definidos por comprensión.\n",
        "\n",
        "La forma general de la definición de una lista por comprensión es:\n",
        "\n",
        "[expresion for item in iterable]\n",
        "\n",
        "Opcionalmente, se puede incluir un condicional en la expresión:\n",
        "\n",
        "[expresion for item in iterable if condicion]\n",
        "\n",
        "expresion puede ser cualquier expresión computable en Python, generalmente involucrando un item del iterable llamado iterable puede ser cualquier objeto iterable, como una secuencia (lista o cadena de caracteres), la función la función range(), etc.\n",
        "Ejemplos:"
      ],
      "metadata": {
        "id": "0OZZMVIpeHD3"
      }
    },
    {
      "cell_type": "code",
      "source": [
        "# Ejemplo Básico\n",
        "numbers = [3, 6, 9]\n",
        "results = []\n",
        "\n",
        "for n in numbers:\n",
        "    results.append(n + 1)   # Al valor de n en la lista le sumo 1\n",
        "results"
      ],
      "metadata": {
        "colab": {
          "base_uri": "https://localhost:8080/"
        },
        "id": "X_ixdfyahioR",
        "outputId": "512c5ab4-16a7-477b-d087-a48a66e1982f"
      },
      "execution_count": 14,
      "outputs": [
        {
          "output_type": "execute_result",
          "data": {
            "text/plain": [
              "[4, 7, 10]"
            ]
          },
          "metadata": {},
          "execution_count": 14
        }
      ]
    },
    {
      "cell_type": "code",
      "source": [
        "# De forma más elegante\n",
        "numbers = [3, 6, 9]\n",
        "results = [n + 1 for n in numbers] # n es el valor del elemento en la lista y a este le sumo 1\n",
        "print (results)"
      ],
      "metadata": {
        "colab": {
          "base_uri": "https://localhost:8080/"
        },
        "id": "bNkZTAwEh1lj",
        "outputId": "52ad4c03-9a9d-4e67-b445-39b45a9bc108"
      },
      "execution_count": 15,
      "outputs": [
        {
          "output_type": "stream",
          "name": "stdout",
          "text": [
            "[4, 7, 10]\n"
          ]
        }
      ]
    },
    {
      "cell_type": "code",
      "source": [
        "# Otro Ejemplo\n",
        "numbers = [3, 6, 9]\n",
        "results = [n + 2 for n in numbers] # n es el valor del elemento en la lista y a este le sumo 2\n",
        "print (results)"
      ],
      "metadata": {
        "colab": {
          "base_uri": "https://localhost:8080/"
        },
        "id": "OJ-y9RtojkjT",
        "outputId": "f5cb934f-604b-481c-d84e-ca16f586658f"
      },
      "execution_count": 16,
      "outputs": [
        {
          "output_type": "stream",
          "name": "stdout",
          "text": [
            "[5, 8, 11]\n"
          ]
        }
      ]
    },
    {
      "cell_type": "markdown",
      "source": [
        "***Condiciones en las listas por comprensión***\n",
        "\n",
        "Tal como se ha indicado anteriormente es posible añadir condiciones a las listas por comprensión en Python. Para lo que solemne se tiene que agregar un if al final con la condición. Siguiendo con el ejemplo anterior, se podría sumar uno solamente a los registros que sean menores que tres."
      ],
      "metadata": {
        "id": "a3JKOlQ4nTw4"
      }
    },
    {
      "cell_type": "code",
      "source": [
        "numbers = [3, 6, 9, 12]\n",
        "results = [n + 1 for n in numbers if n < 9] # Sólo suma 1 a los valores de la lista menores a 9\n",
        "results"
      ],
      "metadata": {
        "colab": {
          "base_uri": "https://localhost:8080/"
        },
        "id": "4oupYG5znhfr",
        "outputId": "2ded708b-3c47-4286-aac0-b36ca5a0105e"
      },
      "execution_count": 17,
      "outputs": [
        {
          "output_type": "execute_result",
          "data": {
            "text/plain": [
              "[4, 7]"
            ]
          },
          "metadata": {},
          "execution_count": 17
        }
      ]
    },
    {
      "cell_type": "code",
      "source": [
        "# Colocando un else al ejemplo anterior\n",
        "numbers = [3, 6, 9, 12]\n",
        "# Sólo suma 1 a los valores de la lista menores a 9,  \n",
        "# pero toma el vañor n de la lista y lo pone en la lista nueva\n",
        "results = [n + 1 if n < 9 else n for n in numbers] \n",
        "results"
      ],
      "metadata": {
        "colab": {
          "base_uri": "https://localhost:8080/"
        },
        "id": "HhR29DCYn0kq",
        "outputId": "7f243867-a9ea-49d4-958f-04459d971158"
      },
      "execution_count": 18,
      "outputs": [
        {
          "output_type": "execute_result",
          "data": {
            "text/plain": [
              "[4, 7, 9, 12]"
            ]
          },
          "metadata": {},
          "execution_count": 18
        }
      ]
    },
    {
      "cell_type": "markdown",
      "source": [
        "***Identificar los numero comunes en dos listas***"
      ],
      "metadata": {
        "id": "JHDnN4KjuLor"
      }
    },
    {
      "cell_type": "code",
      "source": [
        "ranchos_1 = ['EL CEDRAL' ,'EL ZACATAL' ,'EL COMEJE', 'LA LAGUNA', 'EL RAYO']\n",
        "ranchos_2 = ['EL RAYO', 'TALCUILOLA' ,'EL BUNIGU', 'SAN PEDRO', 'LA LAGUNA']\n",
        "ranchos_comunes = [a for a in ranchos_1 for b in ranchos_2 if a == b] # La comparacion hace diferencia en Mayusculas y minusculas, pruebe\n",
        "ranchos_comunes"
      ],
      "metadata": {
        "colab": {
          "base_uri": "https://localhost:8080/"
        },
        "id": "zbTXuw7IuQJs",
        "outputId": "ad780efe-6225-483e-d6e8-68d28444414d"
      },
      "execution_count": 22,
      "outputs": [
        {
          "output_type": "execute_result",
          "data": {
            "text/plain": [
              "['LA LAGUNA', 'EL RAYO']"
            ]
          },
          "metadata": {},
          "execution_count": 22
        }
      ]
    }
  ]
}