{
  "nbformat": 4,
  "nbformat_minor": 0,
  "metadata": {
    "colab": {
      "name": "python_5_strings_variables.ipynb",
      "provenance": [],
      "collapsed_sections": [],
      "authorship_tag": "ABX9TyMauEhsU4mNtzD+HKMT2ptX",
      "include_colab_link": true
    },
    "kernelspec": {
      "name": "python3",
      "display_name": "Python 3"
    },
    "language_info": {
      "name": "python"
    }
  },
  "cells": [
    {
      "cell_type": "markdown",
      "metadata": {
        "id": "view-in-github",
        "colab_type": "text"
      },
      "source": [
        "<a href=\"https://colab.research.google.com/github/carrkarr/python_ini/blob/main/python_5_strings_variables.ipynb\" target=\"_parent\"><img src=\"https://colab.research.google.com/assets/colab-badge.svg\" alt=\"Open In Colab\"/></a>"
      ]
    },
    {
      "cell_type": "markdown",
      "source": [
        "***Buscar subcadena en Python***\n",
        "\n",
        "Comprobar si existe una subcadena con el operador in\n",
        "\n",
        "Si solo necesitas comprobar que una subcadena está contenida en un texto, utiliza el **operador in**. Este operador devuelve True si encuentra la subcadena en la cadena y False en caso contrario."
      ],
      "metadata": {
        "id": "iRJIEqYuXkfz"
      }
    },
    {
      "cell_type": "code",
      "execution_count": 3,
      "metadata": {
        "colab": {
          "base_uri": "https://localhost:8080/"
        },
        "id": "vAdpR_vzXZsY",
        "outputId": "61a9fdde-5107-46a9-c5b9-51ec98276775"
      },
      "outputs": [
        {
          "output_type": "stream",
          "name": "stdout",
          "text": [
            "True\n",
            "False\n",
            "NO encontro al Chamuco\n",
            "SI encontro al Chamuco\n"
          ]
        }
      ],
      "source": [
        "print ('ol' in 'hola')\n",
        "print ('hel' in 'hola')\n",
        "\n",
        "if 'ch' in 'Chamuco':\n",
        "   print ('SI encontro al Chamuco')\n",
        "else:   \n",
        "   print ('NO encontro al Chamuco')\n",
        "\n",
        "if 'Ch' in 'Chamuco':\n",
        "   print ('SI encontro al Chamuco')\n",
        "else:   \n",
        "   print ('NO encontro al Chamuco')"
      ]
    },
    {
      "cell_type": "markdown",
      "source": [
        "***Buscar una subcadena en Python con find***\n",
        "\n",
        "find(sub [, pos_ini, pos_final]) es parecido a utilizar el operador in, con la diferencia de que si encuentra la subcadena sub devuelve el índice por el que comienza la primera aparición de dicha subcadena, y -1 en caso contrario."
      ],
      "metadata": {
        "id": "gHQrn_hwZURw"
      }
    },
    {
      "cell_type": "code",
      "source": [
        "cadena = 'Extraño la huasteca'\n",
        "\n",
        "print ( cadena.find('ex') )\n",
        "\n",
        "print ( cadena.find('la') )\n",
        "\n",
        "print ( cadena.find('hua') )\n",
        "\n",
        "print ( cadena.find('ño', 9) )\n",
        "\n",
        "print ( cadena.find('ño', 5) )\n"
      ],
      "metadata": {
        "colab": {
          "base_uri": "https://localhost:8080/"
        },
        "id": "aEUywcsyZuX8",
        "outputId": "15bed763-f14b-4dc3-c99f-0b82f2a2e2e2"
      },
      "execution_count": 7,
      "outputs": [
        {
          "output_type": "stream",
          "name": "stdout",
          "text": [
            "-1\n",
            "8\n",
            "11\n",
            "-1\n",
            "5\n"
          ]
        }
      ]
    },
    {
      "cell_type": "code",
      "source": [
        ""
      ],
      "metadata": {
        "id": "8-_3jdO2abjI"
      },
      "execution_count": null,
      "outputs": []
    }
  ]
}