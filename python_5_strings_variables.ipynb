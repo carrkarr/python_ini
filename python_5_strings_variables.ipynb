{
  "nbformat": 4,
  "nbformat_minor": 0,
  "metadata": {
    "colab": {
      "name": "python_5_strings_variables.ipynb",
      "provenance": [],
      "collapsed_sections": [],
      "authorship_tag": "ABX9TyOlS8X4zZG2JcHX9nVV/zPD",
      "include_colab_link": true
    },
    "kernelspec": {
      "name": "python3",
      "display_name": "Python 3"
    },
    "language_info": {
      "name": "python"
    }
  },
  "cells": [
    {
      "cell_type": "markdown",
      "metadata": {
        "id": "view-in-github",
        "colab_type": "text"
      },
      "source": [
        "<a href=\"https://colab.research.google.com/github/carrkarr/python_ini/blob/main/python_5_strings_variables.ipynb\" target=\"_parent\"><img src=\"https://colab.research.google.com/assets/colab-badge.svg\" alt=\"Open In Colab\"/></a>"
      ]
    },
    {
      "cell_type": "markdown",
      "source": [
        "***Buscar subcadena en Python***\n",
        "\n",
        "Comprobar si existe una subcadena con el operador in\n",
        "\n",
        "Si solo necesitas comprobar que una subcadena está contenida en un texto, utiliza el **operador in**. Este operador devuelve True si encuentra la subcadena en la cadena y False en caso contrario."
      ],
      "metadata": {
        "id": "iRJIEqYuXkfz"
      }
    },
    {
      "cell_type": "code",
      "execution_count": 3,
      "metadata": {
        "colab": {
          "base_uri": "https://localhost:8080/"
        },
        "id": "vAdpR_vzXZsY",
        "outputId": "61a9fdde-5107-46a9-c5b9-51ec98276775"
      },
      "outputs": [
        {
          "output_type": "stream",
          "name": "stdout",
          "text": [
            "True\n",
            "False\n",
            "NO encontro al Chamuco\n",
            "SI encontro al Chamuco\n"
          ]
        }
      ],
      "source": [
        "print ('ol' in 'hola')\n",
        "print ('hel' in 'hola')\n",
        "\n",
        "if 'ch' in 'Chamuco':\n",
        "   print ('SI encontro al Chamuco')\n",
        "else:   \n",
        "   print ('NO encontro al Chamuco')\n",
        "\n",
        "if 'Ch' in 'Chamuco':\n",
        "   print ('SI encontro al Chamuco')\n",
        "else:   \n",
        "   print ('NO encontro al Chamuco')"
      ]
    },
    {
      "cell_type": "markdown",
      "source": [
        "***Buscar una subcadena en Python con find***\n",
        "\n",
        "find(sub [, pos_ini, pos_final]) es parecido a utilizar el operador in, con la diferencia de que si encuentra la subcadena sub devuelve el índice por el que comienza la primera aparición de dicha subcadena, y -1 en caso contrario."
      ],
      "metadata": {
        "id": "gHQrn_hwZURw"
      }
    },
    {
      "cell_type": "code",
      "source": [
        "cadena = 'Extraño la huasteca, la sierra y los ríos' # La posición comienza con cero 0\n",
        "\n",
        "print ( cadena.find('ex') )\n",
        "\n",
        "print ( cadena.find('la') )\n",
        "\n",
        "print ( cadena.find('la', 9) )\n",
        "\n",
        "print ( cadena.find('hua') )\n",
        "\n",
        "print ( cadena.find('ño', 9) )\n",
        "\n",
        "print ( cadena.find('ño', 5) )\n",
        "\n",
        "print ( cadena.find('ño', 3) )\n"
      ],
      "metadata": {
        "colab": {
          "base_uri": "https://localhost:8080/"
        },
        "id": "aEUywcsyZuX8",
        "outputId": "ba8dbc22-eeb2-4006-e7ff-e81ca52f7aa7"
      },
      "execution_count": 10,
      "outputs": [
        {
          "output_type": "stream",
          "name": "stdout",
          "text": [
            "-1\n",
            "8\n",
            "21\n",
            "11\n",
            "-1\n",
            "5\n",
            "5\n"
          ]
        }
      ]
    },
    {
      "cell_type": "markdown",
      "source": [
        "***Buscar una subcadena con index***\n",
        "\n",
        "index(sub [, pos_ini, pos_final]) es similar a find() pero en caso de que no se encuentre la subcadena sub lanza la excepción ValueError."
      ],
      "metadata": {
        "id": "WRJ7yVIydFQU"
      }
    },
    {
      "cell_type": "code",
      "source": [
        "cadena = 'Extraño la huasteca, la sierra y los ríos' # La posición comienza con cero 0\n",
        "\n",
        "# Lo que esta  comentado marca error, descomentar si desea ver el error.\n",
        "# print ( cadena.index('ex') )\n",
        "\n",
        "print ( cadena.index('la') )\n",
        "\n",
        "print ( cadena.index('la', 9) )\n",
        "\n",
        "print ( cadena.index('hua') )\n",
        "\n",
        "# print ( cadena.index('ño', 9) )\n",
        "\n",
        "print ( cadena.index('ño', 5) )\n",
        "\n",
        "print ( cadena.index('ño', 3) )\n"
      ],
      "metadata": {
        "colab": {
          "base_uri": "https://localhost:8080/"
        },
        "id": "rnIqf_1bdJvy",
        "outputId": "d808989f-16d6-437b-cade-ad1605504447"
      },
      "execution_count": 15,
      "outputs": [
        {
          "output_type": "stream",
          "name": "stdout",
          "text": [
            "8\n",
            "21\n",
            "11\n",
            "5\n",
            "5\n"
          ]
        }
      ]
    },
    {
      "cell_type": "markdown",
      "source": [
        ""
      ],
      "metadata": {
        "id": "B0_RHqq1fMoa"
      }
    },
    {
      "cell_type": "markdown",
      "source": [
        "***Encontrar la última posición de una subcadena en Python con rfind***\n",
        "\n",
        "rfind(sub [, pos_ini, pos_final]) devuelve el índice por el que comienza la última aparición de la subcadena sub, y -1 si no se encuentra."
      ],
      "metadata": {
        "id": "FgWns8GbfNCM"
      }
    },
    {
      "cell_type": "code",
      "source": [
        "cadena = 'Extraño la huasteca, la sierra y los ríos' # La posición comienza con cero 0\n",
        "\n",
        "print ( cadena.rfind('ex') )\n",
        "\n",
        "print ( cadena.rfind('Ex') )\n",
        "\n",
        "print ( cadena.rfind('la') )\n",
        "\n",
        "print ( cadena.rfind('la', 9) )\n",
        "\n",
        "print ( cadena.rfind('la', 22) )\n",
        "\n",
        "print ( cadena.rfind('hua') )\n",
        "\n",
        "print ( cadena.rfind('ño', 9) )\n",
        "\n",
        "print ( cadena.rfind('ño', 5) )\n",
        "\n",
        "print ( cadena.rfind('ño', 3) )\n"
      ],
      "metadata": {
        "colab": {
          "base_uri": "https://localhost:8080/"
        },
        "id": "sLohxpfKfW8Q",
        "outputId": "66695149-07ef-4e95-d626-bdaada24aaa5"
      },
      "execution_count": 20,
      "outputs": [
        {
          "output_type": "stream",
          "name": "stdout",
          "text": [
            "-1\n",
            "0\n",
            "21\n",
            "21\n",
            "21\n",
            "-1\n",
            "11\n",
            "-1\n",
            "5\n",
            "5\n"
          ]
        }
      ]
    },
    {
      "cell_type": "markdown",
      "source": [
        "***Encontrar la última posición de una subcadena con rindex***\n",
        "\n",
        "rindex(sub [, pos_ini, pos_final]) es similar a rfind() pero en caso de que no se encuentre la subcadena sub lanza la excepción ValueError."
      ],
      "metadata": {
        "id": "CPYMyURcgSvL"
      }
    },
    {
      "cell_type": "code",
      "source": [
        "cadena = 'Extraño la huasteca, la sierra y los ríos' # La posición comienza con cero 0\n",
        "\n",
        "# Lo que esta  comentado marca error, descomentar si desea ver el error.\n",
        "# print ( cadena.rindex('ex') )\n",
        "\n",
        "print ( cadena.rindex('la') )\n",
        "\n",
        "print ( cadena.rindex('la', 9) )\n",
        "\n",
        "print ( cadena.rindex('hua') )\n",
        "\n",
        "# print ( cadena.rindex('ño', 9) )\n",
        "\n",
        "print ( cadena.rindex('ño', 5) )\n",
        "\n",
        "print ( cadena.rindex('ño', 3) )\n"
      ],
      "metadata": {
        "colab": {
          "base_uri": "https://localhost:8080/"
        },
        "id": "z8rUbYnfgdWH",
        "outputId": "4d5b0277-0cf8-4971-f026-e3bda686f05f"
      },
      "execution_count": 21,
      "outputs": [
        {
          "output_type": "stream",
          "name": "stdout",
          "text": [
            "21\n",
            "21\n",
            "11\n",
            "5\n",
            "5\n"
          ]
        }
      ]
    },
    {
      "cell_type": "markdown",
      "source": [
        "***Contar el número de ocurrencias de una subcadena***\n",
        "\n",
        "Para obtener el número de veces que una subcadena aparece en un texto, utiliza el método count(). count(sub [, pos_ini, pos_final]) devuelve el número de ocurrencias de la subcadena sub en la cadena."
      ],
      "metadata": {
        "id": "lY5uO_7bgxtX"
      }
    },
    {
      "cell_type": "code",
      "source": [
        "cadena = 'Extraño la huasteca, la sierra y los ríos' # La posición comienza con cero 0\n",
        "\n",
        "print ( cadena.count('ex') )\n",
        "\n",
        "print ( cadena.count('Ex') )\n",
        "\n",
        "print ( cadena.count('la') )\n",
        "\n",
        "print ( cadena.count('la', 9) )\n",
        "\n",
        "print ( cadena.count('la', 21) )\n",
        "\n",
        "print ( cadena.count('la', 22) )\n",
        "\n"
      ],
      "metadata": {
        "colab": {
          "base_uri": "https://localhost:8080/"
        },
        "id": "CAJQfsy3g-Nq",
        "outputId": "6a689029-d783-4a1e-a492-3041df5f3b1d"
      },
      "execution_count": 25,
      "outputs": [
        {
          "output_type": "stream",
          "name": "stdout",
          "text": [
            "0\n",
            "1\n",
            "2\n",
            "1\n",
            "1\n",
            "0\n"
          ]
        }
      ]
    },
    {
      "cell_type": "markdown",
      "source": [
        "***Comprobar si una cadena comienza por un prefijo en Python***\n",
        "\n",
        "Para comprobar si una cadena comienza por una subcadena, utiliza el método startswith(). startswith(prefijo [, pos_ini, pos_fin]) devuelve True si la cadena comienza por prefijo y False en caso contrario. prefijo puede ser una tupla de prefijos a buscar."
      ],
      "metadata": {
        "id": "iW2hGmpujpsp"
      }
    },
    {
      "cell_type": "code",
      "source": [
        "cadena = 'Extraño la huasteca, la sierra y los ríos' # La posición comienza con cero 0\n",
        "\n",
        "print ( cadena.startswith('ex') )\n",
        "\n",
        "print ( cadena.startswith('Ex') )\n",
        "\n",
        "print ( cadena.startswith('la') )\n",
        "\n",
        "print ( cadena.startswith('la',8) )\n",
        "\n",
        "# Observar\n",
        "print ( cadena.find('la') )\n"
      ],
      "metadata": {
        "colab": {
          "base_uri": "https://localhost:8080/"
        },
        "id": "CGE3eCwIjzNX",
        "outputId": "ee0abcfb-bf22-4aea-93fa-7d5acb9a5f92"
      },
      "execution_count": 33,
      "outputs": [
        {
          "output_type": "stream",
          "name": "stdout",
          "text": [
            "False\n",
            "True\n",
            "False\n",
            "True\n",
            "8\n"
          ]
        }
      ]
    },
    {
      "cell_type": "markdown",
      "source": [
        "***Comprobar si una cadena finaliza con un sufijo en Python***\n",
        "\n",
        "Para comprobar si una cadena finaliza por una subcadena, utiliza el método endswith(). endswith(sufijo [, pos_ini, pos_fin]) devuelve True si la cadena termina por sufijo y False en caso contrario. sufijo puede ser una tupla de sufijos a buscar."
      ],
      "metadata": {
        "id": "QnD-6NbGpRh9"
      }
    },
    {
      "cell_type": "code",
      "source": [
        "cadena = 'Extraño la huasteca, la sierra y los ríos' # La posición comienza con cero 0\n",
        "\n",
        "print ( cadena.endswith('Os') )\n",
        "\n",
        "print ( cadena.endswith('os') )\n",
        "\n",
        "print ( cadena.endswith('la') )\n",
        "\n",
        "print ( cadena.endswith('ca',0,19) )\n",
        "\n",
        "# Observar\n",
        "print ( cadena.find('ca') )"
      ],
      "metadata": {
        "colab": {
          "base_uri": "https://localhost:8080/"
        },
        "id": "F_nlP6tnpbFN",
        "outputId": "ca57de56-ae56-4e90-f92c-7d86a1364f13"
      },
      "execution_count": 39,
      "outputs": [
        {
          "output_type": "stream",
          "name": "stdout",
          "text": [
            "False\n",
            "True\n",
            "False\n",
            "True\n",
            "17\n"
          ]
        }
      ]
    }
  ]
}