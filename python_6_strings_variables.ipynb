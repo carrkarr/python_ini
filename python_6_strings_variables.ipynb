{
  "nbformat": 4,
  "nbformat_minor": 0,
  "metadata": {
    "colab": {
      "name": "python_6_strings_variables.ipynb",
      "provenance": [],
      "collapsed_sections": [],
      "authorship_tag": "ABX9TyNPdzg9rQCjCyUgnF5c8C+z",
      "include_colab_link": true
    },
    "kernelspec": {
      "name": "python3",
      "display_name": "Python 3"
    },
    "language_info": {
      "name": "python"
    }
  },
  "cells": [
    {
      "cell_type": "markdown",
      "metadata": {
        "id": "view-in-github",
        "colab_type": "text"
      },
      "source": [
        "<a href=\"https://colab.research.google.com/github/carrkarr/python_ini/blob/main/python_6_strings_variables.ipynb\" target=\"_parent\"><img src=\"https://colab.research.google.com/assets/colab-badge.svg\" alt=\"Open In Colab\"/></a>"
      ]
    },
    {
      "cell_type": "markdown",
      "source": [
        "***Buscar subcadena en Python***\n",
        "\n",
        "Comprobar si existe una subcadena con el operador in\n",
        "\n",
        "Si solo necesitas comprobar que una subcadena está contenida en un texto, utiliza el **operador in**. Este operador devuelve True si encuentra la subcadena en la cadena y False en caso contrario."
      ],
      "metadata": {
        "id": "iRJIEqYuXkfz"
      }
    },
    {
      "cell_type": "code",
      "execution_count": null,
      "metadata": {
        "colab": {
          "base_uri": "https://localhost:8080/"
        },
        "id": "vAdpR_vzXZsY",
        "outputId": "61a9fdde-5107-46a9-c5b9-51ec98276775"
      },
      "outputs": [
        {
          "output_type": "stream",
          "name": "stdout",
          "text": [
            "True\n",
            "False\n",
            "NO encontro al Chamuco\n",
            "SI encontro al Chamuco\n"
          ]
        }
      ],
      "source": [
        "print ('ol' in 'hola')\n",
        "print ('hel' in 'hola')\n",
        "\n",
        "if 'ch' in 'Chamuco':\n",
        "   print ('SI encontro al Chamuco')\n",
        "else:   \n",
        "   print ('NO encontro al Chamuco')\n",
        "\n",
        "if 'Ch' in 'Chamuco':\n",
        "   print ('SI encontro al Chamuco')\n",
        "else:   \n",
        "   print ('NO encontro al Chamuco')"
      ]
    },
    {
      "cell_type": "markdown",
      "source": [
        "***Buscar una subcadena en Python con find***\n",
        "\n",
        "find(sub [, pos_ini, pos_final]) es parecido a utilizar el operador in, con la diferencia de que si encuentra la subcadena sub devuelve el índice por el que comienza la primera aparición de dicha subcadena, y -1 en caso contrario."
      ],
      "metadata": {
        "id": "gHQrn_hwZURw"
      }
    },
    {
      "cell_type": "code",
      "source": [
        "cadena = 'Extraño la huasteca, la sierra y los ríos' # La posición comienza con cero 0\n",
        "\n",
        "print ( cadena.find('ex') )\n",
        "\n",
        "print ( cadena.find('la') )\n",
        "\n",
        "print ( cadena.find('la', 9) )\n",
        "\n",
        "print ( cadena.find('hua') )\n",
        "\n",
        "print ( cadena.find('ño', 9) )\n",
        "\n",
        "print ( cadena.find('ño', 5) )\n",
        "\n",
        "print ( cadena.find('ño', 3) )\n"
      ],
      "metadata": {
        "colab": {
          "base_uri": "https://localhost:8080/"
        },
        "id": "aEUywcsyZuX8",
        "outputId": "ba8dbc22-eeb2-4006-e7ff-e81ca52f7aa7"
      },
      "execution_count": null,
      "outputs": [
        {
          "output_type": "stream",
          "name": "stdout",
          "text": [
            "-1\n",
            "8\n",
            "21\n",
            "11\n",
            "-1\n",
            "5\n",
            "5\n"
          ]
        }
      ]
    },
    {
      "cell_type": "markdown",
      "source": [
        "***Buscar una subcadena con index***\n",
        "\n",
        "index(sub [, pos_ini, pos_final]) es similar a find() pero en caso de que no se encuentre la subcadena sub lanza la excepción ValueError."
      ],
      "metadata": {
        "id": "WRJ7yVIydFQU"
      }
    },
    {
      "cell_type": "code",
      "source": [
        "cadena = 'Extraño la huasteca, la sierra y los ríos' # La posición comienza con cero 0\n",
        "\n",
        "# Lo que esta  comentado marca error, descomentar si desea ver el error.\n",
        "# print ( cadena.index('ex') )\n",
        "\n",
        "print ( cadena.index('la') )\n",
        "\n",
        "print ( cadena.index('la', 9) )\n",
        "\n",
        "print ( cadena.index('hua') )\n",
        "\n",
        "# print ( cadena.index('ño', 9) )\n",
        "\n",
        "print ( cadena.index('ño', 5) )\n",
        "\n",
        "print ( cadena.index('ño', 3) )\n"
      ],
      "metadata": {
        "colab": {
          "base_uri": "https://localhost:8080/"
        },
        "id": "rnIqf_1bdJvy",
        "outputId": "d808989f-16d6-437b-cade-ad1605504447"
      },
      "execution_count": null,
      "outputs": [
        {
          "output_type": "stream",
          "name": "stdout",
          "text": [
            "8\n",
            "21\n",
            "11\n",
            "5\n",
            "5\n"
          ]
        }
      ]
    },
    {
      "cell_type": "markdown",
      "source": [
        ""
      ],
      "metadata": {
        "id": "B0_RHqq1fMoa"
      }
    },
    {
      "cell_type": "markdown",
      "source": [
        "***Encontrar la última posición de una subcadena en Python con rfind***\n",
        "\n",
        "rfind(sub [, pos_ini, pos_final]) devuelve el índice por el que comienza la última aparición de la subcadena sub, y -1 si no se encuentra."
      ],
      "metadata": {
        "id": "FgWns8GbfNCM"
      }
    },
    {
      "cell_type": "code",
      "source": [
        "cadena = 'Extraño la huasteca, la sierra y los ríos' # La posición comienza con cero 0\n",
        "\n",
        "print ( cadena.rfind('ex') )\n",
        "\n",
        "print ( cadena.rfind('Ex') )\n",
        "\n",
        "print ( cadena.rfind('la') )\n",
        "\n",
        "print ( cadena.rfind('la', 9) )\n",
        "\n",
        "print ( cadena.rfind('la', 22) )\n",
        "\n",
        "print ( cadena.rfind('hua') )\n",
        "\n",
        "print ( cadena.rfind('ño', 9) )\n",
        "\n",
        "print ( cadena.rfind('ño', 5) )\n",
        "\n",
        "print ( cadena.rfind('ño', 3) )\n"
      ],
      "metadata": {
        "colab": {
          "base_uri": "https://localhost:8080/"
        },
        "id": "sLohxpfKfW8Q",
        "outputId": "66695149-07ef-4e95-d626-bdaada24aaa5"
      },
      "execution_count": null,
      "outputs": [
        {
          "output_type": "stream",
          "name": "stdout",
          "text": [
            "-1\n",
            "0\n",
            "21\n",
            "21\n",
            "21\n",
            "-1\n",
            "11\n",
            "-1\n",
            "5\n",
            "5\n"
          ]
        }
      ]
    },
    {
      "cell_type": "markdown",
      "source": [
        "***Encontrar la última posición de una subcadena con rindex***\n",
        "\n",
        "rindex(sub [, pos_ini, pos_final]) es similar a rfind() pero en caso de que no se encuentre la subcadena sub lanza la excepción ValueError."
      ],
      "metadata": {
        "id": "CPYMyURcgSvL"
      }
    },
    {
      "cell_type": "code",
      "source": [
        "cadena = 'Extraño la huasteca, la sierra y los ríos' # La posición comienza con cero 0\n",
        "\n",
        "# Lo que esta  comentado marca error, descomentar si desea ver el error.\n",
        "# print ( cadena.rindex('ex') )\n",
        "\n",
        "print ( cadena.rindex('la') )\n",
        "\n",
        "print ( cadena.rindex('la', 9) )\n",
        "\n",
        "print ( cadena.rindex('hua') )\n",
        "\n",
        "# print ( cadena.rindex('ño', 9) )\n",
        "\n",
        "print ( cadena.rindex('ño', 5) )\n",
        "\n",
        "print ( cadena.rindex('ño', 3) )\n"
      ],
      "metadata": {
        "colab": {
          "base_uri": "https://localhost:8080/"
        },
        "id": "z8rUbYnfgdWH",
        "outputId": "4d5b0277-0cf8-4971-f026-e3bda686f05f"
      },
      "execution_count": null,
      "outputs": [
        {
          "output_type": "stream",
          "name": "stdout",
          "text": [
            "21\n",
            "21\n",
            "11\n",
            "5\n",
            "5\n"
          ]
        }
      ]
    },
    {
      "cell_type": "markdown",
      "source": [
        "***Contar el número de ocurrencias de una subcadena***\n",
        "\n",
        "Para obtener el número de veces que una subcadena aparece en un texto, utiliza el método count(). count(sub [, pos_ini, pos_final]) devuelve el número de ocurrencias de la subcadena sub en la cadena."
      ],
      "metadata": {
        "id": "lY5uO_7bgxtX"
      }
    },
    {
      "cell_type": "code",
      "source": [
        "cadena = 'Extraño la huasteca, la sierra y los ríos' # La posición comienza con cero 0\n",
        "\n",
        "print ( cadena.count('ex') )\n",
        "\n",
        "print ( cadena.count('Ex') )\n",
        "\n",
        "print ( cadena.count('la') )\n",
        "\n",
        "print ( cadena.count('la', 9) )\n",
        "\n",
        "print ( cadena.count('la', 21) )\n",
        "\n",
        "print ( cadena.count('la', 22) )\n",
        "\n"
      ],
      "metadata": {
        "colab": {
          "base_uri": "https://localhost:8080/"
        },
        "id": "CAJQfsy3g-Nq",
        "outputId": "6a689029-d783-4a1e-a492-3041df5f3b1d"
      },
      "execution_count": null,
      "outputs": [
        {
          "output_type": "stream",
          "name": "stdout",
          "text": [
            "0\n",
            "1\n",
            "2\n",
            "1\n",
            "1\n",
            "0\n"
          ]
        }
      ]
    },
    {
      "cell_type": "markdown",
      "source": [
        "***Comprobar si una cadena comienza por un prefijo en Python***\n",
        "\n",
        "Para comprobar si una cadena comienza por una subcadena, utiliza el método startswith(). startswith(prefijo [, pos_ini, pos_fin]) devuelve True si la cadena comienza por prefijo y False en caso contrario. prefijo puede ser una tupla de prefijos a buscar."
      ],
      "metadata": {
        "id": "iW2hGmpujpsp"
      }
    },
    {
      "cell_type": "code",
      "source": [
        "cadena = 'Extraño la huasteca, la sierra y los ríos' # La posición comienza con cero 0\n",
        "\n",
        "print ( cadena.startswith('ex') )\n",
        "\n",
        "print ( cadena.startswith('Ex') )\n",
        "\n",
        "print ( cadena.startswith('la') )\n",
        "\n",
        "print ( cadena.startswith('la',8) )\n",
        "\n",
        "# Observar\n",
        "print ( cadena.find('la') )\n"
      ],
      "metadata": {
        "colab": {
          "base_uri": "https://localhost:8080/"
        },
        "id": "CGE3eCwIjzNX",
        "outputId": "ee0abcfb-bf22-4aea-93fa-7d5acb9a5f92"
      },
      "execution_count": null,
      "outputs": [
        {
          "output_type": "stream",
          "name": "stdout",
          "text": [
            "False\n",
            "True\n",
            "False\n",
            "True\n",
            "8\n"
          ]
        }
      ]
    },
    {
      "cell_type": "markdown",
      "source": [
        "***Comprobar si una cadena finaliza con un sufijo en Python***\n",
        "\n",
        "Para comprobar si una cadena finaliza por una subcadena, utiliza el método endswith(). endswith(sufijo [, pos_ini, pos_fin]) devuelve True si la cadena termina por sufijo y False en caso contrario. sufijo puede ser una tupla de sufijos a buscar."
      ],
      "metadata": {
        "id": "QnD-6NbGpRh9"
      }
    },
    {
      "cell_type": "code",
      "source": [
        "cadena = 'Extraño la huasteca, la sierra y los ríos' # La posición comienza con cero 0\n",
        "\n",
        "print ( cadena.endswith('Os') )\n",
        "\n",
        "print ( cadena.endswith('os') )\n",
        "\n",
        "print ( cadena.endswith('la') )\n",
        "\n",
        "print ( cadena.endswith('ca',0,19) )\n",
        "\n",
        "# Observar\n",
        "print ( cadena.find('ca') )"
      ],
      "metadata": {
        "colab": {
          "base_uri": "https://localhost:8080/"
        },
        "id": "F_nlP6tnpbFN",
        "outputId": "ca57de56-ae56-4e90-f92c-7d86a1364f13"
      },
      "execution_count": null,
      "outputs": [
        {
          "output_type": "stream",
          "name": "stdout",
          "text": [
            "False\n",
            "True\n",
            "False\n",
            "True\n",
            "17\n"
          ]
        }
      ]
    },
    {
      "cell_type": "markdown",
      "source": [
        "***Convertir un string en fecha en Python***\n",
        "\n",
        "***Cómo convertir un string en fecha***\n",
        "\n",
        "Para convertir un string en un objeto de tipo fecha equivalente tienes que hacer uso del método strptime() de la clase datetime. Este método devuelve siempre un objeto datetime a partir de una cadena con un formato específico.\n",
        "\n",
        "***❗️NOTA:*** No se puede convertir cualquier objeto de tipo string a un objeto datetime. La cadena debe tener un formato definido con antelación.\n",
        "\n",
        "El método strptime() toma dos argumentos. El primero de ellos es la cadena a convertir y el segundo el formato que sigue dicha cadena. Para definir el formato se puede hacer uso de unos códigos de formato que te enseñaré más adelante. Antes, veamos unos ejemplos.\n",
        "Ejemplo 1: Transformar un string en datetime\n",
        "\n",
        "Supongamos que queremos convertir la cadena '20/04/2019' en un objeto datetime equivalente. Los pasos que tenemos que seguir son los siguientes ***(recuerda importar primero la clase datetime del módulo datetime):***\n"
      ],
      "metadata": {
        "id": "vrJVidv3ue97"
      }
    },
    {
      "cell_type": "code",
      "source": [
        "from datetime import datetime\n",
        "\n",
        "# Convertimos un string con formato <día>/<mes>/<año> en datetime\n",
        "una_fecha = '20/04/2019'\n",
        "fecha_dt = datetime.strptime(una_fecha, '%d/%m/%Y')\n",
        "print(fecha_dt)\n",
        "\n",
        "# Comprobación del tipo del objeto fecha_dt\n",
        "print(type(fecha_dt))\n",
        "\n",
        "# Obsrvar que si  cambio de mes,dia, año, también debo de cambiar el formato '%m/%d/%Y'\n",
        "una_fecha = '04/20/2019'\n",
        "fecha_dt = datetime.strptime(una_fecha, '%m/%d/%Y')\n",
        "print(fecha_dt)\n",
        "\n",
        "\"\"\"\n",
        "Como puedes ver en el ejemplo, el objeto datetime que se crea \n",
        "inicializa a 0 los campos relacionados con la hora \n",
        "dado que no se han especificado.\n",
        "\"\"\"\n"
      ],
      "metadata": {
        "colab": {
          "base_uri": "https://localhost:8080/"
        },
        "id": "XsWlekYAvBaD",
        "outputId": "ffb71d7b-aca2-4c94-f411-59eb9bc12ffc"
      },
      "execution_count": null,
      "outputs": [
        {
          "output_type": "stream",
          "name": "stdout",
          "text": [
            "2019-04-20 00:00:00\n",
            "<class 'datetime.datetime'>\n",
            "2019-04-20 00:00:00\n"
          ]
        }
      ]
    },
    {
      "cell_type": "markdown",
      "source": [
        "***Pasar un string a datetime (otro formato distinto)***\n",
        "\n",
        "Veamos otro ejemplo con un formato de fecha/hora algo más complejo."
      ],
      "metadata": {
        "id": "d5ebdjauwp1M"
      }
    },
    {
      "cell_type": "code",
      "source": [
        "# Convertimos un string con formato\n",
        "# <día> del <mes> de <año> a las <hora>:<minutos> en datetime\n",
        "una_fecha = '20 del 04 de 2019 a las 12:00'\n",
        "fecha_dt = datetime.strptime(una_fecha, '%d del %m de %Y a las %H:%M')\n",
        "print(fecha_dt)\n"
      ],
      "metadata": {
        "colab": {
          "base_uri": "https://localhost:8080/"
        },
        "id": "GonFb1G-wxM-",
        "outputId": "6919768c-56a5-4ec9-87f6-f0f547b57798"
      },
      "execution_count": null,
      "outputs": [
        {
          "output_type": "stream",
          "name": "stdout",
          "text": [
            "2019-04-20 12:00:00\n"
          ]
        }
      ]
    },
    {
      "cell_type": "markdown",
      "source": [
        "***ValueError al convertir un string***\n",
        "\n",
        "Como te indicaba más arriba, la cadena a convertir debe tener un formato específico. Concretamente debe seguir el formato que se indica en el segundo parámetro con el que se llama a strptime(). En caso contrario, al llamar al método strptime() se lanzará una excepción ValueError."
      ],
      "metadata": {
        "id": "3LKH8pck3lwA"
      }
    },
    {
      "cell_type": "code",
      "source": [
        "from datetime import datetime\n",
        "\n",
        "una_fecha = '20/04/2019'\n",
        "fecha_dt = datetime.strptime(una_fecha, '%d-%m-%Y') # Marcara error por qu el formato no coincide.\n",
        "print(fecha_dt)"
      ],
      "metadata": {
        "colab": {
          "base_uri": "https://localhost:8080/",
          "height": 348
        },
        "id": "U8Sm1Yzr5Bol",
        "outputId": "a61ca686-2540-4a03-bd80-27b8c45e28b7"
      },
      "execution_count": null,
      "outputs": [
        {
          "output_type": "error",
          "ename": "ValueError",
          "evalue": "ignored",
          "traceback": [
            "\u001b[0;31m---------------------------------------------------------------------------\u001b[0m",
            "\u001b[0;31mValueError\u001b[0m                                Traceback (most recent call last)",
            "\u001b[0;32m<ipython-input-44-e626714515c3>\u001b[0m in \u001b[0;36m<module>\u001b[0;34m()\u001b[0m\n\u001b[1;32m      1\u001b[0m \u001b[0muna_fecha\u001b[0m \u001b[0;34m=\u001b[0m \u001b[0;34m'20/04/2019'\u001b[0m\u001b[0;34m\u001b[0m\u001b[0;34m\u001b[0m\u001b[0m\n\u001b[0;32m----> 2\u001b[0;31m \u001b[0mfecha_dt\u001b[0m \u001b[0;34m=\u001b[0m \u001b[0mdatetime\u001b[0m\u001b[0;34m.\u001b[0m\u001b[0mstrptime\u001b[0m\u001b[0;34m(\u001b[0m\u001b[0muna_fecha\u001b[0m\u001b[0;34m,\u001b[0m \u001b[0;34m'%d-%m-%Y'\u001b[0m\u001b[0;34m)\u001b[0m \u001b[0;31m# Marcara error por qu el formato no coincide.\u001b[0m\u001b[0;34m\u001b[0m\u001b[0;34m\u001b[0m\u001b[0m\n\u001b[0m\u001b[1;32m      3\u001b[0m \u001b[0mprint\u001b[0m\u001b[0;34m(\u001b[0m\u001b[0mfecha_dt\u001b[0m\u001b[0;34m)\u001b[0m\u001b[0;34m\u001b[0m\u001b[0;34m\u001b[0m\u001b[0m\n",
            "\u001b[0;32m/usr/lib/python3.7/_strptime.py\u001b[0m in \u001b[0;36m_strptime_datetime\u001b[0;34m(cls, data_string, format)\u001b[0m\n\u001b[1;32m    575\u001b[0m     \"\"\"Return a class cls instance based on the input string and the\n\u001b[1;32m    576\u001b[0m     format string.\"\"\"\n\u001b[0;32m--> 577\u001b[0;31m     \u001b[0mtt\u001b[0m\u001b[0;34m,\u001b[0m \u001b[0mfraction\u001b[0m\u001b[0;34m,\u001b[0m \u001b[0mgmtoff_fraction\u001b[0m \u001b[0;34m=\u001b[0m \u001b[0m_strptime\u001b[0m\u001b[0;34m(\u001b[0m\u001b[0mdata_string\u001b[0m\u001b[0;34m,\u001b[0m \u001b[0mformat\u001b[0m\u001b[0;34m)\u001b[0m\u001b[0;34m\u001b[0m\u001b[0;34m\u001b[0m\u001b[0m\n\u001b[0m\u001b[1;32m    578\u001b[0m     \u001b[0mtzname\u001b[0m\u001b[0;34m,\u001b[0m \u001b[0mgmtoff\u001b[0m \u001b[0;34m=\u001b[0m \u001b[0mtt\u001b[0m\u001b[0;34m[\u001b[0m\u001b[0;34m-\u001b[0m\u001b[0;36m2\u001b[0m\u001b[0;34m:\u001b[0m\u001b[0;34m]\u001b[0m\u001b[0;34m\u001b[0m\u001b[0;34m\u001b[0m\u001b[0m\n\u001b[1;32m    579\u001b[0m     \u001b[0margs\u001b[0m \u001b[0;34m=\u001b[0m \u001b[0mtt\u001b[0m\u001b[0;34m[\u001b[0m\u001b[0;34m:\u001b[0m\u001b[0;36m6\u001b[0m\u001b[0;34m]\u001b[0m \u001b[0;34m+\u001b[0m \u001b[0;34m(\u001b[0m\u001b[0mfraction\u001b[0m\u001b[0;34m,\u001b[0m\u001b[0;34m)\u001b[0m\u001b[0;34m\u001b[0m\u001b[0;34m\u001b[0m\u001b[0m\n",
            "\u001b[0;32m/usr/lib/python3.7/_strptime.py\u001b[0m in \u001b[0;36m_strptime\u001b[0;34m(data_string, format)\u001b[0m\n\u001b[1;32m    357\u001b[0m     \u001b[0;32mif\u001b[0m \u001b[0;32mnot\u001b[0m \u001b[0mfound\u001b[0m\u001b[0;34m:\u001b[0m\u001b[0;34m\u001b[0m\u001b[0;34m\u001b[0m\u001b[0m\n\u001b[1;32m    358\u001b[0m         raise ValueError(\"time data %r does not match format %r\" %\n\u001b[0;32m--> 359\u001b[0;31m                          (data_string, format))\n\u001b[0m\u001b[1;32m    360\u001b[0m     \u001b[0;32mif\u001b[0m \u001b[0mlen\u001b[0m\u001b[0;34m(\u001b[0m\u001b[0mdata_string\u001b[0m\u001b[0;34m)\u001b[0m \u001b[0;34m!=\u001b[0m \u001b[0mfound\u001b[0m\u001b[0;34m.\u001b[0m\u001b[0mend\u001b[0m\u001b[0;34m(\u001b[0m\u001b[0;34m)\u001b[0m\u001b[0;34m:\u001b[0m\u001b[0;34m\u001b[0m\u001b[0;34m\u001b[0m\u001b[0m\n\u001b[1;32m    361\u001b[0m         raise ValueError(\"unconverted data remains: %s\" %\n",
            "\u001b[0;31mValueError\u001b[0m: time data '20/04/2019' does not match format '%d-%m-%Y'"
          ]
        }
      ]
    },
    {
      "cell_type": "markdown",
      "source": [
        "***Un adelanto en el manejo de errores.***\n",
        " Para manejar estos errores en Python podemos usar try y except.\n",
        "\n",
        "En bloque de try colocamos el código que hace la signación en caso de error, de esta manera cuando sucede un ValueError, salta la excepción de tipo ValueError, se gestionar el error y se le indica que debe hacer el programa en este caso."
      ],
      "metadata": {
        "id": "OePzYBhu5O6h"
      }
    },
    {
      "cell_type": "code",
      "source": [
        "from datetime import datetime\n",
        "\n",
        "try:\n",
        "    una_fecha = '20/04/2019'\n",
        "    fecha_dt = datetime.strptime(una_fecha, '%d-%m-%Y') # Marcara error por qu el formato no coincide.\n",
        "except ValueError:\n",
        "    print('La fecha no tiene un formato váido')\n",
        "else:\n",
        "    print(fecha_dt)\n",
        "\n",
        "try:\n",
        "    una_fecha = '20-04-2019'\n",
        "    fecha_dt = datetime.strptime(una_fecha, '%d-%m-%Y')\n",
        "except ValueError:\n",
        "    print('La fecha no tiene un formato váido')\n",
        "else:\n",
        "    print(fecha_dt)\n"
      ],
      "metadata": {
        "colab": {
          "base_uri": "https://localhost:8080/"
        },
        "outputId": "8002801e-4719-4346-abcd-0fdca5dced23",
        "id": "TcWiQnVI5wNC"
      },
      "execution_count": null,
      "outputs": [
        {
          "output_type": "stream",
          "name": "stdout",
          "text": [
            "La fecha no tiene un formato váido\n",
            "2019-04-20 00:00:00\n"
          ]
        }
      ]
    },
    {
      "cell_type": "markdown",
      "source": [
        "\n",
        "***Códigos de formato***\n",
        "\n",
        "```\n",
        "A continuación se muestran los códigos de formato válidos que puedes usar para convertir un string en fecha (para aquellas plataformas con una implementación estándar de C).\n",
        "Directiva\tSignificado\tEjemplo\n",
        "%a\t Nombre abreviado del día de la semana\tSun, Mon, …\n",
        "%A\t Nombre completo del día de la semana\tSunday, Monday, …\n",
        "%w\t Día de la semana como número decimal (domingo es 0)\t0, 1, …, 6\n",
        "%d\t Día del mes como número decimal (añade cero delante)\t01, 02, …, 31\n",
        "%-d\tDía del mes como número decimal\t1, 2, …, 30\n",
        "%b\t Nombre del mes abreviado\tJan, Feb, …, Dec\n",
        "%B\t Nombre del mes completo.\tJanuary, February, …\n",
        "%m\t Mes como número decimal (añade cero delante)\t01, 02, …, 12\n",
        "%-m\tMes como número decimal\t1, 2, …, 12\n",
        "%y\t Año sin siglo como número decimal (añade cero delante)\t00, 01, …, 99\n",
        "%-y\tAño sin siglo como número decimal\t0, 1, …, 99\n",
        "%Y\t Año con siglo como número decimal\t2013, 2019 etc.\n",
        "%H\t Hora (24 horas) como número decimal (añade cero delante)\t00, 01, …, 23\n",
        "%-H\tHora (24 horas) como número decimal\t0, 1, …, 23\n",
        "%I\t Hora (12 horas) como número decimal (añade cero delante)\t01, 02, …, 12\n",
        "%-I\tHora (12 horas) como número decimal\t1, 2, … 12\n",
        "%p\t AM o PM locales\tAM, PM\n",
        "%M\t Minuto como número decimal (añade cero delante)\t00, 01, …, 59\n",
        "%-M\tMinuto como número decimal\t0, 1, …, 59\n",
        "%S\t Segundo como número decimal (añade cero delante)\t00, 01, …, 59\n",
        "%-S\tSegundo como número decimal\t0, 1, …, 59\n",
        "%f\t Microsegundos como número decimal (añade ceros delante)\t000000 – 999999\n",
        "%z\t Compensación UTC con formato +HHMM o -HHMM\t \n",
        "%Z\t Nombre de la zona horaria\t \n",
        "%j\t Día del año como número decimal (añade cero delante)\t001, 002, …, 366\n",
        "%-j\tDía del año como número decimal\t1, 2, …, 366\n",
        "%U\t Número de semana del año (domingo como primer día de la semana). Los días de un nuevo año anteriores al primer domingo se consideran en la semana 0.\t00, 01, …, 53\n",
        "%W\t Número de semana del año (lunes como primer día de la semana). Los días de un nuevo año anteriores al primer lunes se consideran en la semana 0.\t00, 01, …, 53\n",
        "%c\t Representación apropiada de fecha y hora local\tMon Sep 30 07:06:05 2013\n",
        "%x\t Representación apropiada de fecha local\t09/30/13\n",
        "%X\t Representación apropiada de hora local\t07:06:05\n",
        "%%\t El carácter ‘%’ literal\t%\n",
        "```\n",
        "\n"
      ],
      "metadata": {
        "id": "bqSEW9QK68HS"
      }
    },
    {
      "cell_type": "markdown",
      "source": [
        "***Convertir un objeto date en string en Python***\n",
        "\n",
        "***Cómo convertir un objeto datetime, date o time a string***\n",
        "\n",
        "Para convertir una fecha a string tienes que hacer uso del método ***strftime() ***de las clases datetime, date o time. Este método devuelve la representación de la fecha/hora como una cadena con un formato específico. El formato de la cadena de salida se pasa como argumento al método y se define a partir de unos códigos de formato señalados anteriormente. Antes, veamos unos ejemplos.\n",
        "\n",
        "***Ejemplo. Transformar un objeto datetime en string***\n",
        "\n",
        "En el ejemplo siguiente se crea un objeto de tipo datetime y a partir de él se obtienen distintas representaciones de tipo string con diferentes formatos. Recuerda importar el módulo datetime. La fecha de ejemplo es el 3 de enero de 2020 a las 8 horas.\n"
      ],
      "metadata": {
        "id": "UyL81FUyBU7h"
      }
    },
    {
      "cell_type": "code",
      "source": [
        "import datetime\n",
        "\n",
        "# Creamos un objeto datetime\n",
        "una_fecha = datetime.datetime(2020, 1, 3, 8, 0)\n",
        "\n",
        "# Convertimos el objeto datetime a string con formato <día>/<mes>/<año>\n",
        "f1_str = una_fecha.strftime('%d/%m/%Y')\n",
        "print(f1_str)\n",
        "\n",
        "\n",
        "# Convertimos el objeto datetime a string con formato <día>-<mes>-<año>\n",
        "f2_str = una_fecha.strftime('%d-%m-%Y')\n",
        "print(f2_str)\n",
        "\n",
        "# Convertimos el objeto datetime a string\n",
        "# con formato <hora>:<minutos>:<segundos>\n",
        "hora_str = una_fecha.strftime('%H:%M:%S')\n",
        "print(hora_str)\n",
        "\n",
        "# Convertimos el objeto datetime a string uniendo todo lo anterior\n",
        "fecha_hora_str = una_fecha.strftime('%d/%m/%Y %H:%M')\n",
        "print(fecha_hora_str)\n"
      ],
      "metadata": {
        "colab": {
          "base_uri": "https://localhost:8080/"
        },
        "id": "0otSL6JnB6X8",
        "outputId": "16d94748-bba8-4e61-be94-1b4235384db9"
      },
      "execution_count": null,
      "outputs": [
        {
          "output_type": "stream",
          "name": "stdout",
          "text": [
            "03/01/2020\n",
            "03-01-2020\n",
            "08:00:00\n",
            "03/01/2020 08:00\n"
          ]
        }
      ]
    },
    {
      "cell_type": "markdown",
      "source": [
        "Tomando como base el objeto una_fecha del ejemplo anterior, vamos a pasar su objeto date a string."
      ],
      "metadata": {
        "id": "YbeHKWcjCPkg"
      }
    },
    {
      "cell_type": "code",
      "source": [
        "# Convertimos el objeto date a string con formato <día> de <mes> de <año>\n",
        "solo_fecha = una_fecha.date()\n",
        "solo_fecha_str = solo_fecha.strftime('%d de %m de %Y')\n",
        "print(solo_fecha_str)"
      ],
      "metadata": {
        "colab": {
          "base_uri": "https://localhost:8080/"
        },
        "id": "SmKiic4sCQ-5",
        "outputId": "2e473ab4-309f-474d-8712-f95df5c03dc5"
      },
      "execution_count": null,
      "outputs": [
        {
          "output_type": "stream",
          "name": "stdout",
          "text": [
            "03 de 01 de 2020\n"
          ]
        }
      ]
    },
    {
      "cell_type": "markdown",
      "source": [
        "Sé lo que estás pensando… ¿Qué ocurre si tratas de obtener la hora o minutos de un objeto date? Pues Python les asigna por defecto el valor 0."
      ],
      "metadata": {
        "id": "oNEYyTz1CcPo"
      }
    },
    {
      "cell_type": "code",
      "source": [
        "solo_hora_str = solo_fecha.strftime('%H:%M')\n",
        "print(solo_hora_str)"
      ],
      "metadata": {
        "colab": {
          "base_uri": "https://localhost:8080/"
        },
        "id": "KNZ7Q4R0Cdcm",
        "outputId": "ad1a348e-a584-42da-a74a-607ab9832d06"
      },
      "execution_count": null,
      "outputs": [
        {
          "output_type": "stream",
          "name": "stdout",
          "text": [
            "00:00\n"
          ]
        }
      ]
    },
    {
      "cell_type": "markdown",
      "source": [
        "De nuevo tomaremos como base el objeto una_fecha para convertir su objeto time a string."
      ],
      "metadata": {
        "id": "aQI6F_CLCpMA"
      }
    },
    {
      "cell_type": "code",
      "source": [
        "\n",
        "\n",
        "# Convertimos el objeto time a string con formato <hora>:<minutos>:<segundos>\n",
        "solo_hora = una_fecha.time()\n",
        "solo_hora_str = solo_hora.strftime('%H:%M:%S')\n",
        "print(solo_hora_str)\n"
      ],
      "metadata": {
        "colab": {
          "base_uri": "https://localhost:8080/"
        },
        "id": "Zr1yn8RxCqOc",
        "outputId": "3c2f33a2-4fe9-4052-e310-4c128e302dae"
      },
      "execution_count": null,
      "outputs": [
        {
          "output_type": "stream",
          "name": "stdout",
          "text": [
            "08:00:00\n"
          ]
        }
      ]
    },
    {
      "cell_type": "code",
      "source": [
        "import datetime\n",
        "\n",
        "# Creamos un objeto datetime\n",
        "una_fecha = datetime.datetime(2020, 1, 3, 8, 0)\n",
        "\n",
        "# Convertimos el objeto datetime a string uniendo todo lo anterior\n",
        "fecha_hora_str = una_fecha.strftime('%d/%m/%Y %H:%M')\n",
        "print(fecha_hora_str)\n",
        "\n",
        "# Convertimos el objeto time a string con formato <hora>:<minutos>:<segundos>\n",
        "solo_hora = una_fecha.time()\n",
        "solo_hora_str = solo_hora.strftime('%H:%M:%S')\n",
        "print(solo_hora_str)\n",
        "\n",
        "# Solo fecha\n",
        "solo_fecha_str = solo_hora.strftime('%d/%m/%Y')\n",
        "print(solo_fecha_str)"
      ],
      "metadata": {
        "colab": {
          "base_uri": "https://localhost:8080/"
        },
        "outputId": "9573e0f4-9447-45b0-eecc-fd2d2f6df930",
        "id": "OsExq7_0DAhf"
      },
      "execution_count": null,
      "outputs": [
        {
          "output_type": "stream",
          "name": "stdout",
          "text": [
            "03/01/2020 08:00\n",
            "08:00:00\n",
            "01/01/1900\n"
          ]
        }
      ]
    }
  ]
}