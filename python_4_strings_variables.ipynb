{
  "nbformat": 4,
  "nbformat_minor": 0,
  "metadata": {
    "colab": {
      "name": "python_4_strings_variables.ipynb",
      "provenance": [],
      "collapsed_sections": [],
      "authorship_tag": "ABX9TyPC0ABnqRKtOvj02kMmmBBX",
      "include_colab_link": true
    },
    "kernelspec": {
      "name": "python3",
      "display_name": "Python 3"
    },
    "language_info": {
      "name": "python"
    }
  },
  "cells": [
    {
      "cell_type": "markdown",
      "metadata": {
        "id": "view-in-github",
        "colab_type": "text"
      },
      "source": [
        "<a href=\"https://colab.research.google.com/github/carrkarr/python_ini/blob/main/python_4_strings_variables.ipynb\" target=\"_parent\"><img src=\"https://colab.research.google.com/assets/colab-badge.svg\" alt=\"Open In Colab\"/></a>"
      ]
    },
    {
      "cell_type": "markdown",
      "source": [
        "***str python – Strings en Python***\n",
        "La \u0018\u0018\u0018\u0018clase str en Python se utiliza para representar texto, más conocido en el mundo de la programación como string o cadena de caracteres.\n",
        "\n",
        "Un poco más técnico, el tipo str es una secuencia inmutable de caracteres Unicode. Por tanto, al igual que list, tuple o range, es un tipo secuencial y como es inmutable, un objeto de este tipo no se puede modificar después de haber sido creado.\n",
        "\n",
        "❗️ IMPORTANTE: **Cuidado cuando trabajes con texto procedente de ficheros u otras fuentes de datos. Fíjate en qué codificación está y haz las transformaciones necesarias si no quieres tener problemas. Por defecto, la codificación de un string en Python es Unicode, concretamente UTF-8.**\n",
        "\n",
        "Cómo crear una cadena en Python\n",
        "\n",
        "Crear una cadena de texto en Python es muy sencillo. Simplemente encierra una secuencia de caracteres entre comillas simples '' o dobles \"\"."
      ],
      "metadata": {
        "id": "c5p4lO-zNQaf"
      }
    },
    {
      "cell_type": "code",
      "execution_count": null,
      "metadata": {
        "colab": {
          "base_uri": "https://localhost:8080/"
        },
        "id": "0CcfBX3m5OhP",
        "outputId": "e02efc96-07a9-46bc-8113-2cead0bb8f4c"
      },
      "outputs": [
        {
          "output_type": "stream",
          "name": "stdout",
          "text": [
            "Hola con comilla simple\n",
            "Hola con comilla doble.\n"
          ]
        }
      ],
      "source": [
        "# -*- coding: utf-8 -*-\n",
        "\"\"\"\"Manejo de Strings\"\"\"\n",
        "\n",
        "print('Hola con comilla simple')\n",
        "\n",
        "print(\"Hola con comilla doble.\")\n"
      ]
    },
    {
      "cell_type": "code",
      "source": [
        "print(\"\"\"This \n",
        "\n",
        "is\n",
        "\n",
        "great\"\"\")\n",
        "\n",
        "s = '''\n",
        " Este string\n",
        "    ocupa más\n",
        "     de\n",
        "  una línea'''\n",
        "\n",
        "print (s)"
      ],
      "metadata": {
        "id": "x6W1gZIR55Q3",
        "colab": {
          "base_uri": "https://localhost:8080/"
        },
        "outputId": "2587a97e-7cdd-48d6-daf6-f5f61d871113"
      },
      "execution_count": 7,
      "outputs": [
        {
          "output_type": "stream",
          "name": "stdout",
          "text": [
            "This \n",
            "\n",
            "is\n",
            "\n",
            "great\n",
            "\n",
            "... Este string\n",
            "...    ocupa más\n",
            "...     de\n",
            "...  una línea\n"
          ]
        }
      ]
    },
    {
      "cell_type": "markdown",
      "source": [
        "Como puedes observar, el uso de las tres comillas (simples o dobles) guarda el carácter de fin de línea. Esto se puede evitar añadiendo el carácter \\ al final de cada línea."
      ],
      "metadata": {
        "id": "wmIsMCezO6A1"
      }
    },
    {
      "cell_type": "code",
      "source": [
        "s = '''Este string \\\n",
        "    ocupa más \\\n",
        "     de \\\n",
        "  una línea, pero se puso en una linea'''\n",
        "print (s)"
      ],
      "metadata": {
        "colab": {
          "base_uri": "https://localhost:8080/"
        },
        "id": "LSWTuwo5PZsh",
        "outputId": "06acfda4-238a-4698-a307-4c9bcfc59217"
      },
      "execution_count": 8,
      "outputs": [
        {
          "output_type": "stream",
          "name": "stdout",
          "text": [
            "Este string     ocupa más      de   una línea\n"
          ]
        }
      ]
    },
    {
      "cell_type": "code",
      "source": [
        "\"\"\"Si no quieres que los caracteres antepuestos por \\ sean interpretados como caracteres \n",
        "    especiales, puedes usar cadenas crudas agregando una r \n",
        "    antes de la primera comilla:\n",
        "\"\"\"\n",
        "print('C:\\algun\\nombre')  # aquí \\n significa nueva línea! \n",
        "print(r'C:\\algun\\nombre') # nota la r antes de la comilla"
      ],
      "metadata": {
        "id": "ofNWi0ZJ6OzM",
        "colab": {
          "base_uri": "https://localhost:8080/"
        },
        "outputId": "93ac02af-aca0-4848-9f3d-ea09e5736ee8"
      },
      "execution_count": 1,
      "outputs": [
        {
          "output_type": "stream",
          "name": "stdout",
          "text": [
            "C:\u0007lgun\n",
            "ombre\n",
            "C:\\algun\\nombre\n"
          ]
        }
      ]
    },
    {
      "cell_type": "code",
      "source": [
        "# Suma de strings \n",
        "print(\"Spam\" + 'peligroso')\n",
        "print(\"2\" + \"2\")\n",
        "\n",
        "# Resaltar que dos strings literales se pueden concatenar si aparecen juntos uno tras otro.\n",
        "s = 'Hola' ' Python'\n",
        "print (s)\n",
        "\n",
        "s = ('Hola'\n",
        " ' Python'\n",
        " ' ¿Te gusta Python?')\n",
        "\n",
        "print (s)"
      ],
      "metadata": {
        "id": "WW9wYExe6kcW",
        "colab": {
          "base_uri": "https://localhost:8080/"
        },
        "outputId": "d35d4d2b-afed-48db-fb0f-0565079351eb"
      },
      "execution_count": 9,
      "outputs": [
        {
          "output_type": "stream",
          "name": "stdout",
          "text": [
            "Spampeligroso\n",
            "22\n",
            "Hola Pythonista\n",
            "Hola Pythonista ¿Te gusta Python?\n"
          ]
        }
      ]
    },
    {
      "cell_type": "code",
      "source": [
        "# Opraciones con Strings\n",
        "print(\"spam\" * 3)\n",
        "print(4 * '2')\n",
        "print(3 * 'yo' + 'tu')"
      ],
      "metadata": {
        "id": "RcW_Q1y37w6b",
        "colab": {
          "base_uri": "https://localhost:8080/"
        },
        "outputId": "43a7039f-bb60-4742-e4f2-b5cc356d1802"
      },
      "execution_count": 4,
      "outputs": [
        {
          "output_type": "stream",
          "name": "stdout",
          "text": [
            "spamspamspam\n",
            "2222\n",
            "yoyoyotu\n"
          ]
        }
      ]
    },
    {
      "cell_type": "code",
      "source": [
        "\"\"\" Dos o más cadenas literales (aquellas encerradas entre comillas) \n",
        " una al lado de la otra son automáticamente concatenadas, pero no aplica\n",
        "para  variables y literales\n",
        "\"\"\"\n",
        "print('py''thon') \n",
        "print('py' 'thon') "
      ],
      "metadata": {
        "id": "_n3z7WTN8HS1",
        "colab": {
          "base_uri": "https://localhost:8080/"
        },
        "outputId": "a72cccd1-2151-4e45-817a-45d00d681782"
      },
      "execution_count": 5,
      "outputs": [
        {
          "output_type": "stream",
          "name": "stdout",
          "text": [
            "python\n",
            "python\n"
          ]
        }
      ]
    },
    {
      "cell_type": "code",
      "source": [
        "# Con variables\n",
        "variable = 'py'\n",
        "print(variable + 'thon')  # Sin el signo + marca error de sintaxis"
      ],
      "metadata": {
        "colab": {
          "base_uri": "https://localhost:8080/"
        },
        "id": "izWEEOA78ZQZ",
        "outputId": "a0876b8f-fd42-42d6-d657-b9b59034cd11"
      },
      "execution_count": 6,
      "outputs": [
        {
          "output_type": "stream",
          "name": "stdout",
          "text": [
            "python\n"
          ]
        }
      ]
    },
    {
      "cell_type": "code",
      "source": [
        "\"\"\"\n",
        "Se aplican ciertas restricciones con respecto a los caracteres que se pueden usar en \n",
        "los nombres de variables de Python.  \n",
        "Los únicos caracteres permitidos son letras, números y guiones bajos.  \n",
        "Además, no pueden comenzar con números.\n",
        "No seguir estas reglas resulta en errores.\n",
        "Python es un lenguaje de programación sensible a mayúsculas y minúsculas.  \n",
        "Por lo tanto, Lastname y lastname son dos nombres de variables diferentes en Python.\n",
        "\"\"\"\n",
        "Variable_1 = 'PYTHON'\n",
        "variable_1 = 'python'\n",
        "print(Variable_1) \n",
        "print(variable_1) \n",
        "\n",
        "# Descomentar para ver el error de sintaxis\n",
        "\n",
        "# Variable-1 = 'Django' # Variable no permitida por el gión medio\n",
        "\n",
        "# 2Variable = 'Django' # Variable no permitida por que comienza con mnumero.\n",
        "\n"
      ],
      "metadata": {
        "colab": {
          "base_uri": "https://localhost:8080/"
        },
        "id": "lXu0P02v9XuE",
        "outputId": "504969a3-9dac-4679-8f70-cac93d156007"
      },
      "execution_count": null,
      "outputs": [
        {
          "output_type": "stream",
          "name": "stdout",
          "text": [
            "PYTHON\n",
            "python\n"
          ]
        }
      ]
    },
    {
      "cell_type": "markdown",
      "source": [
        "***Cómo acceder a los caracteres de una cadena en Python***\n",
        "\n",
        "Como el resto de tipos secuencia, podemos acceder a los caracteres de una cadena a través de un índice numérico. Un índice es un número entero que indica la posición de un carácter en la cadena. Siempre el primer carácter de la secuencia tiene como índice 0."
      ],
      "metadata": {
        "id": "x0DXy9YbVz1q"
      }
    },
    {
      "cell_type": "code",
      "source": [
        "\"\"\"\"\n",
        "Las cadenas de texto se pueden indexar (subíndices), \n",
        "el primer carácter de la cadena tiene el índice 0. \n",
        "No hay un tipo de dato para los caracteres; \n",
        "un carácter es simplemente una cadena de longitud uno:\n",
        "\"\"\"\n",
        "variable_1 = 'python' \n",
        "print(variable_1[0]) # Imprimira la p\n",
        "print(variable_1[5]) # Imprimira la n\n",
        "\n",
        "# Los índices quizás sean números negativos, para empezar a contar desde la derecha:\n",
        "print(variable_1[-1]) # Imprimira la n\n",
        "print(variable_1[-6]) # Imprimira la p"
      ],
      "metadata": {
        "id": "2OomoRXs-kW_",
        "colab": {
          "base_uri": "https://localhost:8080/"
        },
        "outputId": "25c169ac-7fbc-496b-a62e-80e93fa96557"
      },
      "execution_count": 16,
      "outputs": [
        {
          "output_type": "stream",
          "name": "stdout",
          "text": [
            "p\n",
            "n\n",
            "n\n",
            "p\n"
          ]
        }
      ]
    },
    {
      "cell_type": "code",
      "source": [
        "\"\"\"\"\n",
        "Además de los índices, las rebanadas también están soportadas. Mientras que los \n",
        "índices son usados para obtener caracteres individuales, las rebanadas \n",
        "te permiten obtener sub-cadenas:\n",
        "\"\"\"\n",
        "variable_1 = 'Python' \n",
        "# caracteres desde la posición 0 (incluída) hasta la 2 (excluída) 'Py' \n",
        "print(variable_1[0:2]) \n",
        "# caracteres desde la posición 2 (incluída) hasta la 5 (excluída) 'tho'\n",
        "print(variable_1[2:5]) \n",
        "\n",
        "# Como la posicion inicial se incluye [i:] y la posicion final no se incluye [:i]\n",
        "# Entonces la sentencia [i:i] no imprime nada\n",
        "print(variable_1[2:2])  # No imprime nada.\n"
      ],
      "metadata": {
        "colab": {
          "base_uri": "https://localhost:8080/"
        },
        "id": "h2fF8khk_dBC",
        "outputId": "5e3962db-5e85-4b16-fb21-de99d7bf194c"
      },
      "execution_count": null,
      "outputs": [
        {
          "output_type": "stream",
          "name": "stdout",
          "text": [
            "Py\n",
            "tho\n",
            "\n"
          ]
        }
      ]
    },
    {
      "cell_type": "code",
      "source": [
        "\"\"\"\"\n",
        "Nota como el primero es siempre incluído, y que el último es siempre excluído. \n",
        "Esto asegura que s[:i] + s[i:] siempre sea igual a s:\n",
        "\"\"\"\n",
        "variable_1 = 'Python' \n",
        "print(variable_1[:2] )\n",
        "print(variable_1[2:] )\n",
        "print(variable_1[:2]+variable_1[2:] )\n",
        "\n",
        "print(variable_1[:4] ) \n",
        "print(variable_1[4:] ) \n",
        "print(variable_1[:4]+variable_1[4:] ) \n",
        "\n",
        "print(variable_1[:-2] ) \n",
        "print(variable_1[-2:] ) \n",
        "print(variable_1[:-2]+variable_1[-2:] ) \n"
      ],
      "metadata": {
        "colab": {
          "base_uri": "https://localhost:8080/"
        },
        "id": "-7VTCnXu_lv0",
        "outputId": "f2df0078-0ddd-4f17-e301-3274002eac3b"
      },
      "execution_count": null,
      "outputs": [
        {
          "output_type": "stream",
          "name": "stdout",
          "text": [
            "Py\n",
            "thon\n",
            "Python\n",
            "Pyth\n",
            "on\n",
            "Python\n",
            "Pyth\n",
            "on\n",
            "Python\n"
          ]
        }
      ]
    },
    {
      "cell_type": "markdown",
      "source": [
        "Si se intenta acceder a un índice que está fuera del rango del string, el intérprete lanzará la excepción IndexError. De igual modo, si se utiliza un índice que no es un número entero, se lanzará la excepción TypeError"
      ],
      "metadata": {
        "id": "DNQ5lT5zWXRu"
      }
    },
    {
      "cell_type": "code",
      "source": [
        "s = 'Hola Python'\n",
        "# Descomentar para ve rel error.\n",
        "# print ( s[30] ) # Marcara error\n",
        "\n",
        "# print ( s[1.0] ) # Marcara error\n"
      ],
      "metadata": {
        "id": "GFyp6Y4YWmoZ"
      },
      "execution_count": 13,
      "outputs": []
    },
    {
      "cell_type": "code",
      "source": [
        "# Usar un indice fuera de rango marcara error\n",
        "variable_1 = 'Python' \n",
        "print(variable_1[3])  # Impŕimira h , pero si le ponemos [33] matcara error.\n",
        "# Pero para las rebanadas o substring no marca error, ejemplo.\n",
        "print(variable_1[4:33] )  # Imprime on\n",
        "print('Blanco:' + variable_1[33:] )  # Imprime un blanco ' '"
      ],
      "metadata": {
        "colab": {
          "base_uri": "https://localhost:8080/"
        },
        "id": "-sNKNrflAMnt",
        "outputId": "c6d3821c-a0ef-4714-a116-bf5048dfdc33"
      },
      "execution_count": null,
      "outputs": [
        {
          "output_type": "stream",
          "name": "stdout",
          "text": [
            "h\n",
            "on\n",
            "Blanco:\n"
          ]
        }
      ]
    },
    {
      "cell_type": "markdown",
      "source": [
        "***for str Python – Recorrer los caracteres de una cadena***\n",
        "\n",
        "En Python es posible recorrer todos los caracteres de una cadena usando la sentencia for. Para ello, lo más fácil es seguir la siguiente plantilla:"
      ],
      "metadata": {
        "id": "9M8ZuEPiamA-"
      }
    },
    {
      "cell_type": "code",
      "source": [
        "saludo = 'Hola'\n",
        "for c in saludo:\n",
        "    print(c)"
      ],
      "metadata": {
        "id": "xgtARYf2T-6P",
        "colab": {
          "base_uri": "https://localhost:8080/"
        },
        "outputId": "52a92708-3bd2-41e9-f2e3-24e69d65983a"
      },
      "execution_count": 17,
      "outputs": [
        {
          "output_type": "stream",
          "name": "stdout",
          "text": [
            "H\n",
            "o\n",
            "l\n",
            "a\n"
          ]
        }
      ]
    },
    {
      "cell_type": "markdown",
      "source": [
        "**Comprobar si un carácter está en una cadena en Python**\n",
        "\n",
        "Para comprobar si un carácter está contenido en una cadena, utiliza el operador de pertenencia in. Esto nos devolverá True si al menos hay una ocurrencia del carácter en el string o False en caso contrario."
      ],
      "metadata": {
        "id": "mYQ0Jg0gbUr7"
      }
    },
    {
      "cell_type": "code",
      "source": [
        "saludo = 'Hola'\n",
        "print('o' in saludo)\n",
        "\n",
        "print('p' in saludo)\n",
        "\n",
        "print('p' not in saludo)\n"
      ],
      "metadata": {
        "colab": {
          "base_uri": "https://localhost:8080/"
        },
        "id": "sG3WQUWpbYFF",
        "outputId": "f3b5641c-f9e4-4912-b9e2-c24920a5083d"
      },
      "execution_count": 18,
      "outputs": [
        {
          "output_type": "stream",
          "name": "stdout",
          "text": [
            "True\n",
            "False\n",
            "True\n"
          ]
        }
      ]
    },
    {
      "cell_type": "markdown",
      "source": [
        "***Comprobar si dos strings son iguales en Python***\n",
        "\n",
        "En Python, para comparar si dos cadenas de caracteres son iguales, se utiliza el operador de igualdad ==. Dos strings son iguales si y solo si ambas cadenas contienen la misma secuencia de caracteres (se distingue entre mayúsculas y minúsculas)."
      ],
      "metadata": {
        "id": "zI5XkaN8cmLX"
      }
    },
    {
      "cell_type": "code",
      "source": [
        "s1 = 'hola'\n",
        "s2 = 'hola'\n",
        "print(s1 == s2)\n",
        "\n",
        "s3 = 'Hola'\n",
        "print(s1 == s3)\n"
      ],
      "metadata": {
        "colab": {
          "base_uri": "https://localhost:8080/"
        },
        "id": "ascbQtklcq8Q",
        "outputId": "b00472bf-a0ce-48bc-e652-5c1c0f4ba4e3"
      },
      "execution_count": 19,
      "outputs": [
        {
          "output_type": "stream",
          "name": "stdout",
          "text": [
            "True\n",
            "False\n"
          ]
        }
      ]
    },
    {
      "cell_type": "markdown",
      "source": [
        "***Longitud (len) de una cadena en Python***\n",
        "\n",
        "Como con cualquier otro tipo contenedor o secuencia, para obtener la longitud de una cadena se debe utilizar la función de Python len(). A esta función se le pasa como argumento la cadena en cuestión y nos devolverá el número de caracteres que tiene."
      ],
      "metadata": {
        "id": "j5d4UN-bc6Yt"
      }
    },
    {
      "cell_type": "code",
      "source": [
        "saludo = 'Hola'\n",
        "len(saludo)\n"
      ],
      "metadata": {
        "colab": {
          "base_uri": "https://localhost:8080/"
        },
        "id": "2Vm0nXrqdEPS",
        "outputId": "2622adc9-26e6-44df-bc2a-d877c16bbee3"
      },
      "execution_count": 20,
      "outputs": [
        {
          "output_type": "execute_result",
          "data": {
            "text/plain": [
              "4"
            ]
          },
          "metadata": {},
          "execution_count": 20
        }
      ]
    },
    {
      "cell_type": "markdown",
      "source": [
        "***Representación de un objeto como cadena***\n",
        "\n",
        "Una singularidad de la clase str es que a su constructor se le puede pasar cualquier objeto. Al hacer esto, la función str() devuelve la representación en forma de cadena de caracteres del propio objeto (si se pasa un string devuelve el string en sí).\n",
        "\n",
        "Normalmente, al llamar a la función str(objeto) lo que se hace internamente es llamar al método __str__() del objeto. Si este método no existe, entonces devuelve el resultado de invocar a repr(objeto)."
      ],
      "metadata": {
        "id": "YHozmy-kdpUb"
      }
    },
    {
      "cell_type": "markdown",
      "source": [
        "\n",
        "***Cómo comprobar en Python si una cadena, lista, tupla, diccionario o conjunto están vacíos***\n",
        "\n"
      ],
      "metadata": {
        "id": "i7bE31BOe5y1"
      }
    },
    {
      "cell_type": "code",
      "source": [
        "cadena = ''\n",
        "d = {}\n",
        "t = ()\n",
        "l = []\n",
        "s = set()\n",
        "\n",
        "if cadena:\n",
        "   print ('Cadena NO vacia')\n",
        "else:   \n",
        "   print ('Cadena vacia')\n",
        "\n",
        "if d:\n",
        "   print ('Diccionario NO vacio')\n",
        "else:   \n",
        "   print ('Diccionario vacio')\n",
        "\n",
        "if t:\n",
        "   print ('Tupla NO vacia')\n",
        "else:   \n",
        "   print ('Tupla vacia')\n",
        "\n",
        "if l:\n",
        "   print ('Lista NO vacia')\n",
        "else:   \n",
        "   print ('Lista vacia')\n",
        "\n",
        "if s:\n",
        "   print ('Conjunto NO vacio')\n",
        "else:   \n",
        "   print ('Conjunto vacia')\n",
        "\n"
      ],
      "metadata": {
        "colab": {
          "base_uri": "https://localhost:8080/"
        },
        "id": "mI0Y-6ldfUdf",
        "outputId": "7218c9b8-9b20-4e52-cca1-6aac15d74c4e"
      },
      "execution_count": 25,
      "outputs": [
        {
          "output_type": "stream",
          "name": "stdout",
          "text": [
            "Cadena vacia\n",
            "Diccionario vacio\n",
            "Tupla vacia\n",
            "Lista vacia\n",
            "Conjunto vacia\n"
          ]
        }
      ]
    },
    {
      "cell_type": "markdown",
      "source": [
        "***Formatear strings en Python usando el operador ‘%’***\n",
        "\n",
        "Formatear strings en Python usando el operador % es el modo tradicional, muy similar a la función printf del lenguaje C.\n",
        "\n",
        "Básicamente, en la cadena se define un lugar (en el que se especifica un marcador de tipo) que será sustituido posteriormente por un valor:"
      ],
      "metadata": {
        "id": "565PB5D8o4Na"
      }
    },
    {
      "cell_type": "code",
      "source": [
        "nombre = 'J2logo'\n",
        "print ('Hola %s' % nombre)\n",
        "# En el ejemplo anterior, el lugar indicado por %s para será sustituido por el string nombre."
      ],
      "metadata": {
        "colab": {
          "base_uri": "https://localhost:8080/"
        },
        "id": "1JseqBofo7YU",
        "outputId": "9005cfd2-19be-4eb6-ac5b-a41e57d55f8a"
      },
      "execution_count": 26,
      "outputs": [
        {
          "output_type": "stream",
          "name": "stdout",
          "text": [
            "Hola J2logo\n"
          ]
        }
      ]
    },
    {
      "cell_type": "markdown",
      "source": [
        "***Nuevo estilo: formatear strings usando el método ‘format’***\n",
        "\n",
        "Python 3 y posteriormente Python 2.7 introdujeron una nuevo modo de formatear cadenas a través del método format disponible en cualquier objeto de tipo string.\n",
        "\n",
        "Se puede hacer uso de este método del mismo modo que se hacía con el método tradicional, es decir, sustituyendo valores en función de la posición a través del marcador {}:"
      ],
      "metadata": {
        "id": "oBRNHDnGpzcn"
      }
    },
    {
      "cell_type": "code",
      "source": [
        "var1 = 'Chamuco'\n",
        "var2 = 'Hola'\n",
        "print ('{} {}, ¿cómo estás?'.format(var2, var1) )\n",
        "\n",
        "#Pero también puedes especificar el nombre de las variables, \n",
        "#de manera que el orden en el que se pasen los argumentos al llamar a format no importa:\n",
        "print ( '{var2} {var1}, ¿cómo estás?'.format(var1=var1, var2=var2) )\n",
        "\n",
        "# O indicando el índice de los parámetros al invocar al método format:\n",
        "print ( '{1} {0}, ¿cómo estás?'.format(var1, var2) )"
      ],
      "metadata": {
        "colab": {
          "base_uri": "https://localhost:8080/"
        },
        "id": "m0TTFJsNqPQP",
        "outputId": "1af4c391-5bc0-440a-98df-63a1014f9158"
      },
      "execution_count": 31,
      "outputs": [
        {
          "output_type": "stream",
          "name": "stdout",
          "text": [
            "Hola Chamuco, ¿cómo estás?\n",
            "Hola Chamuco, ¿cómo estás?\n",
            "Hola Chamuco, ¿cómo estás?\n"
          ]
        }
      ]
    },
    {
      "cell_type": "markdown",
      "source": [
        "***Usando f-Strings en Python 3.6+***\n",
        "\n",
        "A partir de la versión 3.6 de Python, el lenguaje introdujo un nuevo modo de formatear strings que es más eficiente que todos los que hemos visto anteriormente. Son las cadenas literales formateadas o f-Strings.\n",
        "\n",
        "Esta nueva forma de formatear cadenas, permite embeber expresiones dentro de una constante de tipo string. Por ejemplo:"
      ],
      "metadata": {
        "id": "wm4QWvFsrlV8"
      }
    },
    {
      "cell_type": "code",
      "source": [
        ""
      ],
      "metadata": {
        "id": "8RvUPL3orpIO"
      },
      "execution_count": null,
      "outputs": []
    },
    {
      "cell_type": "code",
      "source": [
        "nombre = 'Chamuco'\n",
        "print ( f'Hola {nombre}' )"
      ],
      "metadata": {
        "colab": {
          "base_uri": "https://localhost:8080/"
        },
        "id": "JSvNXGTMrpPq",
        "outputId": "5986b4fa-50df-4829-fbe6-aa74239d1762"
      },
      "execution_count": 32,
      "outputs": [
        {
          "output_type": "stream",
          "name": "stdout",
          "text": [
            "Hola Chamuco\n"
          ]
        }
      ]
    },
    {
      "cell_type": "markdown",
      "source": [
        "Como ves, las f-Strings comienzan siempre con el literal f y, aunque su comportamiento pueda parecer muy similar a los métodos vistos previamente, internamente su implementación hace que esta forma sea la más rápida para concatenar cadenas."
      ],
      "metadata": {
        "id": "aS4ioBXUr_0F"
      }
    },
    {
      "cell_type": "markdown",
      "source": [
        "***Concatenar una lista de Strings con join***\n",
        "\n",
        "Por último, si dispones de una lista de strings, puedes hacer uso del método join para concatenar los distintos valores en un único string."
      ],
      "metadata": {
        "id": "eQWR0PM5sU90"
      }
    },
    {
      "cell_type": "code",
      "source": [
        "cadenas = ['Hola', 'Chamuco', ',', '¿cómo', 'estás?']\n",
        "\n",
        "print ( ' '.join(cadenas) ) # Uno las cadenas con un espacio\n",
        "print ( '-'.join(cadenas) ) # Uno las cadenas con un gion medio\n",
        "\n",
        "#  Como puedes observar, el literal con el que se llama a join es \n",
        "#  lo que se utiliza para separar los distintos elementos de la cadena.\n",
        "\n",
        "numeros = ['1', '2', '3']\n",
        "print ( ', '.join(numeros) ) # Uno la cadena de numeros con una coma\n"
      ],
      "metadata": {
        "colab": {
          "base_uri": "https://localhost:8080/"
        },
        "id": "7BBYpk9HsYgu",
        "outputId": "561054c4-7270-48c5-dad1-05ea4936329b"
      },
      "execution_count": 34,
      "outputs": [
        {
          "output_type": "stream",
          "name": "stdout",
          "text": [
            "Hola Chamuco , ¿cómo estás?\n",
            "Hola-Chamuco-,-¿cómo-estás?\n",
            "1, 2, 3\n"
          ]
        }
      ]
    },
    {
      "cell_type": "markdown",
      "source": [
        "***String replace: reemplazar caracteres en una cadena en Python***\n",
        "\n",
        "Sustituir una subcadena de un string con replace()\n",
        "\n",
        "El método replace(sub, nuevo) de la clase string devuelve una copia del string con todas las ocurrencias del substring sub reemplazadas por el substring nuevo.\n",
        "\n",
        "Veámoslo con un ejemplo:"
      ],
      "metadata": {
        "id": "xWZkWWVywdWh"
      }
    },
    {
      "cell_type": "code",
      "source": [
        "dir_name = 'S2A_MSIL1C_20190106T105431_N0207_R051'\n",
        "\n",
        "print (dir_name)\n",
        "\n",
        "new_dir_name = dir_name.replace('MSIL1C', 'CHAMUCO') # Si no encuentra la cadena a reemplzar, no reemplaza nada \n",
        "                                                     # ni tampoco envia algún mensaje de error \n",
        "\n",
        "print (new_dir_name)\n"
      ],
      "metadata": {
        "colab": {
          "base_uri": "https://localhost:8080/"
        },
        "id": "2Dnd7iMlwsa9",
        "outputId": "56ad1776-345e-4bae-a9bb-722992c31ec8"
      },
      "execution_count": 38,
      "outputs": [
        {
          "output_type": "stream",
          "name": "stdout",
          "text": [
            "S2A_MSIL1C_20190106T105431_N0207_R051\n",
            "S2A_CHAMUCO_20190106T105431_N0207_R051\n"
          ]
        }
      ]
    },
    {
      "cell_type": "markdown",
      "source": [
        "***Limitando el número de ocurrencias a reemplazar***\n",
        "\n",
        "Al método replace() se le puede pasar un tercer parámetro opcional de tipo integer. Este parámetro indica el número máximo de ocurrencias a ser reemplazadas:"
      ],
      "metadata": {
        "id": "F7f-ahSfyZIe"
      }
    },
    {
      "cell_type": "code",
      "source": [
        "cadena = 'chamuco_chamuco_chamuco_chamuco_bailador'\n",
        "print (cadena)\n",
        "\n",
        "nueva_c = cadena.replace('chamuco', 'brujo', 3)\n",
        "print (nueva_c)"
      ],
      "metadata": {
        "colab": {
          "base_uri": "https://localhost:8080/"
        },
        "id": "Z8YlF0cnyeWH",
        "outputId": "75e5d56e-0cff-44a3-f417-51de0e0a8032"
      },
      "execution_count": 43,
      "outputs": [
        {
          "output_type": "stream",
          "name": "stdout",
          "text": [
            "chamuco_chamuco_chamuco_chamuco_bailador\n",
            "brujo_brujo_brujo_chamuco_bailador\n"
          ]
        }
      ]
    },
    {
      "cell_type": "markdown",
      "source": [
        "***No confundir con la función replace() del módulo string***\n",
        "\n",
        "El método replace() visto en los apartados anteriores se refiere al método perteneciente a objetos de tipo string. No hay que confundirlo con la función replace() del módulo string que, además, fue eliminada en la versión 3 de Python.\n",
        "\n",
        "Es por esto que al método se le llama del siguiente modo: \n",
        "\n",
        "***'cadena'.replace('c', 'C')***\n",
        "\n",
        "y no string.replace('cadena', 'c', 'C')"
      ],
      "metadata": {
        "id": "YzZFCsiNzZyZ"
      }
    }
  ]
}