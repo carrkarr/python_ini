{
  "nbformat": 4,
  "nbformat_minor": 0,
  "metadata": {
    "colab": {
      "name": "python_4_strings_variables.ipynb",
      "provenance": [],
      "collapsed_sections": [],
      "authorship_tag": "ABX9TyPOpVKrOkyh6oJluCgphaXH",
      "include_colab_link": true
    },
    "kernelspec": {
      "name": "python3",
      "display_name": "Python 3"
    },
    "language_info": {
      "name": "python"
    }
  },
  "cells": [
    {
      "cell_type": "markdown",
      "metadata": {
        "id": "view-in-github",
        "colab_type": "text"
      },
      "source": [
        "<a href=\"https://colab.research.google.com/github/carrkarr/python_ini/blob/main/python_4_strings_variables.ipynb\" target=\"_parent\"><img src=\"https://colab.research.google.com/assets/colab-badge.svg\" alt=\"Open In Colab\"/></a>"
      ]
    },
    {
      "cell_type": "code",
      "execution_count": null,
      "metadata": {
        "colab": {
          "base_uri": "https://localhost:8080/"
        },
        "id": "0CcfBX3m5OhP",
        "outputId": "e02efc96-07a9-46bc-8113-2cead0bb8f4c"
      },
      "outputs": [
        {
          "output_type": "stream",
          "name": "stdout",
          "text": [
            "Hola con comilla simple\n",
            "Hola con comilla doble.\n"
          ]
        }
      ],
      "source": [
        "# -*- coding: utf-8 -*-\n",
        "\"\"\"\"Manejo de Strings\"\"\"\n",
        "print('Hola con comilla simple')\n",
        "\n",
        "print(\"Hola con comilla doble.\")\n"
      ]
    },
    {
      "cell_type": "code",
      "source": [
        "print('One\\nTwo\\nThree') # Tres lineas\n",
        "\n",
        "print(\"\"\" \n",
        "        One\n",
        "        Two\n",
        "        Three\n",
        "      \"\"\")\n",
        "\n",
        "print(\"\"\"This \n",
        "\n",
        "is\n",
        "\n",
        "great\"\"\")\n"
      ],
      "metadata": {
        "colab": {
          "base_uri": "https://localhost:8080/"
        },
        "id": "9OXX5lYW5hqJ",
        "outputId": "b8cb89a7-88a8-4fc9-df97-358ac4e02f1f"
      },
      "execution_count": null,
      "outputs": [
        {
          "output_type": "stream",
          "name": "stdout",
          "text": [
            "One\n",
            "Two\n",
            "Three\n",
            " \n",
            "        One\n",
            "        Two\n",
            "        Three\n",
            "      \n",
            "This \n",
            "\n",
            "is\n",
            "\n",
            "great\n"
          ]
        }
      ]
    },
    {
      "cell_type": "code",
      "source": [
        "print(\"\"\"This \n",
        "\n",
        "is\n",
        "\n",
        "great\"\"\")"
      ],
      "metadata": {
        "id": "x6W1gZIR55Q3"
      },
      "execution_count": null,
      "outputs": []
    },
    {
      "cell_type": "code",
      "source": [
        "\"\"\"Si no quieres que los caracteres antepuestos por \\ sean interpretados como caracteres \n",
        "    especiales, puedes usar cadenas crudas agregando una r \n",
        "    antes de la primera comilla:\n",
        "\"\"\"\n",
        "print('C:\\algun\\nombre')  # aquí \\n significa nueva línea! \n",
        "print(r'C:\\algun\\nombre') # nota la r antes de la comilla"
      ],
      "metadata": {
        "id": "ofNWi0ZJ6OzM"
      },
      "execution_count": null,
      "outputs": []
    },
    {
      "cell_type": "code",
      "source": [
        "# Suma de strings \n",
        "print(\"Spam\" + 'peligroso')\n",
        "print(\"2\" + \"2\")"
      ],
      "metadata": {
        "id": "WW9wYExe6kcW"
      },
      "execution_count": null,
      "outputs": []
    },
    {
      "cell_type": "code",
      "source": [
        "# Opraciones con Strings\n",
        "print(\"spam\" * 3)\n",
        "print(4 * '2')\n",
        "print(3 * 'yo' + 'tu')"
      ],
      "metadata": {
        "id": "RcW_Q1y37w6b"
      },
      "execution_count": null,
      "outputs": []
    },
    {
      "cell_type": "code",
      "source": [
        "\"\"\" Dos o más cadenas literales (aquellas encerradas entre comillas) \n",
        " una al lado de la otra son automáticamente concatenadas, pero no aplica\n",
        "para  variables y literales\n",
        "\"\"\"\n",
        "print('py''thon') \n",
        "print('py' 'thon') "
      ],
      "metadata": {
        "id": "_n3z7WTN8HS1"
      },
      "execution_count": null,
      "outputs": []
    },
    {
      "cell_type": "code",
      "source": [
        "# Con variables\n",
        "variable = 'py'\n",
        "print(variable + 'thon')  # Sin el signo + marca error de sintaxis"
      ],
      "metadata": {
        "colab": {
          "base_uri": "https://localhost:8080/"
        },
        "id": "izWEEOA78ZQZ",
        "outputId": "7cefc899-9152-428a-fa4c-40a1cfde965e"
      },
      "execution_count": null,
      "outputs": [
        {
          "output_type": "stream",
          "name": "stdout",
          "text": [
            "python\n"
          ]
        }
      ]
    },
    {
      "cell_type": "code",
      "source": [
        "\"\"\"\n",
        "Se aplican ciertas restricciones con respecto a los caracteres que se pueden usar en \n",
        "los nombres de variables de Python.  \n",
        "Los únicos caracteres permitidos son letras, números y guiones bajos.  \n",
        "Además, no pueden comenzar con números.\n",
        "No seguir estas reglas resulta en errores.\n",
        "Python es un lenguaje de programación sensible a mayúsculas y minúsculas.  \n",
        "Por lo tanto, Lastname y lastname son dos nombres de variables diferentes en Python.\n",
        "\"\"\"\n",
        "Variable_1 = 'PYTHON'\n",
        "variable_1 = 'python'\n",
        "print(Variable_1) \n",
        "print(variable_1) \n",
        "\n",
        "# Descomentar para ver el error de sintaxis\n",
        "\n",
        "# Variable-1 = 'Django' # Variable no permitida por el gión medio\n",
        "\n",
        "# 2Variable = 'Django' # Variable no permitida por que comienza con mnumero.\n",
        "\n"
      ],
      "metadata": {
        "colab": {
          "base_uri": "https://localhost:8080/"
        },
        "id": "lXu0P02v9XuE",
        "outputId": "504969a3-9dac-4679-8f70-cac93d156007"
      },
      "execution_count": null,
      "outputs": [
        {
          "output_type": "stream",
          "name": "stdout",
          "text": [
            "PYTHON\n",
            "python\n"
          ]
        }
      ]
    },
    {
      "cell_type": "code",
      "source": [
        "\"\"\"\"\n",
        "Las cadenas de texto se pueden indexar (subíndices), \n",
        "el primer carácter de la cadena tiene el índice 0. \n",
        "No hay un tipo de dato para los caracteres; \n",
        "un carácter es simplemente una cadena de longitud uno:\n",
        "\"\"\"\n",
        "variable_1 = 'python' \n",
        "print(variable_1[0]) # Imprimira la p\n",
        "print(variable_1[5]) # Imprimira la n\n",
        "\n",
        "# Los índices quizás sean números negativos, para empezar a contar desde la derecha:\n",
        "print(variable_1[-1]) # Imprimira la n\n",
        "print(variable_1[-6]) # Imprimira la p\n",
        "\n"
      ],
      "metadata": {
        "id": "2OomoRXs-kW_"
      },
      "execution_count": null,
      "outputs": []
    },
    {
      "cell_type": "code",
      "source": [
        "\"\"\"\"\n",
        "Además de los índices, las rebanadas también están soportadas. Mientras que los \n",
        "índices son usados para obtener caracteres individuales, las rebanadas \n",
        "te permiten obtener sub-cadenas:\n",
        "\"\"\"\n",
        "variable_1 = 'Python' \n",
        "# caracteres desde la posición 0 (incluída) hasta la 2 (excluída) 'Py' \n",
        "print(variable_1[0:2]) \n",
        "# caracteres desde la posición 2 (incluída) hasta la 5 (excluída) 'tho'\n",
        "print(variable_1[2:5]) \n",
        "\n",
        "# Como la posicion inicial se incluye [i:] y la posicion final no se incluye [:i]\n",
        "# Entonces la sentencia [i:i] no imprime nada\n",
        "print(variable_1[2:2])  # No imprime nada.\n"
      ],
      "metadata": {
        "colab": {
          "base_uri": "https://localhost:8080/"
        },
        "id": "h2fF8khk_dBC",
        "outputId": "5e3962db-5e85-4b16-fb21-de99d7bf194c"
      },
      "execution_count": null,
      "outputs": [
        {
          "output_type": "stream",
          "name": "stdout",
          "text": [
            "Py\n",
            "tho\n",
            "\n"
          ]
        }
      ]
    },
    {
      "cell_type": "code",
      "source": [
        "\"\"\"\"\n",
        "Nota como el primero es siempre incluído, y que el último es siempre excluído. \n",
        "Esto asegura que s[:i] + s[i:] siempre sea igual a s:\n",
        "\"\"\"\n",
        "variable_1 = 'Python' \n",
        "print(variable_1[:2] )\n",
        "print(variable_1[2:] )\n",
        "print(variable_1[:2]+variable_1[2:] )\n",
        "\n",
        "print(variable_1[:4] ) \n",
        "print(variable_1[4:] ) \n",
        "print(variable_1[:4]+variable_1[4:] ) \n",
        "\n",
        "print(variable_1[:-2] ) \n",
        "print(variable_1[-2:] ) \n",
        "print(variable_1[:-2]+variable_1[-2:] ) \n"
      ],
      "metadata": {
        "colab": {
          "base_uri": "https://localhost:8080/"
        },
        "id": "-7VTCnXu_lv0",
        "outputId": "f2df0078-0ddd-4f17-e301-3274002eac3b"
      },
      "execution_count": null,
      "outputs": [
        {
          "output_type": "stream",
          "name": "stdout",
          "text": [
            "Py\n",
            "thon\n",
            "Python\n",
            "Pyth\n",
            "on\n",
            "Python\n",
            "Pyth\n",
            "on\n",
            "Python\n"
          ]
        }
      ]
    },
    {
      "cell_type": "code",
      "source": [
        "# Usar un indice fuera de rango marcara error\n",
        "variable_1 = 'Python' \n",
        "print(variable_1[3])  # Impŕimira h , pero si le ponemos [33] matcara error.\n",
        "# Pero para las rebanadas o substring no marca error, ejemplo.\n",
        "print(variable_1[4:33] )  # Imprime on\n",
        "print('Blanco:' + variable_1[33:] )  # Imprime un blanco ' '"
      ],
      "metadata": {
        "colab": {
          "base_uri": "https://localhost:8080/"
        },
        "id": "-sNKNrflAMnt",
        "outputId": "c6d3821c-a0ef-4714-a116-bf5048dfdc33"
      },
      "execution_count": null,
      "outputs": [
        {
          "output_type": "stream",
          "name": "stdout",
          "text": [
            "h\n",
            "on\n",
            "Blanco:\n"
          ]
        }
      ]
    },
    {
      "cell_type": "code",
      "source": [
        ""
      ],
      "metadata": {
        "id": "xgtARYf2T-6P"
      },
      "execution_count": null,
      "outputs": []
    }
  ]
}