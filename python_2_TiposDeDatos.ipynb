{
  "nbformat": 4,
  "nbformat_minor": 0,
  "metadata": {
    "colab": {
      "name": "python_2_TiposDeDatos.ipynb",
      "provenance": [],
      "collapsed_sections": [],
      "authorship_tag": "ABX9TyPzqy76cSRdPYnX7VT6FVSV",
      "include_colab_link": true
    },
    "kernelspec": {
      "name": "python3",
      "display_name": "Python 3"
    },
    "language_info": {
      "name": "python"
    }
  },
  "cells": [
    {
      "cell_type": "markdown",
      "metadata": {
        "id": "view-in-github",
        "colab_type": "text"
      },
      "source": [
        "<a href=\"https://colab.research.google.com/github/carrkarr/python_ini/blob/main/python_2_TiposDeDatos.ipynb\" target=\"_parent\"><img src=\"https://colab.research.google.com/assets/colab-badge.svg\" alt=\"Open In Colab\"/></a>"
      ]
    },
    {
      "cell_type": "markdown",
      "source": [
        "***Tipos De Datos.***\n",
        "\n",
        "En Python, todo valor que pueda ser asignado a una variable tiene asociado un tipo de dato. Como ya te he mencionado alguna vez, en Python todo es un objeto. Así que los tipos de datos serían las clases (donde se definen las propiedades y qué se puede hacer con ellas) y las variables serían las instancias (objetos) de los tipos de datos. No te preocupes si no entiendes qué es una clase o un objeto, lo veremos en otro tutorial.\n",
        "\n",
        "En definitiva, **un tipo de dato establece qué valores puede tomar una variable y qué operaciones se pueden realizar sobre la misma.**\n",
        "\n",
        "En Python podemos encontrar distintos tipos de datos con diferentes características y clasificaciones. En este tutorial repasaremos los tipos de datos básicos, aunque te introduciré otros tipos de datos que veremos en tutoriales posteriores.\n",
        "\n",
        "**Los tipos de datos básicos** de Python son los booleanos, los numéricos (enteros, punto flotante y complejos) y las cadenas de caracteres.\n",
        "\n",
        "Python también define otros tipos de datos, entre los que se encuentran:\n",
        "\n",
        "    Secuencias: Los tipos list, tuple y range\n",
        "    Mapas: El tipo dict\n",
        "    Conjuntos: El tipo set\n",
        "    Iteradores\n",
        "    Clases\n",
        "    Instancias\n",
        "    Excepciones\n",
        "\n",
        "A su vez, los tipos anteriores se pueden agrupar de diferente manera. Por ejemplo: el tipo cadena de caracteres es una secuencia inmutable; las listas, tuplas o diccionarios, entre otros, son contenedores y colecciones, etc. Pero esto no lo veremos aquí.\n",
        "\n",
        "**Tipos numéricos**\n",
        "\n",
        "Python define tres tipos de datos numéricos básicos: enteros, números de punto flotante (simularía el conjunto de los números reales, pero ya veremos que no es así del todo) y los números complejos.\n",
        "\n",
        "**Números enteros**\n",
        "\n",
        "El tipo de los números enteros es int. Este tipo de dato comprende el conjunto de todos los números enteros, pero como dicho conjunto es infinito, en Python el conjunto está limitado realmente por la capacidad de la memoria disponible. No hay un límite de representación impuesto por el lenguaje.\n",
        "\n",
        "Pero tranquilidad, que para el 99% de los programas que desarrolles tendrás suficiente con el subconjunto que puedes representar.\n",
        "\n",
        "Un número de tipo int se crea a partir de un literal que represente un número entero o bien como resultado de una expresión o una llamada a una función.\n",
        "\n",
        "Ejemplos:"
      ],
      "metadata": {
        "id": "QC7H3OcYm7xJ"
      }
    },
    {
      "cell_type": "code",
      "execution_count": 2,
      "metadata": {
        "colab": {
          "base_uri": "https://localhost:8080/"
        },
        "id": "kSTBAYaLk-CK",
        "outputId": "0b135997-f374-4222-e63d-008d2ab0a1bb"
      },
      "outputs": [
        {
          "output_type": "stream",
          "name": "stdout",
          "text": [
            "1\n"
          ]
        }
      ],
      "source": [
        "a = -1     # a es de tipo int y su valor es -1\n",
        "b = a + 2  # b es de tipo int y su valor es 1\n",
        "print(b)\n"
      ]
    },
    {
      "cell_type": "markdown",
      "source": [
        "También podemos representar los números enteros en formato binario, octal o hexadecimal.\n",
        "\n",
        "Los números octales se crean anteponiendo 0o a una secuencia de dígitos octales (del 0 al 7).\n",
        "\n",
        "Para crear un número entero en hexadecimal, hay que anteponer 0x a una secuencia de dígitos en hexadecimal (del 0 al 9 y de la A la F).\n",
        "\n",
        "En cuanto a los números en binario, se antepone 0b a una secuencia de dígitos en binario (0 y 1).\n",
        "\n",
        "De acuerdo con estas reglas, el número binario 1010 tiene un valor que se calcula así:\n",
        "\n",
        "Número binario = 1010\n",
        "\n",
        "1*2Elevado3 + 0*2Elevado2 + 1*2Elevado1 + 0*2Elevado0 , es decir:\n",
        "\n",
        "8 + 0 + 2 + 0 = 10\n",
        "\n",
        "Número Decimal = 10\n",
        "\n",
        "\n",
        "Se realiza la misma operación para los octales\n",
        "De acuerdo con estas reglas, el número binario 1010 tiene un valor que se calcula así:\n",
        "\n",
        "Número octal = 12\n",
        "\n",
        "1*8Elevado1 + 2*8Elevado0 , es decir:\n",
        "\n",
        "8 + 2 = 10\n",
        "\n",
        "Número Decimal = 10\n",
        "\n",
        "En el sistema hexadecimal los números se representan con dieciséis símbolos: 0, 1, 2, 3, 4, 5, 6, 7, 8, 9, A, B, C, D, E y F. Se utilizan los caracteres A, B, C, D, E y F representando las cantidades decima­les 10, 11, 12, 13, 14 y 15 respectivamente, porque no hay dígitos mayores que 9 en el sistema decimal. El valor de cada uno de estos símbolos depende, como es lógico, de su posición, que se calcula mediante potencias de base 16.\n",
        "\n",
        "Calculemos, a modo de ejemplo, el valor del número hexadecimal.\n",
        "\n",
        "Número exa = a\n",
        "\n",
        "a*16Elevado0 , es decir:\n",
        "\n",
        "De acuerdo a lo anteriormente descrito:\n",
        "0, 1, 2, 3, 4, 5, 6, 7, 8, 9, **A,** B, C, D, E y F\n",
        "\n",
        "**a = 10 ó A = 10**\n",
        "\n",
        "Número Decimal = 10\n"
      ],
      "metadata": {
        "id": "exVS7q33p29N"
      }
    },
    {
      "cell_type": "code",
      "source": [
        "diez = 10\n",
        "diez_binario = 0b1010\n",
        "diez_octal = 0o12\n",
        "diez_hex = 0xa\n",
        "\n",
        "print(diez)\n",
        "print(diez_binario)\n",
        "print(diez_octal)\n",
        "print(diez_hex)\n"
      ],
      "metadata": {
        "colab": {
          "base_uri": "https://localhost:8080/"
        },
        "id": "aqf384omp5Iu",
        "outputId": "f2823cda-4cde-4608-9ca5-e468f5cc47c4"
      },
      "execution_count": 3,
      "outputs": [
        {
          "output_type": "stream",
          "name": "stdout",
          "text": [
            "10\n",
            "10\n",
            "10\n",
            "10\n"
          ]
        }
      ]
    },
    {
      "cell_type": "markdown",
      "source": [
        "*Números de punto flotante*\n",
        "\n",
        "Como sabemos los números de punto flotante representaban, más o menos, al conjunto de los números reales.\n",
        "\n",
        "Vamos a hacer un experimento que te va a dejar a cuadros. Abre un terminal y ejecuta el comando python3 para lanzar el intérprete de Python. A continuación introduce la expresión 1.1 + 2.2 y mira cuál es el resultado."
      ],
      "metadata": {
        "id": "CYscW0hYyNhR"
      }
    },
    {
      "cell_type": "code",
      "source": [
        "a = 1.1\n",
        "b = 2.2\n",
        "\n",
        "print (a + b) # ¿Qué es ese 3 del final del resultado?"
      ],
      "metadata": {
        "colab": {
          "base_uri": "https://localhost:8080/"
        },
        "id": "cNbWViG1yedx",
        "outputId": "d83fbe7d-2303-4c47-b210-66eaab84001d"
      },
      "execution_count": 4,
      "outputs": [
        {
          "output_type": "stream",
          "name": "stdout",
          "text": [
            "3.3000000000000003\n"
          ]
        }
      ]
    },
    {
      "cell_type": "markdown",
      "source": [
        "**Representación de los números de punto flotante**\n",
        "\n",
        "Al igual que ocurre con los números enteros, los números reales son infinitos y, por tanto, es imposible representar todo el conjunto de números reales con un ordenador.\n",
        "\n",
        "Para representar el mayor número posible de los números reales con las limitaciones de memoria (tamaños de palabra de 32 y 64 bits), se adaptó la notación científica de representación de números reales al sistema binario (que es el sistema que se utiliza en programación para representar los datos e instrucciones).\n",
        "\n",
        "En esta notación científica, los números se representan así:\n",
        "\n",
        "Número\tNotación científica\n",
        "101.1\t  1.011 * 10Elevado2\n",
        "0.032\t  3.2 * 10Elevado-2\n",
        "\n",
        "\n",
        "El caso es que la suma de la representación en punto flotante en binario del número 1.1 y de la representación en punto flotante en binario del número 2.2, dan como resultado 3,3000000000000003\n",
        "\n",
        "Pero hay más casos, como por ejemplo la representación del número 1/3. En algún momento, el ordenador tiene que truncar el número periódico resultante.\n",
        "\n",
        "La explicación final es que los números de punto flotante se representan en el hardware del ordenador como fracciones de base 2 (binarias). Y el problema está en que la mayoría de las fracciones decimales no se pueden representar de forma exacta como fracciones binarias porque tienen infinitos números decimales. Una consecuencia es que, en general, los números decimales de punto flotante que usas en tus aplicaciones son una aproximación de los números binarios de punto flotante realmente almacenados en la máquina.\n",
        "\n",
        "\n",
        "**Números de Punto flotante en Python**\n",
        "\n",
        "Pues una vez vista esta simplificada introducción a los números de punto flotante, te diré que este tipo de datos en Python es float.\n",
        "\n",
        "Puedes usar el tipo float sin problemas para representar cualquier número real (siempre teniendo en cuenta que es una aproximación lo más precisa posible). Por tanto para longitudes, pesos, frecuencias, …, en los que prácticamente es lo mismo 3,3 que 3,3000000000000003 el tipo float es el más apropiado.\n",
        "\n",
        "Cuando un número float vaya a ser usado por una persona, en lugar de por el ordenador, puedes darle formato al número de la siguiente manera:"
      ],
      "metadata": {
        "id": "o86SABuCyx04"
      }
    },
    {
      "cell_type": "code",
      "source": [
        "real = 1.1 + 2.2  # real es un float\n",
        "print(real)\n",
        "# 3.3000000000000003  # Representación aproximada de 3.3\n",
        "\n",
        "print(f'{real:.2f}')\n",
        "# 3.30  # real mostrando únicamente 2 cifras decimales"
      ],
      "metadata": {
        "colab": {
          "base_uri": "https://localhost:8080/"
        },
        "id": "MfpsPkjfzzcO",
        "outputId": "bde273a2-8a91-4b35-e727-7ece3a6e2113"
      },
      "execution_count": 6,
      "outputs": [
        {
          "output_type": "stream",
          "name": "stdout",
          "text": [
            "3.3000000000000003\n",
            "3.30\n"
          ]
        }
      ]
    },
    {
      "cell_type": "markdown",
      "source": [
        "Al igual que los números enteros, un float se crea a partir de un literal, o bien como resultado de una expresión o una función.\n"
      ],
      "metadata": {
        "id": "VUoXY3ZR6HGS"
      }
    },
    {
      "cell_type": "code",
      "source": [
        "un_real = 1.1  # El literal debe incluir el carácter .\n",
        "print (un_real)\n",
        "otro_real = 1/2  # El resultado de 1/2 es un float\n",
        "print (otro_real)\n",
        "nota_cienti = 1.23E3  # float con notación científica (1230.0)\n",
        "print (nota_cienti)"
      ],
      "metadata": {
        "colab": {
          "base_uri": "https://localhost:8080/"
        },
        "id": "e-30jCRk6Itw",
        "outputId": "855b4496-bad8-468e-cb69-cd6835161874"
      },
      "execution_count": 8,
      "outputs": [
        {
          "output_type": "stream",
          "name": "stdout",
          "text": [
            "1.1\n",
            "0.5\n",
            "1230.0\n"
          ]
        }
      ]
    },
    {
      "cell_type": "markdown",
      "source": [
        "Y para terminar esta sección, te adelanto que, si por cualquier motivo sí que necesitas una mayor precisión a la hora de trabajar con los números reales, Python tiene otros tipos de datos, como Decimal.\n",
        "\n",
        "El tipo Decimal es ideal a la hora de trabajar, por ejemplo, con dinero o tipos de interés. Este tipo de dato trunca la parte decimal del número para ser más preciso, pero no es el objetivo de este tutorial hablar sobre el tipo de dato Decimal (Es todo un tema muy amplio). Un adelanto de Ejemplo y observe el comportamiento."
      ],
      "metadata": {
        "id": "mSXWNCwV6kdg"
      }
    },
    {
      "cell_type": "code",
      "source": [
        "from decimal import *   # Libreria necesaria para el manejo de decimales\n",
        "\n",
        "getcontext().prec = 6    # Ponemos un contexto de 6 decimales.\n",
        "\n",
        "Dec_1 = 1 / 7           # Sin el manejo de la laibreria de decimales\n",
        "\n",
        "print (Dec_1)\n",
        "\n",
        "Dec_2 = Decimal(1) / Decimal(7) # Con el manejo de la libreria de decimales\n",
        "\n",
        "print (Dec_2)\n",
        "\n",
        "\n"
      ],
      "metadata": {
        "colab": {
          "base_uri": "https://localhost:8080/"
        },
        "id": "Azw4FYgCB4CD",
        "outputId": "e75956c3-c9d7-428f-d298-29be6da6c7f6"
      },
      "execution_count": 24,
      "outputs": [
        {
          "output_type": "stream",
          "name": "stdout",
          "text": [
            "0.14285714285714285\n",
            "0.142857\n"
          ]
        }
      ]
    },
    {
      "cell_type": "markdown",
      "source": [
        "***Números complejos***\n",
        "\n",
        "Los números complejos son combinaciones de números reales y números imaginarios.\n",
        "\n",
        "El último tipo de dato numérico básico que tiene Python es el de los números complejos, complex.\n",
        "\n",
        "Los números complejos tienen una parte real y otra imaginaria y cada una de ellas se representa como un float.\n",
        "\n",
        "Para crear un número complejo, se sigue la siguiente estructura <parte_real>+<parte_imaginaria>j. Y se puede acceder a la parte real e imaginaria a través de los atributos real e imag: Solo lo ejemplificaremos ya ques todo un tema aparte y existen librerias para su manejo (cmath)."
      ],
      "metadata": {
        "id": "IijfLG7XRREA"
      }
    },
    {
      "cell_type": "code",
      "source": [
        "a = 8 + 5j\n",
        "b = 10 + 2j\n",
        "\n",
        "print (\"Parte Real \" , a.real)\n",
        "print (\"Parte Imaginaria\", a.imag)\n",
        "\n",
        "print (\"Parte Real \" , b.real)\n",
        "print (\"Parte Imaginaria\", b.imag)\n",
        "\n",
        "# Adding imaginary part of both numbers\n",
        "c = (a.imag + b.imag)\n",
        "print(c)\n",
        "\n",
        "# Simple multiplication of both complex numbers\n",
        "print('after multiplication = ', a*b)"
      ],
      "metadata": {
        "colab": {
          "base_uri": "https://localhost:8080/"
        },
        "id": "kdEyi-3MzUCO",
        "outputId": "60d1e056-4487-4c8d-c8db-f1230d7fa591"
      },
      "execution_count": 4,
      "outputs": [
        {
          "output_type": "stream",
          "name": "stdout",
          "text": [
            "Parte Real  8.0\n",
            "Parte Imaginaria 5.0\n",
            "Parte Real  10.0\n",
            "Parte Imaginaria 2.0\n",
            "7.0\n",
            "after multiplication =  (70+66j)\n"
          ]
        }
      ]
    },
    {
      "cell_type": "markdown",
      "source": [
        "**Aritmética de los tipos numéricos**\n",
        "\n",
        "Con todos los tipos numéricos se pueden aplicar las operaciones de la aritmética: suma, resta, producto, división, …\n",
        "\n",
        "En Python está permitido realizar una operación aritmética con números de distinto tipo. En este caso, el tipo numérico «más pequeño» se convierte al del tipo «más grande», de manera que el tipo del resultado siempre es el del tipo mayor. Entendemos que el tipo int es menor que el tipo float que a su vez es menor que el tipo complex.\n",
        "\n",
        "Esto también es todo un tema aparte y aquí solo s ehace mención.\n",
        "\n",
        "Por tanto, es posible, por ejemplo, sumar un int y un float:"
      ],
      "metadata": {
        "id": "nTFFLVqB3NgT"
      }
    },
    {
      "cell_type": "code",
      "source": [
        "a = 1 + 2.0 # Se convierte el real\n",
        "print (a)\n",
        "b = 2+3j + 5.7 # Sew convierte en complejo\n",
        "print (b)\n"
      ],
      "metadata": {
        "colab": {
          "base_uri": "https://localhost:8080/"
        },
        "id": "f27jpCOI3tZt",
        "outputId": "ca437532-b46c-4792-b603-777ddc51f84e"
      },
      "execution_count": 5,
      "outputs": [
        {
          "output_type": "stream",
          "name": "stdout",
          "text": [
            "3.0\n",
            "(7.7+3j)\n"
          ]
        }
      ]
    },
    {
      "cell_type": "markdown",
      "source": [
        "**Tipo booleano**\n",
        "\n",
        "En Python la clase que representa los valores booleanos es bool. Esta clase solo se puede instanciar con dos valores/objetos: True para representar verdadero y False para representar falso.\n",
        "\n",
        "Una particularidad del lenguaje es que cualquier objeto puede ser usado en un contexto donde se requiera comprobar si algo es verdadero o falso. Por tanto, cualquier objeto se puede usar en la condición de un if o un while (son estructuras de control que veremos en tutoriales posteriores) o como operando de una operación booleana.\n",
        "\n",
        "Por defecto, cualquier objeto es considerado como verdadero con dos excepciones:\n",
        "\n",
        "    Que implemente el método __bool__() y este devuelva False.\n",
        "    Que impleménte el método __len__() y este devuelva 0.\n",
        "\n",
        "Además, los siguientes objetos/instancias también son consideradas falsas:\n",
        "\n",
        "    None\n",
        "    False\n",
        "    El valor cero de cualquier tipo numérico: 0, 0.0, 0j, …\n",
        "    Secuencias y colecciones vacías (veremos estos tipos en otros tutoriales): '', (), [], {}, set(), range(0).\n",
        "\n",
        "\n",
        "   ** Tipo cadena de caracteres**\n",
        "\n",
        "Otro tipo básico de Python, e imprescindible, son las secuencias o cadenas de caracteres. Este tipo es conocido como string aunque su clase verdadera es str.\n",
        "\n",
        "Formalmente, un string es una secuencia inmutable de caracteres en formato Unicode.\n",
        "\n",
        "Para crear un string, simplemente tienes que encerrar entre comillas simples '' o dobles \"\" una secuencia de caracteres.\n",
        "\n",
        "Se puede usar indistintamente comillas simples o dobles, con una particularidad. Si en la cadena de caracteres se necesita usar una comilla simple, tienes dos opciones: usar comillas dobles para encerrar el string, o bien, usar comillas simples pero anteponer el carácter \\ a la comilla simple del interior de la cadena. El caso contrario es similar.\n",
        "\n",
        "Veamos todo esto con un ejemplo:"
      ],
      "metadata": {
        "id": "9TTy6v065CSy"
      }
    },
    {
      "cell_type": "code",
      "source": [
        "# Print con commilla simple, observe que se usa la \\ para no inteferir con la ' del print y del texto\n",
        "print('He\\'s not an angel. He\\'s a very naughty boy!')\n",
        "# Print con comilla doble, observe que  ya no s eutiliza la \\ ya que no interfiere con la comilla simple del texto \n",
        "print(\"He's not an angel. He's a very naughty boy!\")\n",
        "\n",
        "# Print con varias lineas, observe \\n para el salto de linea\n",
        "print('Hola Mundo.\\nEstoy probando el print\\ncon varias lineas')\n",
        "print(\"\"\" \n",
        "        Hola Mundo.\n",
        "        Estoy probando el print\n",
        "        con varias lineas. \n",
        "      \"\"\")\n",
        "# Print texto con con comillas \n",
        "print('Hola, \"Mundo\"')\n",
        "print(\"Hola, 'Mundo'\")\n",
        "print(\"Hola, \\\"Mundo\\\"\")\n",
        "print('Hola, \\'Mundo\\'')"
      ],
      "metadata": {
        "colab": {
          "base_uri": "https://localhost:8080/"
        },
        "id": "6dbQC4Uw7XE-",
        "outputId": "8869f102-b58e-45d0-be5c-06e615e8efa7"
      },
      "execution_count": 6,
      "outputs": [
        {
          "output_type": "stream",
          "name": "stdout",
          "text": [
            "He's not an angel. He's a very naughty boy!\n",
            "He's not an angel. He's a very naughty boy!\n",
            "Hola Mundo.\n",
            "Estoy probando el print\n",
            "con varias lineas\n",
            " \n",
            "        Hola Mundo.\n",
            "        Estoy probando el print\n",
            "        con varias lineas. \n",
            "      \n",
            "Hola, \"Mundo\"\n",
            "Hola, 'Mundo'\n",
            "Hola, \"Mundo\"\n",
            "Hola, 'Mundo'\n"
          ]
        }
      ]
    },
    {
      "cell_type": "markdown",
      "source": [
        "***Otros Tipos De Datos***\n",
        "\n",
        "Hasta aquí hemos repasado los tipos de datos básicos de Python, sin embargo, el lenguaje ofrece muchos tipos más. Te hago aquí un avance de los más importantes, aunque los veremos en detalle más adelante.\n",
        "\n",
        "Además de los tipos básicos, otros tipos fundamentales de Python son las secuencias (list y tuple), los conjuntos (set) y los mapas (dict).\n",
        "\n",
        "Todos ellos son tipos compuestos y se utilizan para agrupar juntos varios valores.\n",
        "\n",
        "    Las listas son secuencias mutables de valores.\n",
        "    Las tuplas son secuencias inmutables de valores.\n",
        "    Los conjuntos se utilizan para representar conjuntos únicos de elementos, es decir, en un conjunto no pueden existir dos objetos iguales.\n",
        "    Los diccionarios son tipos especiales de contenedores en los que se puede acceder a sus elementos a partir de una clave única."
      ],
      "metadata": {
        "id": "EjYnb4m58jFz"
      }
    },
    {
      "cell_type": "code",
      "source": [
        "lista = [1, 2, 3, 8, 9]\n",
        "tupla = (1, 4, 8, 0, 5)\n",
        "conjunto = set([1, 3, 1, 4])\n",
        "diccionario = {'a': 1, 'b': 3, 'z': 8}\n",
        "\n",
        "print(lista)\n",
        "print(tupla)\n",
        "print(conjunto)\n",
        "print(diccionario)\n"
      ],
      "metadata": {
        "colab": {
          "base_uri": "https://localhost:8080/"
        },
        "id": "FxtUSo9L80Pp",
        "outputId": "1edfa044-64b7-4048-a558-bf4ff83cea5e"
      },
      "execution_count": 8,
      "outputs": [
        {
          "output_type": "stream",
          "name": "stdout",
          "text": [
            "[1, 2, 3, 8, 9]\n",
            "(1, 4, 8, 0, 5)\n",
            "{1, 3, 4}\n",
            "{'a': 1, 'b': 3, 'z': 8}\n"
          ]
        }
      ]
    },
    {
      "cell_type": "markdown",
      "source": [
        "**Conocer el tipo de una variable**\n",
        "\n",
        "Ahora te voy a presentar dos funciones para que puedas jugar con todo lo que hemos visto en este tutorial. ***Son type() e isinstance():***\n",
        "\n",
        "    type() recibe como parámetro un objeto y te devuelve el tipo del mismo.\n",
        "    isinstance() recibe dos parámetros: un objeto y un tipo. Devuelve True si el objeto es del tipo que se pasa como parámetro y False en caso contrario."
      ],
      "metadata": {
        "id": "hGg3LcXh-SC-"
      }
    },
    {
      "cell_type": "code",
      "source": [
        "print (type(3))\n",
        "print (type(2.78))\n",
        "print (type('Hola'))\n",
        "print (isinstance(3, float))\n",
        "print (isinstance(3, int))\n",
        "print (isinstance(3, bool))\n",
        "print (isinstance(1, bool))\n",
        "print (isinstance(False, bool))\n"
      ],
      "metadata": {
        "colab": {
          "base_uri": "https://localhost:8080/"
        },
        "id": "Laa7hDA--eu_",
        "outputId": "ed36fdfe-7a6c-4140-fb78-f97261e6738d"
      },
      "execution_count": 13,
      "outputs": [
        {
          "output_type": "stream",
          "name": "stdout",
          "text": [
            "<class 'int'>\n",
            "<class 'float'>\n",
            "<class 'str'>\n",
            "False\n",
            "True\n",
            "False\n",
            "False\n",
            "True\n"
          ]
        }
      ]
    },
    {
      "cell_type": "markdown",
      "source": [
        "***Conversión de tipos***\n",
        "\n",
        "¿Esto qué significa?\n",
        "\n",
        "Imagina que tienes una variable edad de tipo string cuyo valor es '25'. Se podría decir que edad, aunque realmente es una cadena de caracteres, contiene un número. Sin embargo, si intentas sumar 10 a edad, el intérprete te dará un error porque edad es de tipo str y 10 un tipo numérico."
      ],
      "metadata": {
        "id": "pwmXy8TE_fAX"
      }
    },
    {
      "cell_type": "code",
      "source": [
        "edad = '25'    # Es un string\n",
        "edad = edad + 10"
      ],
      "metadata": {
        "colab": {
          "base_uri": "https://localhost:8080/",
          "height": 185
        },
        "id": "f0QaDOnn_ms4",
        "outputId": "1d438762-45c9-4bd7-812a-d4b12367cb71"
      },
      "execution_count": 14,
      "outputs": [
        {
          "output_type": "error",
          "ename": "TypeError",
          "evalue": "ignored",
          "traceback": [
            "\u001b[0;31m---------------------------------------------------------------------------\u001b[0m",
            "\u001b[0;31mTypeError\u001b[0m                                 Traceback (most recent call last)",
            "\u001b[0;32m<ipython-input-14-60799f27b137>\u001b[0m in \u001b[0;36m<module>\u001b[0;34m()\u001b[0m\n\u001b[1;32m      1\u001b[0m \u001b[0medad\u001b[0m \u001b[0;34m=\u001b[0m \u001b[0;34m'25'\u001b[0m\u001b[0;34m\u001b[0m\u001b[0;34m\u001b[0m\u001b[0m\n\u001b[0;32m----> 2\u001b[0;31m \u001b[0medad\u001b[0m \u001b[0;34m=\u001b[0m \u001b[0medad\u001b[0m \u001b[0;34m+\u001b[0m \u001b[0;36m10\u001b[0m\u001b[0;34m\u001b[0m\u001b[0;34m\u001b[0m\u001b[0m\n\u001b[0m",
            "\u001b[0;31mTypeError\u001b[0m: can only concatenate str (not \"int\") to str"
          ]
        }
      ]
    },
    {
      "cell_type": "markdown",
      "source": [
        "¿Cómo puedo tratar la variable edad como un número? Convirtiéndola a un tipo numérico, por ejemplo, al tipo int.\n",
        "\n",
        "Para ello, Python ofrece las siguientes funciones:\n",
        "\n",
        "    str(): Devuelve la representación en cadena de caracteres del objeto que se pasa como parámetro.\n",
        "    int(): Devuelve un int a partir de un número o secuencia de caracteres.\n",
        "    float(): Devuelve un float a partir de un número o secuencia de caracteres.\n",
        "    complex(): Devuelve un complex a partir de un número o secuencia de caracteres."
      ],
      "metadata": {
        "id": "fl3F9yhS_yQW"
      }
    },
    {
      "cell_type": "code",
      "source": [
        "edad = int ('25')    # Es un string convertdo a int - entero\n",
        "edad = edad + 10\n",
        "print (edad)"
      ],
      "metadata": {
        "colab": {
          "base_uri": "https://localhost:8080/"
        },
        "id": "vR08doHhAByH",
        "outputId": "aa9adad5-9727-4991-a513-1a443afd7770"
      },
      "execution_count": 16,
      "outputs": [
        {
          "output_type": "stream",
          "name": "stdout",
          "text": [
            "35\n"
          ]
        }
      ]
    },
    {
      "cell_type": "markdown",
      "source": [
        "Si a las funciones anteriores se les pasa como parámetro un valor inválido, el intérprete mostrará un error."
      ],
      "metadata": {
        "id": "bKc3_3xuAbqy"
      }
    },
    {
      "cell_type": "code",
      "source": [
        "float('hola')  # Convierte un str a float (pero no es válido)"
      ],
      "metadata": {
        "colab": {
          "base_uri": "https://localhost:8080/",
          "height": 167
        },
        "id": "QY0N_wwCAec3",
        "outputId": "feac0304-1ee7-4c86-f98d-673db361d33d"
      },
      "execution_count": 17,
      "outputs": [
        {
          "output_type": "error",
          "ename": "ValueError",
          "evalue": "ignored",
          "traceback": [
            "\u001b[0;31m---------------------------------------------------------------------------\u001b[0m",
            "\u001b[0;31mValueError\u001b[0m                                Traceback (most recent call last)",
            "\u001b[0;32m<ipython-input-17-504f27c9e615>\u001b[0m in \u001b[0;36m<module>\u001b[0;34m()\u001b[0m\n\u001b[0;32m----> 1\u001b[0;31m \u001b[0mfloat\u001b[0m\u001b[0;34m(\u001b[0m\u001b[0;34m'hola'\u001b[0m\u001b[0;34m)\u001b[0m  \u001b[0;31m# Convierte un str a float (pero no es válido)\u001b[0m\u001b[0;34m\u001b[0m\u001b[0;34m\u001b[0m\u001b[0m\n\u001b[0m",
            "\u001b[0;31mValueError\u001b[0m: could not convert string to float: 'hola'"
          ]
        }
      ]
    },
    {
      "cell_type": "code",
      "source": [
        "# Conversion a string\n",
        "print (str(23))\n",
        "print (str(3.5))\n",
        "print (str(True))\n"
      ],
      "metadata": {
        "colab": {
          "base_uri": "https://localhost:8080/"
        },
        "id": "uMb_ykDFCzQU",
        "outputId": "0bfcb7a2-fd49-43f4-c57d-6712bb315335"
      },
      "execution_count": 19,
      "outputs": [
        {
          "output_type": "stream",
          "name": "stdout",
          "text": [
            "23\n",
            "3.5\n",
            "True\n"
          ]
        }
      ]
    },
    {
      "cell_type": "code",
      "source": [
        "# Conversion a float\n",
        "print (float(23))\n",
        "print (float(\"3.5\"))\n",
        "print (float(True))"
      ],
      "metadata": {
        "colab": {
          "base_uri": "https://localhost:8080/"
        },
        "id": "chn7YqvADGD3",
        "outputId": "bf930ac4-f95b-42bc-b5f7-1a3ff2ea8241"
      },
      "execution_count": 21,
      "outputs": [
        {
          "output_type": "stream",
          "name": "stdout",
          "text": [
            "23.0\n",
            "3.5\n",
            "1.0\n"
          ]
        }
      ]
    },
    {
      "cell_type": "code",
      "source": [
        "# Conversion a boleano\n",
        "print (\"None\", bool(None))\n",
        "print (bool(\"\"))\n",
        "print (bool(\" \"))\n",
        "print (\"Hola\", bool(\"Hola\"))\n",
        "print (bool(3))\n",
        "print (bool(1))\n",
        "print (bool(0))\n",
        "print (\" bool de 3.0 \" , bool(3.0))\n",
        "print (bool(1.0))\n",
        "print (bool(0.0))\n"
      ],
      "metadata": {
        "colab": {
          "base_uri": "https://localhost:8080/"
        },
        "id": "L2c3kZAfDcXi",
        "outputId": "6a5518c5-9bb0-4571-ef62-bd488deaee4e"
      },
      "execution_count": 26,
      "outputs": [
        {
          "output_type": "stream",
          "name": "stdout",
          "text": [
            "None False\n",
            "False\n",
            "True\n",
            "Hola True\n",
            "True\n",
            "True\n",
            "False\n",
            " bool de 3.0  True\n",
            "True\n",
            "False\n"
          ]
        }
      ]
    },
    {
      "cell_type": "code",
      "source": [
        "# Conversion a enteros\n",
        "print (int(23.5))\n",
        "print (int(3.9))\n",
        "print (int(3.1))\n",
        "print (int(\"3\"))\n"
      ],
      "metadata": {
        "colab": {
          "base_uri": "https://localhost:8080/"
        },
        "id": "BB6822OzFveU",
        "outputId": "e3e99c59-50b9-4fbb-d002-c9b3039e61cc"
      },
      "execution_count": 33,
      "outputs": [
        {
          "output_type": "stream",
          "name": "stdout",
          "text": [
            "23\n",
            "3\n",
            "3\n",
            "3\n"
          ]
        }
      ]
    },
    {
      "cell_type": "code",
      "source": [
        ""
      ],
      "metadata": {
        "id": "RM2dIAbKGdnL"
      },
      "execution_count": null,
      "outputs": []
    },
    {
      "cell_type": "code",
      "source": [
        "# Conversion a enteros, este marcara error\n",
        "print (int(\"3.5\"))\n",
        "\n"
      ],
      "metadata": {
        "colab": {
          "base_uri": "https://localhost:8080/",
          "height": 202
        },
        "outputId": "582feeb8-da7d-4b13-885f-564b8dae41c5",
        "id": "Nw0ralKQGf5L"
      },
      "execution_count": 34,
      "outputs": [
        {
          "output_type": "error",
          "ename": "ValueError",
          "evalue": "ignored",
          "traceback": [
            "\u001b[0;31m---------------------------------------------------------------------------\u001b[0m",
            "\u001b[0;31mValueError\u001b[0m                                Traceback (most recent call last)",
            "\u001b[0;32m<ipython-input-34-9f1c1b344b4a>\u001b[0m in \u001b[0;36m<module>\u001b[0;34m()\u001b[0m\n\u001b[1;32m      1\u001b[0m \u001b[0;31m# Conversion a enteros, este marcara error\u001b[0m\u001b[0;34m\u001b[0m\u001b[0;34m\u001b[0m\u001b[0;34m\u001b[0m\u001b[0m\n\u001b[0;32m----> 2\u001b[0;31m \u001b[0mprint\u001b[0m \u001b[0;34m(\u001b[0m\u001b[0mint\u001b[0m\u001b[0;34m(\u001b[0m\u001b[0;34m\"3.5\"\u001b[0m\u001b[0;34m)\u001b[0m\u001b[0;34m)\u001b[0m\u001b[0;34m\u001b[0m\u001b[0;34m\u001b[0m\u001b[0m\n\u001b[0m\u001b[1;32m      3\u001b[0m \u001b[0;34m\u001b[0m\u001b[0m\n",
            "\u001b[0;31mValueError\u001b[0m: invalid literal for int() with base 10: '3.5'"
          ]
        }
      ]
    }
  ]
}