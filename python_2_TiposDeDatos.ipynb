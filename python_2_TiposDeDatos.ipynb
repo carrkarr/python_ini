{
  "nbformat": 4,
  "nbformat_minor": 0,
  "metadata": {
    "colab": {
      "name": "python_2_TiposDeDatos.ipynb",
      "provenance": [],
      "collapsed_sections": [],
      "authorship_tag": "ABX9TyMXheTfhQFdOYlKqx7q4yPH",
      "include_colab_link": true
    },
    "kernelspec": {
      "name": "python3",
      "display_name": "Python 3"
    },
    "language_info": {
      "name": "python"
    }
  },
  "cells": [
    {
      "cell_type": "markdown",
      "metadata": {
        "id": "view-in-github",
        "colab_type": "text"
      },
      "source": [
        "<a href=\"https://colab.research.google.com/github/carrkarr/python_ini/blob/main/python_2_TiposDeDatos.ipynb\" target=\"_parent\"><img src=\"https://colab.research.google.com/assets/colab-badge.svg\" alt=\"Open In Colab\"/></a>"
      ]
    },
    {
      "cell_type": "markdown",
      "source": [
        "***Tipos De Datos.***\n",
        "\n",
        "En Python, todo valor que pueda ser asignado a una variable tiene asociado un tipo de dato. Como ya te he mencionado alguna vez, en Python todo es un objeto. Así que los tipos de datos serían las clases (donde se definen las propiedades y qué se puede hacer con ellas) y las variables serían las instancias (objetos) de los tipos de datos. No te preocupes si no entiendes qué es una clase o un objeto, lo veremos en otro tutorial.\n",
        "\n",
        "En definitiva, **un tipo de dato establece qué valores puede tomar una variable y qué operaciones se pueden realizar sobre la misma.**\n",
        "\n",
        "En Python podemos encontrar distintos tipos de datos con diferentes características y clasificaciones. En este tutorial repasaremos los tipos de datos básicos, aunque te introduciré otros tipos de datos que veremos en tutoriales posteriores.\n",
        "\n",
        "**Los tipos de datos básicos** de Python son los booleanos, los numéricos (enteros, punto flotante y complejos) y las cadenas de caracteres.\n",
        "\n",
        "Python también define otros tipos de datos, entre los que se encuentran:\n",
        "\n",
        "    Secuencias: Los tipos list, tuple y range\n",
        "    Mapas: El tipo dict\n",
        "    Conjuntos: El tipo set\n",
        "    Iteradores\n",
        "    Clases\n",
        "    Instancias\n",
        "    Excepciones\n",
        "\n",
        "A su vez, los tipos anteriores se pueden agrupar de diferente manera. Por ejemplo: el tipo cadena de caracteres es una secuencia inmutable; las listas, tuplas o diccionarios, entre otros, son contenedores y colecciones, etc. Pero esto no lo veremos aquí.\n",
        "\n",
        "**Tipos numéricos**\n",
        "\n",
        "Python define tres tipos de datos numéricos básicos: enteros, números de punto flotante (simularía el conjunto de los números reales, pero ya veremos que no es así del todo) y los números complejos.\n",
        "\n",
        "**Números enteros**\n",
        "\n",
        "El tipo de los números enteros es int. Este tipo de dato comprende el conjunto de todos los números enteros, pero como dicho conjunto es infinito, en Python el conjunto está limitado realmente por la capacidad de la memoria disponible. No hay un límite de representación impuesto por el lenguaje.\n",
        "\n",
        "Pero tranquilidad, que para el 99% de los programas que desarrolles tendrás suficiente con el subconjunto que puedes representar.\n",
        "\n",
        "Un número de tipo int se crea a partir de un literal que represente un número entero o bien como resultado de una expresión o una llamada a una función.\n",
        "\n",
        "Ejemplos:"
      ],
      "metadata": {
        "id": "QC7H3OcYm7xJ"
      }
    },
    {
      "cell_type": "code",
      "execution_count": 2,
      "metadata": {
        "colab": {
          "base_uri": "https://localhost:8080/"
        },
        "id": "kSTBAYaLk-CK",
        "outputId": "0b135997-f374-4222-e63d-008d2ab0a1bb"
      },
      "outputs": [
        {
          "output_type": "stream",
          "name": "stdout",
          "text": [
            "1\n"
          ]
        }
      ],
      "source": [
        "a = -1     # a es de tipo int y su valor es -1\n",
        "b = a + 2  # b es de tipo int y su valor es 1\n",
        "print(b)\n"
      ]
    },
    {
      "cell_type": "markdown",
      "source": [
        "También podemos representar los números enteros en formato binario, octal o hexadecimal.\n",
        "\n",
        "Los números octales se crean anteponiendo 0o a una secuencia de dígitos octales (del 0 al 7).\n",
        "\n",
        "Para crear un número entero en hexadecimal, hay que anteponer 0x a una secuencia de dígitos en hexadecimal (del 0 al 9 y de la A la F).\n",
        "\n",
        "En cuanto a los números en binario, se antepone 0b a una secuencia de dígitos en binario (0 y 1).\n",
        "\n",
        "De acuerdo con estas reglas, el número binario 1010 tiene un valor que se calcula así:\n",
        "\n",
        "Número binario = 1010\n",
        "\n",
        "1*2Elevado3 + 0*2Elevado2 + 1*2Elevado1 + 0*2Elevado0 , es decir:\n",
        "\n",
        "8 + 0 + 2 + 0 = 10\n",
        "\n",
        "Número Decimal = 10\n",
        "\n",
        "\n",
        "Se realiza la misma operación para los octales\n",
        "De acuerdo con estas reglas, el número binario 1010 tiene un valor que se calcula así:\n",
        "\n",
        "Número octal = 12\n",
        "\n",
        "1*8Elevado1 + 2*8Elevado0 , es decir:\n",
        "\n",
        "8 + 2 = 10\n",
        "\n",
        "Número Decimal = 10\n",
        "\n",
        "En el sistema hexadecimal los números se representan con dieciséis símbolos: 0, 1, 2, 3, 4, 5, 6, 7, 8, 9, A, B, C, D, E y F. Se utilizan los caracteres A, B, C, D, E y F representando las cantidades decima­les 10, 11, 12, 13, 14 y 15 respectivamente, porque no hay dígitos mayores que 9 en el sistema decimal. El valor de cada uno de estos símbolos depende, como es lógico, de su posición, que se calcula mediante potencias de base 16.\n",
        "\n",
        "Calculemos, a modo de ejemplo, el valor del número hexadecimal.\n",
        "\n",
        "Número exa = a\n",
        "\n",
        "a*16Elevado0 , es decir:\n",
        "\n",
        "De acuerdo a lo anteriormente descrito:\n",
        "0, 1, 2, 3, 4, 5, 6, 7, 8, 9, **A,** B, C, D, E y F\n",
        "\n",
        "a = 10 ó A = 10\n",
        "\n",
        "Número Decimal = 10\n"
      ],
      "metadata": {
        "id": "exVS7q33p29N"
      }
    },
    {
      "cell_type": "code",
      "source": [
        "diez = 10\n",
        "diez_binario = 0b1010\n",
        "diez_octal = 0o12\n",
        "diez_hex = 0xa\n",
        "print(diez)\n",
        "\n",
        "print(diez_binario)\n",
        "\n",
        "print(diez_octal)\n",
        "\n",
        "print(diez_hex)\n"
      ],
      "metadata": {
        "colab": {
          "base_uri": "https://localhost:8080/"
        },
        "id": "aqf384omp5Iu",
        "outputId": "f2823cda-4cde-4608-9ca5-e468f5cc47c4"
      },
      "execution_count": 3,
      "outputs": [
        {
          "output_type": "stream",
          "name": "stdout",
          "text": [
            "10\n",
            "10\n",
            "10\n",
            "10\n"
          ]
        }
      ]
    }
  ]
}