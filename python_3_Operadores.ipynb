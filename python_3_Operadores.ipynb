{
  "nbformat": 4,
  "nbformat_minor": 0,
  "metadata": {
    "colab": {
      "name": "python_3_Operadores.ipynb",
      "provenance": [],
      "collapsed_sections": [],
      "authorship_tag": "ABX9TyMuBPgU7Y7EJd85c6ar+IvP",
      "include_colab_link": true
    },
    "kernelspec": {
      "name": "python3",
      "display_name": "Python 3"
    },
    "language_info": {
      "name": "python"
    }
  },
  "cells": [
    {
      "cell_type": "markdown",
      "metadata": {
        "id": "view-in-github",
        "colab_type": "text"
      },
      "source": [
        "<a href=\"https://colab.research.google.com/github/carrkarr/python_ini/blob/main/python_3_Operadores.ipynb\" target=\"_parent\"><img src=\"https://colab.research.google.com/assets/colab-badge.svg\" alt=\"Open In Colab\"/></a>"
      ]
    },
    {
      "cell_type": "markdown",
      "source": [
        "***Operadores en Python***\n",
        "\n",
        "Los operadores son símbolos reservados por el propio lenguaje que se utilizan para llevar a cabo operaciones sobre uno, dos o más elementos llamados operandos. Los operandos pueden ser variables, literales, el valor devuelto por una expresión o el valor devuelto por una función.\n",
        "\n",
        "El ejemplo más típico que siempre viene a la mente es **el operador suma, +,** que se utiliza para obtener la suma aritmética de dos valores:\n",
        "\n",
        "9 + 1  # 9 y 1 son los operandos\n",
        "10  # 10 es el resultado\n",
        "\n",
        "En este tutorial entraremos más en detalle sobre los distintos tipos de operadores disponibles en Python.\n",
        "\n",
        "\n",
        "***Operador de concatenación de cadenas de caracteres***\n",
        "\n",
        "Una de las operaciones más básicas cuando se trabaja con cadenas de caracteres es la concatenación. Esto consiste en unir dos cadenas en una sola, siendo el resultado un nuevo string.\n",
        "\n",
        "La forma más simple de concatenar dos cadenas en Python es utilizando **el operador de concatenación +:**"
      ],
      "metadata": {
        "id": "vs2XNaOWNR9y"
      }
    },
    {
      "cell_type": "code",
      "source": [
        "hola = 'Hola'\n",
        "mundo = 'Mundo'\n",
        "hola_mundo = hola + ' ' + mundo  # concatenamos 3 strings\n",
        "print(hola_mundo)"
      ],
      "metadata": {
        "colab": {
          "base_uri": "https://localhost:8080/"
        },
        "id": "bCnNFNvFOE4z",
        "outputId": "99168b54-ef14-4a22-8151-0d7787033e77"
      },
      "execution_count": 1,
      "outputs": [
        {
          "output_type": "stream",
          "name": "stdout",
          "text": [
            "Hola Mundo\n"
          ]
        }
      ]
    },
    {
      "cell_type": "markdown",
      "source": [
        "***Operadores lógicos o booleanos***\n",
        "\n",
        "A la hora de operar con valores booleanos, tenemos a nuestra disposición los operadores and, or y not.\n",
        "\n",
        "❗️ IMPORTANTE: Las operaciones and, or y not realmente no devuelven True o False, sino que devuelven uno de los operandos como veremos en el cuadro de abajo.\n",
        "\n",
        "A continuación te muestro cómo funcionan los operadores booleanos (en orden de preferencia ascendente):\n",
        "\n",
        "\n",
        "\n",
        "```\n",
        "Operación\tResultado\tDescripción\n",
        "a or b\t  Si a se evalúa a falso, entonces devuelve b, \n",
        "            si no devuelve a\tSolo se evalúa el segundo operando si \n",
        "            el primero es falso\n",
        "a and b\t Si a se evalúa a falso, entonces devuelve a, si no \n",
        "            devuelve b\tSolo se evalúa el segundo operando si el \n",
        "            primero es verdadero\n",
        "not a\t   Si a se evalúa a falso, entonces devuelve True, si no \n",
        "            devuelve False\tTiene menos prioridad que otros \n",
        "            operadores no booleanos\n",
        "```\n",
        "\n",
        "Ejemplos:"
      ],
      "metadata": {
        "id": "OXC20aZDROtN"
      }
    },
    {
      "cell_type": "code",
      "source": [
        "a = False\n",
        "b = True\n",
        "\n",
        "print (a or b)\n",
        "\n",
        "a = True\n",
        "b = False\n",
        "\n",
        "print (a or b)\n",
        "\n",
        "a = False\n",
        "b = False\n",
        "\n",
        "print (a or b)\n",
        "\n",
        "a = True\n",
        "b = True\n",
        "\n",
        "print (a or b)\n",
        "\n",
        "# Observe como (a or b) es False si ambas variables son False\n"
      ],
      "metadata": {
        "colab": {
          "base_uri": "https://localhost:8080/"
        },
        "id": "bYoeCSz9Up4l",
        "outputId": "d4cf6eb6-31d1-4958-8834-55a0f8d7768b"
      },
      "execution_count": 8,
      "outputs": [
        {
          "output_type": "stream",
          "name": "stdout",
          "text": [
            "True\n",
            "True\n",
            "False\n",
            "True\n"
          ]
        }
      ]
    },
    {
      "cell_type": "code",
      "source": [
        "a = False\n",
        "b = True\n",
        "\n",
        "print (a and b)\n",
        "\n",
        "a = True\n",
        "b = False\n",
        "\n",
        "print (a and b)\n",
        "\n",
        "a = False\n",
        "b = False\n",
        "\n",
        "print (a and b)\n",
        "\n",
        "a = True\n",
        "b = True\n",
        "\n",
        "print (a and b)\n",
        "\n",
        "# Observe como (a and b) es True si ambas variables son True\n"
      ],
      "metadata": {
        "colab": {
          "base_uri": "https://localhost:8080/"
        },
        "id": "zEpYMXaqWze4",
        "outputId": "ad007a3e-0df4-4087-ad4e-577a2e77b434"
      },
      "execution_count": 9,
      "outputs": [
        {
          "output_type": "stream",
          "name": "stdout",
          "text": [
            "False\n",
            "False\n",
            "False\n",
            "True\n"
          ]
        }
      ]
    },
    {
      "cell_type": "code",
      "source": [
        "a = True\n",
        "print (not a)\n",
        "\n",
        "a = False\n",
        "print (not a)\n",
        "\n",
        "# Observa como el (not a) nos da el valor contrario"
      ],
      "metadata": {
        "colab": {
          "base_uri": "https://localhost:8080/"
        },
        "id": "VY5HhD4JXDfs",
        "outputId": "5379a4df-6108-4ca9-c9b6-7d9594e29691"
      },
      "execution_count": 12,
      "outputs": [
        {
          "output_type": "stream",
          "name": "stdout",
          "text": [
            "False\n",
            "True\n"
          ]
        }
      ]
    },
    {
      "cell_type": "code",
      "source": [
        "a = 9\n",
        "b = 10\n",
        "\n",
        "print (a or b)\n",
        "\n",
        "a = 0\n",
        "b = 10\n",
        "\n",
        "print (a or b)\n",
        "\n",
        "a = 9\n",
        "b = 0\n",
        "\n",
        "print (a or b)\n",
        "\n",
        "# Observe que imprime a solo si a <> 0,\n",
        "# Cuando a = 0 imprime b\n",
        "\n",
        "\n"
      ],
      "metadata": {
        "colab": {
          "base_uri": "https://localhost:8080/"
        },
        "id": "yFqMA4v0bQMU",
        "outputId": "edc56d9c-bc83-4c7f-c9f7-6014195ed3de"
      },
      "execution_count": 25,
      "outputs": [
        {
          "output_type": "stream",
          "name": "stdout",
          "text": [
            "9\n",
            "10\n",
            "9\n"
          ]
        }
      ]
    },
    {
      "cell_type": "markdown",
      "source": [
        "***Operadores de comparación***\n",
        "\n",
        "Los operadores de comparación se utilizan, como su nombre indica, para comparar dos o más valores. El resultado de estos operadores siempre es True o False.\n",
        "\n",
        "```\n",
        ">\t Mayor que. True si el operando de la izquierda es estrictamente mayor que el de la derecha; False en caso contrario.\n",
        ">=\tMayor o igual que. True si el operando de la izquierda es mayor o igual que el de la derecha; False en caso contrario.\n",
        "<\t Menor que. True si el operando de la izquierda es estrictamente menor que el de la derecha; False en caso contrario.\n",
        "<=\tMenor o igual que. True si el operando de la izquierda es menor o igual que el de la derecha; False en caso contrario.\n",
        "==\tIgual. True si el operando de la izquierda es igual que el de la derecha; False en caso contrario.\n",
        "!=\tDistinto. True si los operandos son distintos; False en caso contrario.\n",
        "\n",
        "```"
      ],
      "metadata": {
        "id": "nU5mZyrgyNgg"
      }
    },
    {
      "cell_type": "code",
      "source": [
        "a = 3\n",
        "b = 6\n",
        "if a > b:\n",
        "   print (\" a es mayor que b\")\n",
        "else:\n",
        "  print (\" a es menor que b\")\n",
        "\n",
        "if a < b:\n",
        "   print (\" a es menor que b\")\n",
        "else:\n",
        "  print (\" a es mayor que b\")\n",
        "\n",
        "\n",
        "if a == b:\n",
        "   print (\" a es igual que b\")\n",
        "else:\n",
        "  print (\" a es no es igual que b\")\n",
        "\n",
        "if a != b:\n",
        "   print (\" a es distinto que b\")\n",
        "else:\n",
        "  print (\" a es igual que b\")\n",
        "\n",
        "\n",
        "\n",
        "a = 6\n",
        "b = 6\n",
        "\n",
        "if a == b:\n",
        "   print (\" a es igual que b\")\n",
        "else:\n",
        "  print (\" a es no es igual que b\")\n",
        "\n",
        "if a != b:\n",
        "   print (\" a es distinto que b\")\n",
        "else:\n",
        "  print (\" a no es distinto de b, es igual que b\")\n"
      ],
      "metadata": {
        "colab": {
          "base_uri": "https://localhost:8080/"
        },
        "id": "W5wps3vJy44y",
        "outputId": "b8b8eb7f-0019-4c56-a392-32cd24ad83a9"
      },
      "execution_count": 8,
      "outputs": [
        {
          "output_type": "stream",
          "name": "stdout",
          "text": [
            " a es menor que b\n",
            " a es menor que b\n",
            " a es no es igual que b\n",
            " a es distinto que b\n",
            " a es igual que b\n",
            " a es igual que b\n"
          ]
        }
      ]
    },
    {
      "cell_type": "markdown",
      "source": [
        "Operadores aritméticos en Python\n",
        "\n",
        "En cuanto a los operadores aritméticos, estos permiten realizar las diferentes operaciones aritméticas del álgebra: suma, resta, producto, división, … Estos operadores Python son de los más utilizados. El listado completo es el siguiente:"
      ],
      "metadata": {
        "id": "tz19Xs6xALhc"
      }
    },
    {
      "cell_type": "code",
      "source": [
        "print (2 + 2)\n",
        "print ((2 + 2 )* 5 - 3)\n",
        "print ((2 + 2 )* 5 / 3)\n",
        "print(1 + 2 + 3 + 4.0 + 5) # Imprme un flotante \n",
        "print (2**3) # es 2 elevado al cubo\n",
        "print (8**(1/3)) # 8 elevado a la 1/3 o lo que es lo mismo raíz cúbica de 8\n",
        "print (9**(1/2)) # 9 elevado a la 1/2 o lo que es lo mismo raíz cuadrada de 9\n",
        "print( 20 // 6 )  # Imprime el cociente de la división  3\n",
        "print( 20 %  6 )  # Imprime el residuo de la división   2\n",
        "print(1.25 // 0.5) # Obtiene el cociente entero de dividir el operando de la izquierda por el de la derecha.\n",
        "print(1.25 % 0.5) # Operador módulo. Obtiene el resto de dividir el operando de la izquierda por el de la derecha."
      ],
      "metadata": {
        "colab": {
          "base_uri": "https://localhost:8080/"
        },
        "id": "JN73vclzC7ph",
        "outputId": "f0458bab-2912-48c8-8391-4851930065ce"
      },
      "execution_count": 9,
      "outputs": [
        {
          "output_type": "stream",
          "name": "stdout",
          "text": [
            "4\n",
            "17\n",
            "6.666666666666667\n",
            "15.0\n",
            "8\n",
            "2.0\n",
            "3.0\n",
            "3\n",
            "2\n",
            "2.0\n",
            "0.25\n"
          ]
        }
      ]
    },
    {
      "cell_type": "markdown",
      "source": [
        "***Operadores a nivel de bits***\n",
        "\n",
        "Los operadores a nivel de bits actúan sobre los operandos como si fueran una cadena de dígitos binarios. Como su nombre indica, actúan sobre los operandos bit a bit. Son los siguientes:\n",
        "\n",
        "```\n",
        "Operación\tDescripción\n",
        "x | y    \tor bit a bit de x e y.\n",
        "x ^ y\t    or exclusivo bit a bit de x e y.\n",
        "x & y\t    and bit a bit de x e y.\n",
        "x << n\t   Desplaza x n bits a la izquierda.\n",
        "x >> n\t   Desplaza x n bits a la derecha.\n",
        "~x\tnot x. Obtiene los bits de x invertidos.\n",
        "\n",
        "Supongamos que tenemos el entero 2 (en bits es 00010) y el entero 7 (00111). \n",
        "El resultado de aplicar las operaciones anteriores es:\n",
        "\n",
        "```"
      ],
      "metadata": {
        "id": "M6Wxtlr6EGTW"
      }
    },
    {
      "cell_type": "code",
      "source": [
        "x = 2\n",
        "y = 7\n",
        "print ('x | y = ' , x | y )\n",
        "print ('x ^ y = ' , x ^ y )\n",
        "print ('x & y = ' , x & y )\n",
        "print ('x << 1 = ',  x << 1 )\n",
        "print ('x >> 1 = ', x >> 1 )\n",
        "print (' ~x = ', ~x )\n"
      ],
      "metadata": {
        "colab": {
          "base_uri": "https://localhost:8080/"
        },
        "id": "UNeFH-5nEfzz",
        "outputId": "05f3d881-8406-42c2-d690-754869c4e1b8"
      },
      "execution_count": 13,
      "outputs": [
        {
          "output_type": "stream",
          "name": "stdout",
          "text": [
            "x | y =  7\n",
            "x ^ y =  5\n",
            "x & y =  2\n",
            "x << 1 =  4\n",
            "x >> 1 =  1\n",
            " ~x =  -3\n"
          ]
        }
      ]
    },
    {
      "cell_type": "markdown",
      "source": [
        "***Operadores de asignación  compuesto.***\n",
        "\n",
        "El operador de asignación se utiliza para asignar un valor a una variable. Este operador es el signo =.\n",
        "\n",
        "Además del operador de asignación, existen otros operadores de asignación compuestos que realizan una operación básica sobre la variable a la que se le asigna el valor.\n",
        "\n",
        "Por ejemplo, x += 1 es lo mismo que x = x + 1. Los operadores compuestos realizan la operación que hay antes del signo igual, tomando como operandos la propia variable y el valor a la derecha del signo igual.\n",
        "\n",
        "A continuación, aparece la lista de todos los operadores de asignación compuestos:\n",
        "\n",
        "```\n",
        "Operador\tEjemplo\tEquivalencia\n",
        "+=\t      x += 2\tx = x + 2\n",
        "-=\t      x -= 2\tx = x – 2\n",
        "*=\t      x *= 2\tx = x * 2\n",
        "/=      \tx /= 2\tx = x / 2\n",
        "%=\t      x %= 2\tx = x % 2\n",
        "//=\t     x //= 2   x = x // 2\n",
        "**=\t     x **= 2   x = x ** 2\n",
        "&=      \tx &= 2\tx = x & 2\n",
        "|=\t      x |= 2\tx = x | 2\n",
        "^=\t      x ^= 2\tx = x ^ 2\n",
        ">>=\t     x >>= 2   x = x >> 2\n",
        "<<=\t     x <<= 2  x = x << 2\n",
        "\n",
        "```\n",
        "\n"
      ],
      "metadata": {
        "id": "pFGG-7_Z-vPF"
      }
    },
    {
      "cell_type": "code",
      "source": [
        "x = 2\n",
        "x += 2\n",
        "print ('x += 2 ', x)\n",
        "\n",
        "x = 2\n",
        "x -= 2\n",
        "print ('x -= 2 ', x)\n",
        "\n",
        "x = 2\n",
        "x *= 2\n",
        "print ('x *= 2 ', x)\n",
        "\n",
        "x = 2\n",
        "x /= 2\n",
        "print ('x /= 2 ', x)\n",
        "\n",
        "x = 2\n",
        "x %= 2\n",
        "print ('x %= 2 ', x)\n",
        "\n",
        "x  = 2\n",
        "x //= 2\n",
        "print ('x //= 2 ', x)\n",
        "\n",
        "x  = 2\n",
        "x **= 2\n",
        "print ('x **= 2 ', x)\n",
        "\n",
        "x  = 3\n",
        "x **= 3\n",
        "print ('x **= 3 ', x)\n",
        "\n",
        "x  = 2\n",
        "x &= 2\n",
        "print ('x &= 2 ', x)\n",
        "\n",
        "x  = 3\n",
        "x &= 3\n",
        "print ('x &= 3 ', x)\n",
        "\n",
        "x  = 2\n",
        "x |= 2\n",
        "print ('x |= 2 ', x)\n",
        "\n",
        "x  = 3\n",
        "x |= 3\n",
        "print ('x |= 3 ', x)\n",
        "\n",
        "x  = 2\n",
        "x ^= 2\n",
        "print ('x ^= 2 ', x)\n",
        "\n",
        "x  = 3\n",
        "x ^= 3\n",
        "print ('x ^= 3 ', x)\n",
        "\n",
        "a = 60            # 60 = 0011 1100 \n",
        "b = 13            # 13 = 0000 1101 \n",
        "c = 0\n",
        "\n",
        "c = a & b;        # 12 = 0000 1100\n",
        "print (\"1 - c ：\", c)\n",
        "\n",
        "c = a | b;        # 61 = 0011 1101 \n",
        "print (\"2 - c ：\", c)\n",
        "\n",
        "c = a ^ b;        # 49 = 0011 0001\n",
        "print (\"3 - c ：\", c)\n",
        "\n",
        "c = ~a;           # -61 = 1100 0011\n",
        "print (\"4 - c ：\", c)\n",
        "\n",
        "c = a << 2;       # 240 = 1111 0000\n",
        "print (\"5 - c ：\", c)\n",
        "\n",
        "c = a >> 2;       # 15 = 0000 1111\n",
        "print (\"6 - c ：\", c)"
      ],
      "metadata": {
        "colab": {
          "base_uri": "https://localhost:8080/"
        },
        "id": "FwB3ClJs_rFa",
        "outputId": "f4e1c7fc-dc95-4188-d9e0-674e309ab922"
      },
      "execution_count": 33,
      "outputs": [
        {
          "output_type": "stream",
          "name": "stdout",
          "text": [
            "x += 2  4\n",
            "x -= 2  0\n",
            "x *= 2  4\n",
            "x /= 2  1.0\n",
            "x %= 2  0\n",
            "x //= 2  1\n",
            "x **= 2  4\n",
            "x **= 3  27\n",
            "x &= 2  2\n",
            "x &= 3  3\n",
            "x |= 2  2\n",
            "x |= 3  3\n",
            "x ^= 2  0\n",
            "x ^= 3  0\n",
            "1 - c ： 12\n",
            "2 - c ： 61\n",
            "3 - c ： 49\n",
            "4 - c ： -61\n",
            "5 - c ： 240\n",
            "6 - c ： 15\n"
          ]
        }
      ]
    },
    {
      "cell_type": "markdown",
      "source": [
        "***Operadores de pertenencia***\n",
        "\n",
        "Los operadores de pertenencia se utilizan para comprobar si un valor o variable se encuentran en una secuencia **(list, tuple, dict, set o str)**.\n",
        "\n",
        "Estos tipos se verán a detalle más adelante, son operadores muy utilizados.\n",
        "\n",
        "```\n",
        "Operador\tDescripción\n",
        "in          Devuelve True si el valor se encuentra en una secuencia; \n",
        "            False en caso contrario.\n",
        "\n",
        "not in  \tDevuelve True si el valor no se encuentra en una secuencia; \n",
        "            False en caso contrario.\n",
        "```\n",
        "A continuación vemos unos ejemplos que son muy intuitivos:"
      ],
      "metadata": {
        "id": "4E583AyyEQxr"
      }
    },
    {
      "cell_type": "code",
      "source": [
        "lista = [1, 3, 2, 7, 9, 8, 6]\n",
        "print (4 in lista)\n",
        "print (3 in lista)\n",
        "print (4 not in lista)\n"
      ],
      "metadata": {
        "colab": {
          "base_uri": "https://localhost:8080/"
        },
        "id": "vU2t2eWaFhy9",
        "outputId": "42956394-dbe1-4d4a-e6fc-d327f55969cc"
      },
      "execution_count": 24,
      "outputs": [
        {
          "output_type": "stream",
          "name": "stdout",
          "text": [
            "False\n",
            "True\n",
            "True\n"
          ]
        }
      ]
    },
    {
      "cell_type": "markdown",
      "source": [
        "***Operadores de identidad***\n",
        "\n",
        "Por último, los operadores de identidad se utilizan para comprobar si dos variables son, o no, el mismo objeto.\n",
        "\n",
        "\n",
        "\n",
        "```\n",
        "Operador\tDescripción\n",
        "\n",
        "is      \tDevuelve True si ambos operandos hacen referencia al mismo objeto; \n",
        "            False en caso contrario.\n",
        "\n",
        "is not\t  Devuelve True si ambos operandos no hacen referencia al mismo objeto; \n",
        "            False en caso contrario.\n",
        "```\n",
        "\n",
        "❗️ Recuerda: Para conocer la identidad de un objeto se usa la función id()."
      ],
      "metadata": {
        "id": "hOuOJF_gKocl"
      }
    },
    {
      "cell_type": "code",
      "source": [
        "x = 4\n",
        "y = 2\n",
        "lista = [1, 5]\n",
        "\n",
        "print (id(4))\n",
        "print (id(x))\n",
        "print (id(y))\n",
        "print (id(lista))\n",
        "\n",
        "print (x is lista)\n",
        "print (x is y)\n",
        "print (x is 4)\n",
        "\n"
      ],
      "metadata": {
        "colab": {
          "base_uri": "https://localhost:8080/"
        },
        "id": "dnLaeXG_LX6j",
        "outputId": "a6c4f8e4-710b-4122-8ede-a7e0547671d7"
      },
      "execution_count": 28,
      "outputs": [
        {
          "output_type": "stream",
          "name": "stdout",
          "text": [
            "93892028901984\n",
            "93892028901984\n",
            "93892028901920\n",
            "139663394974528\n",
            "False\n",
            "False\n",
            "True\n"
          ]
        }
      ]
    },
    {
      "cell_type": "markdown",
      "source": [
        "***Prioridad de los operadores en Python***\n",
        "\n",
        "Al igual que ocurre en las matemáticas, los operadores en Python tienen un orden de prioridad. Este orden es el siguiente, de menos prioritario a más prioritario: asignación; operadores booleanos; operadores de comparación, identidad y pertenencia; a nivel de bits y finalmente los aritméticos (con el mismo orden de prioridad que en las matemáticas).\n",
        "\n",
        "Este orden de prioridad se puede alterar con el uso de los paréntesis ():"
      ],
      "metadata": {
        "id": "KhuazC4LVlbr"
      }
    },
    {
      "cell_type": "code",
      "source": [
        "x = 5\n",
        "y = 2\n",
        "z = x + 3 * y  # El producto tiene prioridad sobre la suma\n",
        "print (z)\n",
        "\n",
        "z = (x + 3) * y  # Los paréntesis tienen prioridad\n",
        "print (z)\n"
      ],
      "metadata": {
        "colab": {
          "base_uri": "https://localhost:8080/"
        },
        "id": "mIeLBIQXVs2A",
        "outputId": "55b35c03-60d3-4ea1-bfe7-7a189821f19e"
      },
      "execution_count": 31,
      "outputs": [
        {
          "output_type": "stream",
          "name": "stdout",
          "text": [
            "11\n",
            "16\n"
          ]
        }
      ]
    }
  ]
}