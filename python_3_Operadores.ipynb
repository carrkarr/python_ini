{
  "nbformat": 4,
  "nbformat_minor": 0,
  "metadata": {
    "colab": {
      "name": "python_3_Operadores.ipynb",
      "provenance": [],
      "collapsed_sections": [],
      "authorship_tag": "ABX9TyOg92TZNxvZw9+Br9J6oX82",
      "include_colab_link": true
    },
    "kernelspec": {
      "name": "python3",
      "display_name": "Python 3"
    },
    "language_info": {
      "name": "python"
    }
  },
  "cells": [
    {
      "cell_type": "markdown",
      "metadata": {
        "id": "view-in-github",
        "colab_type": "text"
      },
      "source": [
        "<a href=\"https://colab.research.google.com/github/carrkarr/python_ini/blob/main/python_3_Operadores.ipynb\" target=\"_parent\"><img src=\"https://colab.research.google.com/assets/colab-badge.svg\" alt=\"Open In Colab\"/></a>"
      ]
    },
    {
      "cell_type": "markdown",
      "source": [
        "***Operadores en Python***\n",
        "\n",
        "Los operadores son símbolos reservados por el propio lenguaje que se utilizan para llevar a cabo operaciones sobre uno, dos o más elementos llamados operandos. Los operandos pueden ser variables, literales, el valor devuelto por una expresión o el valor devuelto por una función.\n",
        "\n",
        "El ejemplo más típico que siempre viene a la mente es **el operador suma, +,** que se utiliza para obtener la suma aritmética de dos valores:\n",
        "\n",
        "9 + 1  # 9 y 1 son los operandos\n",
        "10  # 10 es el resultado\n",
        "\n",
        "En este tutorial entraremos más en detalle sobre los distintos tipos de operadores disponibles en Python.\n",
        "\n",
        "\n",
        "***Operador de concatenación de cadenas de caracteres***\n",
        "\n",
        "Una de las operaciones más básicas cuando se trabaja con cadenas de caracteres es la concatenación. Esto consiste en unir dos cadenas en una sola, siendo el resultado un nuevo string.\n",
        "\n",
        "La forma más simple de concatenar dos cadenas en Python es utilizando **el operador de concatenación +:**"
      ],
      "metadata": {
        "id": "vs2XNaOWNR9y"
      }
    },
    {
      "cell_type": "code",
      "source": [
        "hola = 'Hola'\n",
        "mundo = 'Mundo'\n",
        "hola_mundo = hola + ' ' + mundo  # concatenamos 3 strings\n",
        "print(hola_mundo)"
      ],
      "metadata": {
        "colab": {
          "base_uri": "https://localhost:8080/"
        },
        "id": "bCnNFNvFOE4z",
        "outputId": "99168b54-ef14-4a22-8151-0d7787033e77"
      },
      "execution_count": 1,
      "outputs": [
        {
          "output_type": "stream",
          "name": "stdout",
          "text": [
            "Hola Mundo\n"
          ]
        }
      ]
    },
    {
      "cell_type": "markdown",
      "source": [
        "***Operadores lógicos o booleanos***\n",
        "\n",
        "A la hora de operar con valores booleanos, tenemos a nuestra disposición los operadores and, or y not.\n",
        "\n",
        "❗️ IMPORTANTE: Las operaciones and, or y not realmente no devuelven True o False, sino que devuelven uno de los operandos como veremos en el cuadro de abajo.\n",
        "\n",
        "A continuación te muestro cómo funcionan los operadores booleanos (en orden de preferencia ascendente):\n",
        "\n",
        "\n",
        "\n",
        "```\n",
        "Operación\tResultado\tDescripción\n",
        "a or b\t  Si a se evalúa a falso, entonces devuelve b, \n",
        "            si no devuelve a\tSolo se evalúa el segundo operando si \n",
        "            el primero es falso\n",
        "a and b\t Si a se evalúa a falso, entonces devuelve a, si no \n",
        "            devuelve b\tSolo se evalúa el segundo operando si el \n",
        "            primero es verdadero\n",
        "not a\t   Si a se evalúa a falso, entonces devuelve True, si no \n",
        "            devuelve False\tTiene menos prioridad que otros \n",
        "            operadores no booleanos\n",
        "```\n",
        "\n",
        "Ejemplos:"
      ],
      "metadata": {
        "id": "OXC20aZDROtN"
      }
    },
    {
      "cell_type": "code",
      "source": [
        "a = False\n",
        "b = True\n",
        "\n",
        "print (a or b)\n",
        "\n",
        "a = True\n",
        "b = False\n",
        "\n",
        "print (a or b)\n",
        "\n",
        "a = False\n",
        "b = False\n",
        "\n",
        "print (a or b)\n",
        "\n",
        "a = True\n",
        "b = True\n",
        "\n",
        "print (a or b)\n",
        "\n",
        "# Observe como (a or b) es False si ambas variables son False\n"
      ],
      "metadata": {
        "colab": {
          "base_uri": "https://localhost:8080/"
        },
        "id": "bYoeCSz9Up4l",
        "outputId": "d4cf6eb6-31d1-4958-8834-55a0f8d7768b"
      },
      "execution_count": 8,
      "outputs": [
        {
          "output_type": "stream",
          "name": "stdout",
          "text": [
            "True\n",
            "True\n",
            "False\n",
            "True\n"
          ]
        }
      ]
    },
    {
      "cell_type": "code",
      "source": [
        "a = False\n",
        "b = True\n",
        "\n",
        "print (a and b)\n",
        "\n",
        "a = True\n",
        "b = False\n",
        "\n",
        "print (a and b)\n",
        "\n",
        "a = False\n",
        "b = False\n",
        "\n",
        "print (a and b)\n",
        "\n",
        "a = True\n",
        "b = True\n",
        "\n",
        "print (a and b)\n",
        "\n",
        "# Observe como (a and b) es True si ambas variables son True\n"
      ],
      "metadata": {
        "colab": {
          "base_uri": "https://localhost:8080/"
        },
        "id": "zEpYMXaqWze4",
        "outputId": "ad007a3e-0df4-4087-ad4e-577a2e77b434"
      },
      "execution_count": 9,
      "outputs": [
        {
          "output_type": "stream",
          "name": "stdout",
          "text": [
            "False\n",
            "False\n",
            "False\n",
            "True\n"
          ]
        }
      ]
    },
    {
      "cell_type": "code",
      "source": [
        "a = True\n",
        "print (not a)\n",
        "\n",
        "a = False\n",
        "print (not a)\n",
        "\n",
        "# Observa como el (not a) nos da el valor contrario"
      ],
      "metadata": {
        "colab": {
          "base_uri": "https://localhost:8080/"
        },
        "id": "VY5HhD4JXDfs",
        "outputId": "5379a4df-6108-4ca9-c9b6-7d9594e29691"
      },
      "execution_count": 12,
      "outputs": [
        {
          "output_type": "stream",
          "name": "stdout",
          "text": [
            "False\n",
            "True\n"
          ]
        }
      ]
    },
    {
      "cell_type": "code",
      "source": [
        "a = 9\n",
        "b = 10\n",
        "\n",
        "print (a or b)\n",
        "\n",
        "a = 0\n",
        "b = 10\n",
        "\n",
        "print (a or b)\n",
        "\n",
        "a = 9\n",
        "b = 0\n",
        "\n",
        "print (a or b)\n",
        "\n",
        "# Observe que imprime a solo si a <> 0,\n",
        "# Cuando a = 0 imprime b\n",
        "\n",
        "\n"
      ],
      "metadata": {
        "colab": {
          "base_uri": "https://localhost:8080/"
        },
        "id": "yFqMA4v0bQMU",
        "outputId": "edc56d9c-bc83-4c7f-c9f7-6014195ed3de"
      },
      "execution_count": 25,
      "outputs": [
        {
          "output_type": "stream",
          "name": "stdout",
          "text": [
            "9\n",
            "10\n",
            "9\n"
          ]
        }
      ]
    }
  ]
}