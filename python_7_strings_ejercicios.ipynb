{
  "nbformat": 4,
  "nbformat_minor": 0,
  "metadata": {
    "colab": {
      "name": "python_7_strings_ejercicios.ipynb",
      "provenance": [],
      "collapsed_sections": [],
      "authorship_tag": "ABX9TyOUGek3MMR1dv+41OPSJoMT",
      "include_colab_link": true
    },
    "kernelspec": {
      "name": "python3",
      "display_name": "Python 3"
    },
    "language_info": {
      "name": "python"
    }
  },
  "cells": [
    {
      "cell_type": "markdown",
      "metadata": {
        "id": "view-in-github",
        "colab_type": "text"
      },
      "source": [
        "<a href=\"https://colab.research.google.com/github/carrkarr/python_ini/blob/main/python_7_strings_ejercicios.ipynb\" target=\"_parent\"><img src=\"https://colab.research.google.com/assets/colab-badge.svg\" alt=\"Open In Colab\"/></a>"
      ]
    },
    {
      "cell_type": "code",
      "execution_count": null,
      "metadata": {
        "colab": {
          "base_uri": "https://localhost:8080/"
        },
        "id": "gpqktICDOUDy",
        "outputId": "e37990c2-0274-48c8-fc99-2af5e013c746"
      },
      "outputs": [
        {
          "output_type": "stream",
          "name": "stdout",
          "text": [
            "Numbers: 4 5 6\n",
            "5, 12\n",
            "spam, eggs, ham\n",
            "Hello world\n",
            "True\n",
            "True\n",
            "THIS IS A SENTENCE.\n",
            "an all caps sentence\n",
            "['spam', 'eggs', 'ham']\n"
          ]
        }
      ],
      "source": [
        "# string formatting\n",
        "nums = [4, 5, 6]\n",
        "msg = \"Numbers: {0} {1} {2}\". format(nums[0], nums[1], nums[2])\n",
        "print(msg)\n",
        "\n",
        "a = \"{x}, {y}\".format(x=5, y=12)\n",
        "print(a)\n",
        "\n",
        "\n",
        "print(\", \".join([\"spam\", \"eggs\", \"ham\"]))\n",
        "#prints \"spam, eggs, ham\"\n",
        "\n",
        "print(\"Hello ME\".replace(\"ME\", \"world\"))\n",
        "#prints \"Hello world\"\n",
        "\n",
        "print(\"This is a sentence.\".startswith(\"This\"))\n",
        "# prints \"True\"\n",
        "\n",
        "print(\"This is a sentence.\".endswith(\"sentence.\"))\n",
        "# prints \"True\"\n",
        "\n",
        "print(\"This is a sentence.\".upper())\n",
        "# prints \"THIS IS A SENTENCE.\"\n",
        "\n",
        "print(\"AN ALL CAPS SENTENCE\".lower())\n",
        "#prints \"an all caps sentence\"\n",
        "\n",
        "print(\"spam, eggs, ham\".split(\", \"))\n",
        "#prints \"['spam', 'eggs', 'ham']\"\n"
      ]
    },
    {
      "cell_type": "code",
      "source": [
        "import re\n",
        "\n",
        "pattern = r\"spam\" # r representa una cadena sin procesar\n",
        "\n",
        "if re.match(pattern, \"spamspamspam\"):\n",
        "   print(\"Match\")\n",
        "else:\n",
        "   print(\"No match\")"
      ],
      "metadata": {
        "id": "izWDDuTPP9XM",
        "colab": {
          "base_uri": "https://localhost:8080/"
        },
        "outputId": "1c92df13-416e-4a49-fd5d-cc31b70e2700"
      },
      "execution_count": null,
      "outputs": [
        {
          "output_type": "stream",
          "name": "stdout",
          "text": [
            "Match\n"
          ]
        }
      ]
    },
    {
      "cell_type": "code",
      "source": [
        "\"\"\"\n",
        "Otras funciones para combinar patrones son re.search y re.findall.\n",
        "La función re.search encuentra una coincidencia de un patrón en cualquier parte de la cadena.\n",
        "La función re.findall devuelve una lista de todas las subcadenas que coinciden con un patrón.\n",
        "\"\"\"\n",
        "\n",
        "import re\n",
        "\n",
        "pattern = r\"spam\"\n",
        "\n",
        "if re.match(pattern, \"eggspamsausagespam\"):\n",
        "    print(\"Match con match\")\n",
        "else:\n",
        "    print(\"No match\") # No match por que toma el inicio del string\n",
        "\n",
        "print(re.findall(pattern, \"eggspamsausagespam\"))\n",
        "print(re.finditer(pattern, \"eggspamsausagespam\")) \n",
        "print(list (re.finditer(pattern, \"eggspamsausagespam\")))\n"
      ],
      "metadata": {
        "colab": {
          "base_uri": "https://localhost:8080/"
        },
        "id": "w1casfkgfdH4",
        "outputId": "c32db7cf-1274-4d98-b763-cd2b498fe132"
      },
      "execution_count": null,
      "outputs": [
        {
          "output_type": "stream",
          "name": "stdout",
          "text": [
            "No match\n",
            "Match con search\n",
            "<re.Match object; span=(3, 7), match='spam'>\n",
            "spam\n",
            "3\n",
            "7\n",
            "(3, 7)\n",
            "['spam', 'spam']\n",
            "<callable_iterator object at 0x7f0221a35f50>\n",
            "[<re.Match object; span=(3, 7), match='spam'>, <re.Match object; span=(14, 18), match='spam'>]\n",
            "<re.Match object; span=(3, 7), match='spam'>\n",
            "<re.Match object; span=(14, 18), match='spam'>\n",
            "spam\n",
            "3\n",
            "7\n",
            "(3, 7)\n",
            "spam\n",
            "14\n",
            "18\n",
            "(14, 18)\n"
          ]
        }
      ]
    },
    {
      "cell_type": "code",
      "source": [
        "import re\n",
        "\n",
        "match = re.search(pattern, \"eggspamsausagespam\")\n",
        "\n",
        "if match:\n",
        "    print(\"Match con search\") # Match por que toma cualquier lugar del string\n",
        "    print(match)\n",
        "    print(match.group())\n",
        "    print(match.start())\n",
        "    print(match.end())\n",
        "    print(match.span())    \n",
        "else:\n",
        "    print(\"No match\")\n"
      ],
      "metadata": {
        "colab": {
          "base_uri": "https://localhost:8080/"
        },
        "id": "IbUf0LOigHn0",
        "outputId": "58daa767-a62b-4fa0-d08e-cc9acce670d8"
      },
      "execution_count": null,
      "outputs": [
        {
          "output_type": "stream",
          "name": "stdout",
          "text": [
            "Match con search\n",
            "<re.Match object; span=(3, 7), match='spam'>\n",
            "spam\n",
            "3\n",
            "7\n",
            "(3, 7)\n"
          ]
        }
      ]
    },
    {
      "cell_type": "code",
      "source": [
        "import re\n",
        "\n",
        "pattern = r\"spam\"\n",
        "\n",
        "print(re.findall(pattern, \"eggspamsausagespam\"))\n",
        "print(re.finditer(pattern, \"eggspamsausagespam\")) \n",
        "print(list (re.finditer(pattern, \"eggspamsausagespam\")))\n"
      ],
      "metadata": {
        "colab": {
          "base_uri": "https://localhost:8080/"
        },
        "id": "-okD3Dk4gR2u",
        "outputId": "2d29e0da-0098-4870-f553-3245cfd65738"
      },
      "execution_count": null,
      "outputs": [
        {
          "output_type": "stream",
          "name": "stdout",
          "text": [
            "['spam', 'spam']\n",
            "<callable_iterator object at 0x7f02207bd3d0>\n",
            "[<re.Match object; span=(3, 7), match='spam'>, <re.Match object; span=(14, 18), match='spam'>]\n"
          ]
        }
      ]
    },
    {
      "cell_type": "code",
      "source": [
        "import re\n",
        "\n",
        "pattern = r\"spam\"\n",
        "\n",
        "for i in re.finditer(pattern, \"eggspamsausagespam\"):\n",
        "    print (i)\n",
        "    \n",
        "for i in re.finditer(pattern, \"eggspamsausagespam\"):\n",
        "    print (i.group())\n",
        "    print(i.start())\n",
        "    print(i.end())\n",
        "    print(i.span())"
      ],
      "metadata": {
        "id": "VYbKn06MgoEO",
        "outputId": "09380b24-6c0c-42b7-a40c-bd8f8d204d8e",
        "colab": {
          "base_uri": "https://localhost:8080/"
        }
      },
      "execution_count": null,
      "outputs": [
        {
          "output_type": "stream",
          "name": "stdout",
          "text": [
            "<re.Match object; span=(3, 7), match='spam'>\n",
            "<re.Match object; span=(14, 18), match='spam'>\n",
            "spam\n",
            "3\n",
            "7\n",
            "(3, 7)\n",
            "spam\n",
            "14\n",
            "18\n",
            "(14, 18)\n"
          ]
        }
      ]
    },
    {
      "cell_type": "code",
      "source": [
        "\"\"\"\n",
        "Buscar y reemplazar\n",
        "\n",
        "Uno de los métodos re más importantes que usan expresiones regulares es sub.\n",
        "Sintaxis: re.sub (pattern, repl, string, cont = 0)\n",
        "Este método reemplaza todas las ocurrencias de pattern en el string con repl, sustituyendo todas las ocurrencias, \n",
        "a menos que se indique con cont el numero de ocurrencias determinado. Este método devuelve la cadena modificada.\n",
        "Ejemplo:\n",
        "\"\"\"\n",
        "\n",
        "import re\n",
        "\n",
        "str = \"My name is David. Hi David.\"\n",
        "pattern = r\"David\"\n",
        "newstr = re.sub(pattern, \"Amy\", str)\n",
        "print(newstr) # salida My name is Amy. Hi Amy.\n",
        "newstr = re.sub(pattern, \"Amy\", str, 1)\n",
        "print(newstr) # salida My name is Amy. Hi David.\n"
      ],
      "metadata": {
        "colab": {
          "base_uri": "https://localhost:8080/"
        },
        "id": "V0h9bCs0fmNi",
        "outputId": "5d5e3902-aaa8-4568-adee-f1e2beec5f16"
      },
      "execution_count": null,
      "outputs": [
        {
          "output_type": "stream",
          "name": "stdout",
          "text": [
            "My name is Amy. Hi Amy.\n",
            "My name is Amy. Hi David.\n"
          ]
        }
      ]
    }
  ]
}