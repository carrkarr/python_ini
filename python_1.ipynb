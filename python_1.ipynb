{
  "nbformat": 4,
  "nbformat_minor": 0,
  "metadata": {
    "colab": {
      "name": "python_1.ipynb",
      "provenance": [],
      "collapsed_sections": [],
      "authorship_tag": "ABX9TyPljdTtxEjPi1/YrlXsxYhb",
      "include_colab_link": true
    },
    "kernelspec": {
      "name": "python3",
      "display_name": "Python 3"
    },
    "language_info": {
      "name": "python"
    }
  },
  "cells": [
    {
      "cell_type": "markdown",
      "metadata": {
        "id": "view-in-github",
        "colab_type": "text"
      },
      "source": [
        "<a href=\"https://colab.research.google.com/github/carrkarr/python_ini/blob/main/python_1.ipynb\" target=\"_parent\"><img src=\"https://colab.research.google.com/assets/colab-badge.svg\" alt=\"Open In Colab\"/></a>"
      ]
    },
    {
      "cell_type": "code",
      "source": [
        "# -*- coding: utf-8 -*-"
      ],
      "metadata": {
        "id": "r_kSE3f0wwrN"
      },
      "execution_count": null,
      "outputs": []
    },
    {
      "cell_type": "markdown",
      "source": [
        "\"\"\"\"\n",
        "El intérprete y su entorno Codiﬁcación del código fuente Por default, \n",
        "los archivos fuente de Python son tratados como codificados en UTF-8 (# -*- coding: utf-8 -*-). \n",
        "En esa codificación, los caracteres de la mayoría de los lenguajes \n",
        "del mundo pueden ser usados simultáneamente en literales, identificadores \n",
        "y comentarios, a pesar de que la biblioteca estándar usa solamente \n",
        "caracteres ASCII para los identificadores, una convención que debería \n",
        "seguir cualquier código que sea portable. Para mostrar estos caracteres \n",
        "correctamente, tu editor debe reconocer que el archivo está en UTF-8 y \n",
        "usar una tipografía que soporte todos los careacteres del archivo. \n",
        "También es posible especificar una codificación distinta para los archivos \n",
        "fuente. Para hacer esto, poné una o más lineas de comentarios especiales \n",
        "luego de la linea del \n",
        "\"\"\""
      ],
      "metadata": {
        "id": "l07G6ddhwx0l"
      }
    },
    {
      "cell_type": "code",
      "source": [
        "#! para definir la codificación del archivo fuente: \n",
        "# -*- coding: encoding -*-"
      ],
      "metadata": {
        "id": "WyF7tZwaxFNI"
      },
      "execution_count": null,
      "outputs": []
    },
    {
      "cell_type": "markdown",
      "source": [
        "Con esa declaración, todo en el archivo fuente será tratado utilizando la \n",
        "codificación encoding en lugar de UTF-8. La lista de posibles codificaciones\n",
        "se puede encontrar en la Referencia de la Biblioteca de Python, en la \n",
        "sección sobre codecs. Por ejemplo, si tu editor no soporta la codificación \n",
        "UTF-8 e insiste en usar alguna otra, digamos Windows-1252, puedes escribir: "
      ],
      "metadata": {
        "id": "3qJx-Kr4xJ9r"
      }
    },
    {
      "cell_type": "code",
      "source": [
        "# -*- coding: cp-1252 -*-"
      ],
      "metadata": {
        "id": "LSiD1PmhxX_G"
      },
      "execution_count": null,
      "outputs": []
    },
    {
      "cell_type": "code",
      "source": [
        "# -*- coding: utf-8 -*-\n",
        "\"\"\"\n",
        "Para documentar un programa se utiliza triple comilla  como en el caso que lo estamos haciendo; \n",
        "para comentar varias lineas; no se debe de exagerar con la documentación en los programas; en este caso\n",
        "se exagerar por que es didáctico; otra forna de comentar es con con  un (#) para una sola linea\n",
        "\"\"\"\n",
        "# .....texto de comentario\n"
      ],
      "metadata": {
        "id": "T1raPDdSx1UC"
      },
      "execution_count": null,
      "outputs": []
    },
    {
      "cell_type": "code",
      "source": [
        "# -*- coding: utf-8 -*-\n",
        "\n",
        "# hagamos nuestro hola mundo\n",
        "print('Hola mundo')"
      ],
      "metadata": {
        "colab": {
          "base_uri": "https://localhost:8080/"
        },
        "id": "kqmypu0czS0x",
        "outputId": "16b39e97-9faa-4b20-a7d2-f7e3a83daef5"
      },
      "execution_count": null,
      "outputs": [
        {
          "output_type": "stream",
          "name": "stdout",
          "text": [
            "Hola mundo\n"
          ]
        }
      ]
    },
    {
      "cell_type": "code",
      "source": [
        "# Print con commilla simple, observe que se usa la \\ para no inteferir con la ' del print y del texto\n",
        "print('He\\'s not an angel. He\\'s a very naughty boy!')\n",
        "# Print con comilla doble, observe que  ya no s eutiliza la \\ ya que no interfiere con la comilla simple del texto \n",
        "print(\"He's not an angel. He's a very naughty boy!\")\n",
        "\n",
        "# Print con varias lineas, observe \\n para el salto de linea\n",
        "print('Hola Mundo.\\nEstoy probando el print\\ncon varias lineas')\n",
        "print(\"\"\" \n",
        "        Hola Mundo.\n",
        "        Estoy probando el print\n",
        "        con varias lineas. \n",
        "      \"\"\")\n",
        "# Print texto con con comillas \n",
        "print('Hola, \"Mundo\"')\n",
        "print(\"Hola, 'Mundo'\")\n",
        "print(\"Hola, \\\"Mundo\\\"\")\n",
        "print('Hola, \\'Mundo\\'')"
      ],
      "metadata": {
        "id": "Pm9ijnmsz1nc",
        "colab": {
          "base_uri": "https://localhost:8080/"
        },
        "outputId": "f437d335-19e9-44af-b1d2-20e2715212c3"
      },
      "execution_count": 6,
      "outputs": [
        {
          "output_type": "stream",
          "name": "stdout",
          "text": [
            "He's not an angel. He's a very naughty boy!\n",
            "He's not an angel. He's a very naughty boy!\n",
            "Hola Mundo.\n",
            "Estoy probando el print\n",
            "con varias lineas\n",
            " \n",
            "        Hola Mundo.\n",
            "        Estoy probando el print\n",
            "        con varias lineas. \n",
            "      \n",
            "Hola, \"Mundo\"\n",
            "Hola, 'Mundo'\n",
            "Hola, \"Mundo\"\n",
            "Hola, 'Mundo'\n"
          ]
        }
      ]
    },
    {
      "cell_type": "code",
      "source": [
        "print (2 + 2)\n",
        "print ((2 + 2 )* 5 - 3)\n",
        "print ((2 + 2 )* 5 / 3)\n",
        "print(1 + 2 + 3 + 4.0 + 5) # Imprme un flotante \n",
        "print (2**3) # es 2 elevado al cubo\n",
        "print (8**(1/3)) # 8 elevado a la 1/3 o lo que es lo mismo raíz cúbica de 8\n",
        "print (9**(1/2)) # 9 elevado a la 1/2 o lo que es lo mismo raíz cuadrada de 9\n",
        "print( 20 // 6 )  # Imprime el cociente de la división  3\n",
        "print( 20 %  6 )  # Imprime el residuo de la división   2\n",
        "print(1.25 // 0.5) \n",
        "print(1.25 % 0.5) "
      ],
      "metadata": {
        "id": "lUxOJO1z3s3Z"
      },
      "execution_count": null,
      "outputs": []
    },
    {
      "cell_type": "markdown",
      "source": [
        "***Variables en Python***\n",
        "\n",
        "---\n",
        "Las variables son uno de los dos componentes básicos de cualquier programa.\n",
        "\n",
        "En su esencia, un programa está compuesto por datos e instrucciones que manipulan esos datos. Normalmente, los datos se almacenan en memoria (memoria RAM) para que podamos acceder a ellos.\n",
        "\n",
        "Entonces, ¿qué es una variable? Una variable es una forma de identificar, de forma sencilla, un dato que se encuentra almacenado en la memoria del ordenador. Imagina que una variable es un contenedor en el que se almacena un dato, el cuál, puede cambiar durante el flujo del programa. Una variable nos permite acceder fácilmente a dicho dato para ser manipulado y transformado.\n",
        "\n",
        "Por otro lado, en Python se distingue entre objetos mutables y objetos inmutables:\n",
        "\n",
        "    Los objetos inmutables son objetos que no se pueden modificar. Por ejemplo, los números, las cadenas y las tuplas son objetos inmutables\n",
        "    Los objetos mutables son objetos que se pueden modificar. Por ejemplo, las listas y los diccionarios son objetos mutables.\n",
        "\n",
        "En el caso de los objetos inmutables (como los números) no hay mucha diferencia entre considerar la variable como una caja o como una etiqueta, pero en el caso de los objetos mutables (como las listas) pensar en las variables como cajas puede llevar a error.\n",
        "\n",
        "\n",
        "Por ejemplo, supongamos que queremos mostrar el resultado de sumar 1 + 2. Para mostrar el resultado, debemos indicarle al programa dónde se encuentra dicho dato en memoria y, para ello, hacemos uso de una variable:"
      ],
      "metadata": {
        "id": "yzEL_RG4C2az"
      }
    },
    {
      "cell_type": "code",
      "source": [
        "# Guardamos en la variable suma el resultado de 1 + 2\n",
        "suma = 1 + 2\n",
        "\n",
        "# Accedemos al resultado de 1 + 2 a través de la variable suma\n",
        "print(suma)  "
      ],
      "metadata": {
        "colab": {
          "base_uri": "https://localhost:8080/"
        },
        "id": "9cV7tgpeLxao",
        "outputId": "12522eff-5947-4c14-9b09-ca7fad88371e"
      },
      "execution_count": 7,
      "outputs": [
        {
          "output_type": "stream",
          "name": "stdout",
          "text": [
            "3\n"
          ]
        }
      ]
    },
    {
      "cell_type": "markdown",
      "source": [
        "**Alcance de las variables Las variables en Python son locales por defecto. Esto quiere decir que las variables definidas y utilizadas en el bloque de código de una función, sólo tienen existencia dentro de la misma, y no interfieren con otras variables del resto del código. A su vez, las variables existentes fuera de una función, no son visibles dentro de la misma. En caso de que sea conveniente o necesario, una variable local puede convertirse en una variable global declarándola explícitamente como tal con la sentencia global (Se verá más adelante).**\n",
        "\n",
        "\n",
        "***Reglas y convención de nombres***\n",
        "\n",
        " Algunas reglas y convenciones de nombres para las variables: \n",
        "\n",
        " --Nunca use símbolos especiales como !, @, #, $, %, etc. \n",
        "\n",
        " --El primer carácter no puede ser un número o dígito. \n",
        "\n",
        " --Los nombres de cariable debería tener la combinación de letras en minúsculas (de a a la z) o MAYÚSCULAS (de la A a la Z) o dígitos (del 0 al 9) o un underscore (_). \n",
        "\n",
        " Por ejemplo, validas: \n",
        "\n",
        " • var_1 \n",
        "\n",
        " • VAR_UNO\n",
        "\n",
        " • varUNO\n",
        "\n",
        " • VarUno\n",
        "\n",
        " No vaiadas:\n",
        "\n",
        " • ¡var_1 \n",
        "\n",
        " • 2VAR_UNO\n",
        "\n",
        " • VAR-UNO\n",
        "\n",
        " Los nombres que comienzan con guión bajo (simple _ o doble __) se reservan para variables con significado especial \n",
        " \n",
        " --No pueden usarse como identificadores, las palabras reservadas."
      ],
      "metadata": {
        "id": "vCwFcrN_5EAV"
      }
    },
    {
      "cell_type": "markdown",
      "source": [
        "**Asignar un valor a una variable en Python**\n",
        "\n",
        "Tal y como hemos visto en el ejemplo anterior, para asignar un valor (un dato) a una variable se utiliza el operador de asignación =.\n",
        "\n",
        "En la operación de asignación se ven involucradas tres partes:\n",
        "\n",
        "    El operador de asignación =\n",
        "    Un identificador o nombre de variable, a la izquierda del operador\n",
        "    Un literal, una expresión, una llamada a una función o una combinación de todos ellos a la derecha del operador de asignación\n",
        "\n",
        "Ejemplos:"
      ],
      "metadata": {
        "id": "MR9nORuUMHWg"
      }
    },
    {
      "cell_type": "code",
      "source": [
        "# Asigna a la variable <a> el valor 1\n",
        "a = 1\n",
        "print (a)\n",
        "\n",
        "# Asigna a la variable <a> el resultado de la expresión 3 * 4\n",
        "a = 3 * 4\n",
        "print (a)\n",
        "\n",
        "# Asigna a la variable <a> la cadena de caracteres 'Aprendiendo Python'\n",
        "a = 'Aprendiendo Python'\n",
        "print (a)\n",
        "\n",
        "d = 6.699\n",
        "print (d)\n",
        "f = 6.67E-4\n",
        "print (f)\n",
        "f = 6.67E-6\n",
        "print (f)\n",
        "f = 6.67E+4\n",
        "print (f)\n",
        "\n",
        "# Asignaciones aumentadas\n",
        "\n",
        "a = 25\n",
        "print (a)\n",
        "\n",
        "a = 25\n",
        "a += 5\n",
        "print (a)\n",
        "\n",
        "a = 25\n",
        "a -= 10\n",
        "print (a)\n"
      ],
      "metadata": {
        "colab": {
          "base_uri": "https://localhost:8080/"
        },
        "id": "kWxZO_sXMOj4",
        "outputId": "a7a8f5cc-05c2-404d-d246-966d3a4a43dd"
      },
      "execution_count": 45,
      "outputs": [
        {
          "output_type": "stream",
          "name": "stdout",
          "text": [
            "1\n",
            "12\n",
            "Aprendiendo Python\n",
            "6.699\n",
            "0.000667\n",
            "6.67e-06\n",
            "66700.0\n",
            "25\n",
            "30\n",
            "15\n"
          ]
        }
      ]
    },
    {
      "cell_type": "markdown",
      "source": [
        "```\n",
        "Asignación aumentada: \tes equivalente a:\n",
        "\n",
        "a += b \t                a = a + b\n",
        "\n",
        "a -= b \t                a = a - b\n",
        "\n",
        "a *= b \t                a = a * b\n",
        "\n",
        "a /= b \t                a = a / b\n",
        "\n",
        "a **= b \t              a = a ** b\n",
        "\n",
        "a //= b \t              a = a // b\n",
        "\n",
        "a %= b \t                a = a % b\n",
        "\n",
        "```\n",
        "\n",
        "Pude verificar haciendo los ejecicios en la consola.\n",
        "\n",
        "Nota: Las dos notaciones son completamente equivalentes en el caso de los objetos inmutables (números, cadenas, tuplas), pero en el caso de los objetos mutables (listas, diccionarios, etc.) hay una pequeña diferencia que se comentara más adelante.\n",
        "\n",
        "**En Python no existen los operadores incremento (++) o decremento (--) que sí existen en otros lenguajes de programación:**\n",
        "\n",
        "Cuando asignamos un valor a una variable por primera vez, se dice que en ese lugar se define e inicializa la variable. En un script o programa escrito en Python, podemos definir variables en cualquier lugar del mismo. Sin embargo, es una buena práctica definir las variables que vayamos a utilizar al principio.\n",
        "\n",
        "Si intentamos usar una variable que no ha sido definida/inicializada previamente, el intérprete nos mostrará un error:"
      ],
      "metadata": {
        "id": "D2upJoQNOWts"
      }
    },
    {
      "cell_type": "code",
      "source": [
        "# Al ejecutar marcara error por que no ha sido definida o inicializada\n",
        "print(x)\n"
      ],
      "metadata": {
        "colab": {
          "base_uri": "https://localhost:8080/",
          "height": 185
        },
        "id": "3Dhhl82KOd5n",
        "outputId": "f238f041-5ea7-418c-f1e4-1ea9fa47e5b8"
      },
      "execution_count": 14,
      "outputs": [
        {
          "output_type": "error",
          "ename": "NameError",
          "evalue": "ignored",
          "traceback": [
            "\u001b[0;31m---------------------------------------------------------------------------\u001b[0m",
            "\u001b[0;31mNameError\u001b[0m                                 Traceback (most recent call last)",
            "\u001b[0;32m<ipython-input-14-d40c21a9d0c7>\u001b[0m in \u001b[0;36m<module>\u001b[0;34m()\u001b[0m\n\u001b[1;32m      1\u001b[0m \u001b[0;31m# Al ejecutar marcara error por que no ha siso definida o inicializada\u001b[0m\u001b[0;34m\u001b[0m\u001b[0;34m\u001b[0m\u001b[0;34m\u001b[0m\u001b[0m\n\u001b[0;32m----> 2\u001b[0;31m \u001b[0mprint\u001b[0m\u001b[0;34m(\u001b[0m\u001b[0mx\u001b[0m\u001b[0;34m)\u001b[0m\u001b[0;34m\u001b[0m\u001b[0;34m\u001b[0m\u001b[0m\n\u001b[0m",
            "\u001b[0;31mNameError\u001b[0m: name 'x' is not defined"
          ]
        }
      ]
    },
    {
      "cell_type": "markdown",
      "source": [
        "Al asignar un valor a una variable, dicho valor pertenece a un conjunto de valores conocido como tipo de dato. Un tipo de dato define una serie de características sobre esos datos y las variables que los contienen como, por ejemplo, las operaciones que se pueden realizar con ellos. En Python, los tipos de datos básicos son los numéricos (enteros, reales y complejos), los booleanos (True, False) y las cadenas de caracteres.\n",
        "\n",
        "Veamos un ejemplo:"
      ],
      "metadata": {
        "id": "kTHR_ajyP4AF"
      }
    },
    {
      "cell_type": "code",
      "source": [
        ""
      ],
      "metadata": {
        "id": "JCTU-daUV63C"
      },
      "execution_count": null,
      "outputs": []
    },
    {
      "cell_type": "code",
      "source": [
        "a = 1  # La variable a es de tipo entero (int)\n",
        "b = 'Hola'  # La variable b es de tipo cadena de caracteres\n",
        "print (a)\n",
        "print (b)"
      ],
      "metadata": {
        "colab": {
          "base_uri": "https://localhost:8080/"
        },
        "id": "4y9E9sDXV670",
        "outputId": "7739630f-092b-453f-c88e-0fbfa8968d97"
      },
      "execution_count": 16,
      "outputs": [
        {
          "output_type": "stream",
          "name": "stdout",
          "text": [
            "1\n",
            "Hola\n"
          ]
        }
      ]
    },
    {
      "cell_type": "markdown",
      "source": [
        "A diferencia de otros lenguajes, en Python no es necesario indicar el tipo de dato cuando se define una variable. Además, en cualquier momento, una variable que es de un tipo puede convertirse en una variable de otro tipo cualquiera:"
      ],
      "metadata": {
        "id": "XojzYg2pWIBV"
      }
    },
    {
      "cell_type": "code",
      "source": [
        "a = 1  # a es de tipo entero\n",
        "print (a)\n",
        "a = 'Hola'  # Ahora a es de tipo cadena de caracteres\n",
        "print (a)"
      ],
      "metadata": {
        "colab": {
          "base_uri": "https://localhost:8080/"
        },
        "id": "scFlZ5aZWJYk",
        "outputId": "ad584826-19e9-4d70-8f2b-422a1c7f39f8"
      },
      "execution_count": 17,
      "outputs": [
        {
          "output_type": "stream",
          "name": "stdout",
          "text": [
            "1\n",
            "Hola\n"
          ]
        }
      ]
    },
    {
      "cell_type": "markdown",
      "source": [
        "Se dice que Python (el intérprete) infiere el tipo de dato al que pertenece una variable en tiempo de ejecución, es decir, es cuando se ejecuta el programa, cuando conoce su tipo de dato y qué operaciones pueden llevarse a cabo con él."
      ],
      "metadata": {
        "id": "aPlcmoR0WfPJ"
      }
    },
    {
      "cell_type": "markdown",
      "source": [
        "**Modificar el valor de una variable en Python**\n",
        "\n",
        "Para modificar el valor de una variable en Python, basta con asignarle un nuevo valor en cualquier momento y lugar después de la definición.\n",
        "\n",
        "Por ejemplo:"
      ],
      "metadata": {
        "id": "0ZJQcJYRWq97"
      }
    },
    {
      "cell_type": "code",
      "source": [
        "a = 1\n",
        "print(a)\n",
        "\n",
        "a = 'Hola'\n",
        "print(a)\n",
        "\n",
        "a = 3\n",
        "print(a)"
      ],
      "metadata": {
        "colab": {
          "base_uri": "https://localhost:8080/"
        },
        "id": "t0CxGF5lXDOl",
        "outputId": "a67cde21-ce2d-4226-f286-2ede3c5edeb7"
      },
      "execution_count": 21,
      "outputs": [
        {
          "output_type": "stream",
          "name": "stdout",
          "text": [
            "1\n",
            "Hola\n",
            "3\n"
          ]
        }
      ]
    },
    {
      "cell_type": "markdown",
      "source": [
        "***Literales***\n",
        "\n",
        "Tal y como te he mencionado en un apartado anterior, a una variable se le puede asignar un literal, una expresión, una llamada a una función o una combinación de todos ellos.\n",
        "\n",
        "Ahora bien, ¿qué es un literal? Ya hemos visto ejemplos de literales en los apartados anteriores. Un literal no es más que un dato en crudo que se puede asignar directamente a una variable o formar parte de una expresión (Suele llamarse  el valor de la variable).\n",
        "\n",
        "Por economía del lenguaje, en estos apuntes se utilizan expresiones como \"guardar un valor en una variable\" en vez de \"guardar el valor en un objeto y asociar una variable al objeto\", pero el alumno debe tener presente lo que ocurre en realidad en Python.\n",
        "\n",
        "En el siguiente ejemplo se asigna a la variable a el literal 1:\n",
        "a = 1\n",
        "\n",
        "El literal 1 representa el valor numérico del número entero 1.\n",
        "\n",
        "Existen varios tipos de literales:\n",
        "\n",
        "    Numéricos (Enteros, reales y complejos): 1, 3, 3.14, -1, 3.14j, …\n",
        "    Cadenas de caracteres: 'Hola', 'Me gusta Python', …\n",
        "    Booleanos: True y False\n",
        "    El literal especial None. None significa ausencia de valor y es muy utilizado en programación."
      ],
      "metadata": {
        "id": "D6Vnk56RZgLF"
      }
    },
    {
      "cell_type": "markdown",
      "source": [
        "***Asignar un valor a múltiples variables***\n",
        "\n",
        "Ahora vas a descubrir cómo asignar un mismo valor a múltiples variables a la vez. Si tienes que definir varias variables con un mismo dato, puedes usar la siguiente estructura:"
      ],
      "metadata": {
        "id": "MwlRn-Z2aSk0"
      }
    },
    {
      "cell_type": "code",
      "source": [
        "a = b = c = 1  # Inicializa a, b y c con el valor 1\n",
        "print(a)\n",
        "print(b)\n",
        "print(c)"
      ],
      "metadata": {
        "colab": {
          "base_uri": "https://localhost:8080/"
        },
        "id": "nphRLpOoaaj6",
        "outputId": "7ec6f976-1cd5-427a-e865-721651fab593"
      },
      "execution_count": 23,
      "outputs": [
        {
          "output_type": "stream",
          "name": "stdout",
          "text": [
            "1\n",
            "1\n",
            "1\n"
          ]
        }
      ]
    },
    {
      "cell_type": "markdown",
      "source": [
        "***Asignar múltiples valores a múltiples variables***\n",
        "\n",
        "También es posible inicializar varias variables con un valor diferente cada una del siguiente modo: (No obstante, se suguiere no lo hagas así porque el código es menos legible)"
      ],
      "metadata": {
        "id": "WXMhlAMKbAP6"
      }
    },
    {
      "cell_type": "code",
      "source": [
        "a, b, c = 1, 2, 3\n",
        "print(a)\n",
        "print(b)\n",
        "print(c)"
      ],
      "metadata": {
        "colab": {
          "base_uri": "https://localhost:8080/"
        },
        "id": "JPXBPvJRbE_O",
        "outputId": "5a032c33-ad9e-469d-fd7f-15a7b05b24fa"
      },
      "execution_count": 24,
      "outputs": [
        {
          "output_type": "stream",
          "name": "stdout",
          "text": [
            "1\n",
            "2\n",
            "3\n"
          ]
        }
      ]
    },
    {
      "cell_type": "markdown",
      "source": [
        "Si se hace la asignación múltile y no coinciden en número de variables con el número de valores asignados, python marcara error:"
      ],
      "metadata": {
        "id": "ZD7JXq5RbNwT"
      }
    },
    {
      "cell_type": "code",
      "source": [
        "a, b, c = 4, 5\n",
        "print(a)\n",
        "print(b)\n",
        "print(c)"
      ],
      "metadata": {
        "colab": {
          "base_uri": "https://localhost:8080/",
          "height": 219
        },
        "id": "5tNPoPfAbiq7",
        "outputId": "25673dce-1950-45ab-fcb0-cce6d2c1e73d"
      },
      "execution_count": 25,
      "outputs": [
        {
          "output_type": "error",
          "ename": "ValueError",
          "evalue": "ignored",
          "traceback": [
            "\u001b[0;31m---------------------------------------------------------------------------\u001b[0m",
            "\u001b[0;31mValueError\u001b[0m                                Traceback (most recent call last)",
            "\u001b[0;32m<ipython-input-25-c79abead239b>\u001b[0m in \u001b[0;36m<module>\u001b[0;34m()\u001b[0m\n\u001b[0;32m----> 1\u001b[0;31m \u001b[0ma\u001b[0m\u001b[0;34m,\u001b[0m \u001b[0mb\u001b[0m\u001b[0;34m,\u001b[0m \u001b[0mc\u001b[0m \u001b[0;34m=\u001b[0m \u001b[0;36m4\u001b[0m\u001b[0;34m,\u001b[0m \u001b[0;36m5\u001b[0m\u001b[0;34m\u001b[0m\u001b[0;34m\u001b[0m\u001b[0m\n\u001b[0m\u001b[1;32m      2\u001b[0m \u001b[0mprint\u001b[0m\u001b[0;34m(\u001b[0m\u001b[0ma\u001b[0m\u001b[0;34m)\u001b[0m\u001b[0;34m\u001b[0m\u001b[0;34m\u001b[0m\u001b[0m\n\u001b[1;32m      3\u001b[0m \u001b[0mprint\u001b[0m\u001b[0;34m(\u001b[0m\u001b[0mb\u001b[0m\u001b[0;34m)\u001b[0m\u001b[0;34m\u001b[0m\u001b[0;34m\u001b[0m\u001b[0m\n\u001b[1;32m      4\u001b[0m \u001b[0mprint\u001b[0m\u001b[0;34m(\u001b[0m\u001b[0mc\u001b[0m\u001b[0;34m)\u001b[0m\u001b[0;34m\u001b[0m\u001b[0;34m\u001b[0m\u001b[0m\n",
            "\u001b[0;31mValueError\u001b[0m: not enough values to unpack (expected 3, got 2)"
          ]
        }
      ]
    },
    {
      "cell_type": "markdown",
      "source": [
        "***Variables y memoria***\n",
        "\n",
        "Veremos como asigna Python las direcciones de memoria a los datos y a las variables.\n",
        "\n",
        "Para empezar, te diré que en Python todo es un objeto. Sí, todavía no hemos visto el apartado de programación orientada a objetos con Python, pero ten presente que **en Python todo es un objeto**.\n",
        "\n",
        "Entonces, ¿qué ocurre cuando a la variable a le asigno el valor 1?\n",
        "a = 1\n",
        "\n",
        "Realmente, la variable a hace referencia al objeto que representa al número entero con valor 1. Si ahora creas una nueva variable b y le asignas también el valor 1, b está haciendo referencia al mismo objeto que la variable a. En definitiva, a y b hacen referencia al mismo objeto y, por tanto, están asociadas a la misma dirección de memoria. Esto no es así en otros lenguajes, pero esto es Python. En otros lenguajes a y b estarían asociadas a direcciones de memoria diferentes.\n",
        "\n",
        "Para que lo entiendas mejor te voy a presentar la función id() que viene con Python. La función id() devuelve un identificador único del objeto que se le pasa como parámetro. Este identificador es un entero el cuál se garantiza que es único e inmutable durante toda la vida del objeto en memoria.\n",
        "\n",
        "❗️ ***En la implementación de Python CPython (la más común), este identificador es realmente la dirección en memoria del objeto.***\n",
        "\n",
        "Veamos todo lo anterior con un ejemplo:"
      ],
      "metadata": {
        "id": "yWcvFFx3cClf"
      }
    },
    {
      "cell_type": "code",
      "source": [
        "# a y b hacen referencia al objeto que representa al entero 1\n",
        "# Referencian a la misma dirección de memoria\n",
        "a = 1\n",
        "b = 1\n",
        "\n",
        "print ('a y b hacen referencia al objeto que representa al entero 1')\n",
        "print ( id(1) )\n",
        "print ( id(a) )\n",
        "print ( id(b) )\n",
        "\n",
        "# b es asignado con el objeto que representa el entero 2\n",
        "# a y b referencian a diferentes direcciones de memoria\n",
        "# a mantiene la referencia al entero 1\n",
        "b = 2\n",
        "\n",
        "print ('b es asignado con el objeto que representa el entero 2')\n",
        "print ( id(2) )\n",
        "print ( id(b) )\n",
        "\n",
        "print ('a mantiene la referencia al entero 1')\n",
        "print ( id(a) )\n",
        "\n",
        "# a es asignada con el valor de b\n",
        "# a y b referencian al mismo objeto y, por tanto,\n",
        "# a la misma dirección de memoria\n",
        "\n",
        "print ('a es asignada con el valor de b')\n",
        "a = b\n",
        "\n",
        "print ('Ahora a ya tiene la misma direcon de memoria que b')\n",
        "print ( id(a) )\n",
        "\n",
        "print ('Ahora a ya tiene el mismo valor que b')\n",
        "print (a)\n"
      ],
      "metadata": {
        "colab": {
          "base_uri": "https://localhost:8080/"
        },
        "id": "H7RoBssohk0o",
        "outputId": "514d532f-03a7-4c17-a4f9-17cc1777e8e7"
      },
      "execution_count": 30,
      "outputs": [
        {
          "output_type": "stream",
          "name": "stdout",
          "text": [
            "a y b hacen referencia al objeto que representa al entero 1\n",
            "94377318382080\n",
            "94377318382080\n",
            "94377318382080\n",
            "b es asignado con el objeto que representa el entero 2\n",
            "94377318382112\n",
            "94377318382112\n",
            "a mantiene la referencia al entero 1\n",
            "94377318382080\n",
            "a es asignada con el valor de b\n",
            "Ahora a ya tiene la misma direcon de memoria que b\n",
            "94377318382112\n",
            "Ahora a ya tiene el mismo valor que b\n",
            "2\n"
          ]
        }
      ]
    },
    {
      "cell_type": "markdown",
      "source": [
        "# Hay que tener cuidado al modificar una variable que se ha utilizado para definir otras variables, porque esto puede afectar al resto de variables:\n",
        "\n",
        "#    Si se trata objetos inmutables, el resto de variables no resultan afectadas, como muestra el siguiente ejemplo:"
      ],
      "metadata": {
        "id": "1__TnI_ywImB"
      }
    },
    {
      "cell_type": "code",
      "source": [
        "a = 10\n",
        "b = a\n",
        "print (a,b) \n",
        "# Cambiamos a y no afectamos a b\n",
        "a = 20\n",
        "print (a,b) \n"
      ],
      "metadata": {
        "colab": {
          "base_uri": "https://localhost:8080/"
        },
        "id": "anJDNxQWwkBo",
        "outputId": "4bfd449d-fac8-4225-cff2-25e5c5fe744a"
      },
      "execution_count": 49,
      "outputs": [
        {
          "output_type": "stream",
          "name": "stdout",
          "text": [
            "10 10\n",
            "20 10\n"
          ]
        }
      ]
    },
    {
      "cell_type": "markdown",
      "source": [
        "# Pero si se trata de objetos mutables y al modificar la variable se modifica el objeto, el resto de variables sí resultan afectadas, como muestra el siguiente ejemplo: "
      ],
      "metadata": {
        "id": "llqBpFa9xQsh"
      }
    },
    {
      "cell_type": "code",
      "source": [
        "# a la definimos como una lista de un elemento (Se verá con más detalle este  tipo de variables)\n",
        "a = [10]\n",
        "b = a\n",
        "print (a,b) \n",
        "# Cambiamos a y SI afectamos a b\n",
        "a[0] = 20\n",
        "print (a,b) "
      ],
      "metadata": {
        "colab": {
          "base_uri": "https://localhost:8080/"
        },
        "id": "yHxYcS1xxUym",
        "outputId": "d8e655b5-5257-4341-e47a-9251cc86d7e5"
      },
      "execution_count": 51,
      "outputs": [
        {
          "output_type": "stream",
          "name": "stdout",
          "text": [
            "[10] [10]\n",
            "[20] [20]\n"
          ]
        }
      ]
    }
  ]
}